{
 "cells": [
  {
   "cell_type": "code",
   "execution_count": 34,
   "metadata": {},
   "outputs": [],
   "source": [
    "%matplotlib inline\n",
    "\n",
    "import matplotlib.pyplot as plt\n",
    "import pandas as pd\n",
    "import numpy as np\n",
    "\n",
    "from IPython.display import IFrame\n",
    "from IPython.core.display import display\n",
    "import os\n",
    "import time\n",
    "import seaborn as sns"
   ]
  },
  {
   "cell_type": "markdown",
   "metadata": {},
   "source": [
    "### Read the prepared data #####"
   ]
  },
  {
   "cell_type": "code",
   "execution_count": 4,
   "metadata": {},
   "outputs": [],
   "source": [
    "#### Function definition to read the dataset\n",
    "\n",
    "def read_crime_data():\n",
    "    \n",
    "    file = os.path.join('nonull_date_binary_arr_domestic_corr_removecol.csv')\n",
    "    crime_df = pd.read_csv(file)\n",
    "    return crime_df"
   ]
  },
  {
   "cell_type": "code",
   "execution_count": 5,
   "metadata": {},
   "outputs": [],
   "source": [
    "df=read_crime_data()"
   ]
  },
  {
   "cell_type": "code",
   "execution_count": 6,
   "metadata": {},
   "outputs": [
    {
     "data": {
      "text/html": [
       "<div>\n",
       "<style scoped>\n",
       "    .dataframe tbody tr th:only-of-type {\n",
       "        vertical-align: middle;\n",
       "    }\n",
       "\n",
       "    .dataframe tbody tr th {\n",
       "        vertical-align: top;\n",
       "    }\n",
       "\n",
       "    .dataframe thead th {\n",
       "        text-align: right;\n",
       "    }\n",
       "</style>\n",
       "<table border=\"1\" class=\"dataframe\">\n",
       "  <thead>\n",
       "    <tr style=\"text-align: right;\">\n",
       "      <th></th>\n",
       "      <th>ID</th>\n",
       "      <th>Date</th>\n",
       "      <th>IUCR</th>\n",
       "      <th>CrimeType</th>\n",
       "      <th>Location Description</th>\n",
       "      <th>Arrest</th>\n",
       "      <th>Domestic</th>\n",
       "      <th>Ward</th>\n",
       "      <th>Community Area</th>\n",
       "      <th>FBI Code</th>\n",
       "      <th>...</th>\n",
       "      <th>Longitude</th>\n",
       "      <th>Zip Codes</th>\n",
       "      <th>Community Areas</th>\n",
       "      <th>Census Tracts</th>\n",
       "      <th>Wards</th>\n",
       "      <th>Boundaries - ZIP Codes</th>\n",
       "      <th>Police Districts</th>\n",
       "      <th>Police Beats</th>\n",
       "      <th>OnlyDate</th>\n",
       "      <th>Time</th>\n",
       "    </tr>\n",
       "  </thead>\n",
       "  <tbody>\n",
       "    <tr>\n",
       "      <th>0</th>\n",
       "      <td>11859143</td>\n",
       "      <td>10/12/2019 11:58:00 PM</td>\n",
       "      <td>1310</td>\n",
       "      <td>CRIMINAL DAMAGE</td>\n",
       "      <td>APARTMENT</td>\n",
       "      <td>0</td>\n",
       "      <td>0</td>\n",
       "      <td>6.0</td>\n",
       "      <td>67.0</td>\n",
       "      <td>14</td>\n",
       "      <td>...</td>\n",
       "      <td>-87.657826</td>\n",
       "      <td>22257.0</td>\n",
       "      <td>65.0</td>\n",
       "      <td>21.0</td>\n",
       "      <td>32.0</td>\n",
       "      <td>23.0</td>\n",
       "      <td>17.0</td>\n",
       "      <td>216.0</td>\n",
       "      <td>2019-10-12</td>\n",
       "      <td>11:58:00 PM</td>\n",
       "    </tr>\n",
       "    <tr>\n",
       "      <th>1</th>\n",
       "      <td>11859039</td>\n",
       "      <td>10/12/2019 11:57:00 PM</td>\n",
       "      <td>2092</td>\n",
       "      <td>NARCOTICS</td>\n",
       "      <td>PARKING LOT/GARAGE(NON.RESID.)</td>\n",
       "      <td>1</td>\n",
       "      <td>0</td>\n",
       "      <td>28.0</td>\n",
       "      <td>26.0</td>\n",
       "      <td>18</td>\n",
       "      <td>...</td>\n",
       "      <td>-87.723882</td>\n",
       "      <td>21572.0</td>\n",
       "      <td>27.0</td>\n",
       "      <td>736.0</td>\n",
       "      <td>23.0</td>\n",
       "      <td>30.0</td>\n",
       "      <td>16.0</td>\n",
       "      <td>82.0</td>\n",
       "      <td>2019-10-12</td>\n",
       "      <td>11:57:00 PM</td>\n",
       "    </tr>\n",
       "    <tr>\n",
       "      <th>2</th>\n",
       "      <td>11859098</td>\n",
       "      <td>10/12/2019 11:55:00 PM</td>\n",
       "      <td>0454</td>\n",
       "      <td>BATTERY</td>\n",
       "      <td>STREET</td>\n",
       "      <td>0</td>\n",
       "      <td>0</td>\n",
       "      <td>24.0</td>\n",
       "      <td>29.0</td>\n",
       "      <td>08B</td>\n",
       "      <td>...</td>\n",
       "      <td>-87.712695</td>\n",
       "      <td>21569.0</td>\n",
       "      <td>30.0</td>\n",
       "      <td>800.0</td>\n",
       "      <td>14.0</td>\n",
       "      <td>57.0</td>\n",
       "      <td>21.0</td>\n",
       "      <td>153.0</td>\n",
       "      <td>2019-10-12</td>\n",
       "      <td>11:55:00 PM</td>\n",
       "    </tr>\n",
       "  </tbody>\n",
       "</table>\n",
       "<p>3 rows × 23 columns</p>\n",
       "</div>"
      ],
      "text/plain": [
       "         ID                    Date  IUCR        CrimeType  \\\n",
       "0  11859143  10/12/2019 11:58:00 PM  1310  CRIMINAL DAMAGE   \n",
       "1  11859039  10/12/2019 11:57:00 PM  2092        NARCOTICS   \n",
       "2  11859098  10/12/2019 11:55:00 PM  0454          BATTERY   \n",
       "\n",
       "             Location Description  Arrest  Domestic  Ward  Community Area  \\\n",
       "0                       APARTMENT       0         0   6.0            67.0   \n",
       "1  PARKING LOT/GARAGE(NON.RESID.)       1         0  28.0            26.0   \n",
       "2                          STREET       0         0  24.0            29.0   \n",
       "\n",
       "  FBI Code  ...  Longitude Zip Codes  Community Areas  Census Tracts  Wards  \\\n",
       "0       14  ... -87.657826   22257.0             65.0           21.0   32.0   \n",
       "1       18  ... -87.723882   21572.0             27.0          736.0   23.0   \n",
       "2      08B  ... -87.712695   21569.0             30.0          800.0   14.0   \n",
       "\n",
       "   Boundaries - ZIP Codes  Police Districts  Police Beats    OnlyDate  \\\n",
       "0                    23.0              17.0         216.0  2019-10-12   \n",
       "1                    30.0              16.0          82.0  2019-10-12   \n",
       "2                    57.0              21.0         153.0  2019-10-12   \n",
       "\n",
       "          Time  \n",
       "0  11:58:00 PM  \n",
       "1  11:57:00 PM  \n",
       "2  11:55:00 PM  \n",
       "\n",
       "[3 rows x 23 columns]"
      ]
     },
     "execution_count": 6,
     "metadata": {},
     "output_type": "execute_result"
    }
   ],
   "source": [
    "df.head(3)"
   ]
  },
  {
   "cell_type": "code",
   "execution_count": 11,
   "metadata": {},
   "outputs": [],
   "source": [
    "#df['time_hour'] = pd.to_datetime(df['Time']).dt.hour\n",
    "\n",
    "df['time_hour'] = pd.to_datetime(df['Time']).dt.strftime('%H:%M:%S')"
   ]
  },
  {
   "cell_type": "code",
   "execution_count": 13,
   "metadata": {},
   "outputs": [],
   "source": [
    "df['hourofday'] = pd.to_datetime(df['time_hour']).dt.hour"
   ]
  },
  {
   "cell_type": "code",
   "execution_count": 14,
   "metadata": {},
   "outputs": [
    {
     "data": {
      "text/html": [
       "<div>\n",
       "<style scoped>\n",
       "    .dataframe tbody tr th:only-of-type {\n",
       "        vertical-align: middle;\n",
       "    }\n",
       "\n",
       "    .dataframe tbody tr th {\n",
       "        vertical-align: top;\n",
       "    }\n",
       "\n",
       "    .dataframe thead th {\n",
       "        text-align: right;\n",
       "    }\n",
       "</style>\n",
       "<table border=\"1\" class=\"dataframe\">\n",
       "  <thead>\n",
       "    <tr style=\"text-align: right;\">\n",
       "      <th></th>\n",
       "      <th>ID</th>\n",
       "      <th>Date</th>\n",
       "      <th>IUCR</th>\n",
       "      <th>CrimeType</th>\n",
       "      <th>Location Description</th>\n",
       "      <th>Arrest</th>\n",
       "      <th>Domestic</th>\n",
       "      <th>Ward</th>\n",
       "      <th>Community Area</th>\n",
       "      <th>FBI Code</th>\n",
       "      <th>...</th>\n",
       "      <th>Community Areas</th>\n",
       "      <th>Census Tracts</th>\n",
       "      <th>Wards</th>\n",
       "      <th>Boundaries - ZIP Codes</th>\n",
       "      <th>Police Districts</th>\n",
       "      <th>Police Beats</th>\n",
       "      <th>OnlyDate</th>\n",
       "      <th>Time</th>\n",
       "      <th>time_hour</th>\n",
       "      <th>hourofday</th>\n",
       "    </tr>\n",
       "  </thead>\n",
       "  <tbody>\n",
       "    <tr>\n",
       "      <th>0</th>\n",
       "      <td>11859143</td>\n",
       "      <td>10/12/2019 11:58:00 PM</td>\n",
       "      <td>1310</td>\n",
       "      <td>CRIMINAL DAMAGE</td>\n",
       "      <td>APARTMENT</td>\n",
       "      <td>0</td>\n",
       "      <td>0</td>\n",
       "      <td>6.0</td>\n",
       "      <td>67.0</td>\n",
       "      <td>14</td>\n",
       "      <td>...</td>\n",
       "      <td>65.0</td>\n",
       "      <td>21.0</td>\n",
       "      <td>32.0</td>\n",
       "      <td>23.0</td>\n",
       "      <td>17.0</td>\n",
       "      <td>216.0</td>\n",
       "      <td>2019-10-12</td>\n",
       "      <td>11:58:00 PM</td>\n",
       "      <td>23:58:00</td>\n",
       "      <td>23</td>\n",
       "    </tr>\n",
       "    <tr>\n",
       "      <th>1</th>\n",
       "      <td>11859039</td>\n",
       "      <td>10/12/2019 11:57:00 PM</td>\n",
       "      <td>2092</td>\n",
       "      <td>NARCOTICS</td>\n",
       "      <td>PARKING LOT/GARAGE(NON.RESID.)</td>\n",
       "      <td>1</td>\n",
       "      <td>0</td>\n",
       "      <td>28.0</td>\n",
       "      <td>26.0</td>\n",
       "      <td>18</td>\n",
       "      <td>...</td>\n",
       "      <td>27.0</td>\n",
       "      <td>736.0</td>\n",
       "      <td>23.0</td>\n",
       "      <td>30.0</td>\n",
       "      <td>16.0</td>\n",
       "      <td>82.0</td>\n",
       "      <td>2019-10-12</td>\n",
       "      <td>11:57:00 PM</td>\n",
       "      <td>23:57:00</td>\n",
       "      <td>23</td>\n",
       "    </tr>\n",
       "    <tr>\n",
       "      <th>2</th>\n",
       "      <td>11859098</td>\n",
       "      <td>10/12/2019 11:55:00 PM</td>\n",
       "      <td>0454</td>\n",
       "      <td>BATTERY</td>\n",
       "      <td>STREET</td>\n",
       "      <td>0</td>\n",
       "      <td>0</td>\n",
       "      <td>24.0</td>\n",
       "      <td>29.0</td>\n",
       "      <td>08B</td>\n",
       "      <td>...</td>\n",
       "      <td>30.0</td>\n",
       "      <td>800.0</td>\n",
       "      <td>14.0</td>\n",
       "      <td>57.0</td>\n",
       "      <td>21.0</td>\n",
       "      <td>153.0</td>\n",
       "      <td>2019-10-12</td>\n",
       "      <td>11:55:00 PM</td>\n",
       "      <td>23:55:00</td>\n",
       "      <td>23</td>\n",
       "    </tr>\n",
       "  </tbody>\n",
       "</table>\n",
       "<p>3 rows × 25 columns</p>\n",
       "</div>"
      ],
      "text/plain": [
       "         ID                    Date  IUCR        CrimeType  \\\n",
       "0  11859143  10/12/2019 11:58:00 PM  1310  CRIMINAL DAMAGE   \n",
       "1  11859039  10/12/2019 11:57:00 PM  2092        NARCOTICS   \n",
       "2  11859098  10/12/2019 11:55:00 PM  0454          BATTERY   \n",
       "\n",
       "             Location Description  Arrest  Domestic  Ward  Community Area  \\\n",
       "0                       APARTMENT       0         0   6.0            67.0   \n",
       "1  PARKING LOT/GARAGE(NON.RESID.)       1         0  28.0            26.0   \n",
       "2                          STREET       0         0  24.0            29.0   \n",
       "\n",
       "  FBI Code  ...  Community Areas Census Tracts  Wards  Boundaries - ZIP Codes  \\\n",
       "0       14  ...             65.0          21.0   32.0                    23.0   \n",
       "1       18  ...             27.0         736.0   23.0                    30.0   \n",
       "2      08B  ...             30.0         800.0   14.0                    57.0   \n",
       "\n",
       "   Police Districts  Police Beats    OnlyDate         Time  time_hour  \\\n",
       "0              17.0         216.0  2019-10-12  11:58:00 PM   23:58:00   \n",
       "1              16.0          82.0  2019-10-12  11:57:00 PM   23:57:00   \n",
       "2              21.0         153.0  2019-10-12  11:55:00 PM   23:55:00   \n",
       "\n",
       "   hourofday  \n",
       "0         23  \n",
       "1         23  \n",
       "2         23  \n",
       "\n",
       "[3 rows x 25 columns]"
      ]
     },
     "execution_count": 14,
     "metadata": {},
     "output_type": "execute_result"
    }
   ],
   "source": []
  },
  {
   "cell_type": "code",
   "execution_count": 15,
   "metadata": {},
   "outputs": [],
   "source": [
    "### Write the file with cleaned data.\n",
    "export_csv = df.to_csv (r'removed_columns_dropna_binaryarrest_corr_hour.csv', index = None, header=True)"
   ]
  },
  {
   "cell_type": "markdown",
   "metadata": {},
   "source": [
    "### Machine learning part. Read the data into K-fold and train the model"
   ]
  },
  {
   "cell_type": "code",
   "execution_count": 5,
   "metadata": {},
   "outputs": [],
   "source": [
    "def read_crime_data():\n",
    "    \n",
    "    file = os.path.join('removed_columns_dropna_binaryarrest_corr_hour.csv')\n",
    "    crime_df = pd.read_csv(file)\n",
    "    return crime_df"
   ]
  },
  {
   "cell_type": "code",
   "execution_count": 6,
   "metadata": {},
   "outputs": [],
   "source": [
    "df_cleaned=read_crime_data()"
   ]
  },
  {
   "cell_type": "code",
   "execution_count": 7,
   "metadata": {},
   "outputs": [
    {
     "name": "stdout",
     "output_type": "stream",
     "text": [
      "Number of Arrest cases:  1719183 (27.35%)\n",
      "Number of No Arrest cases: 4567784 (72.65%)\n"
     ]
    }
   ],
   "source": [
    "### Check distribution\n",
    "num_obs = len(df_cleaned)\n",
    "num_true = len(df_cleaned.loc[df_cleaned['Arrest'] == 1])\n",
    "num_false = len(df_cleaned.loc[df_cleaned['Arrest'] == 0])\n",
    "print(\"Number of Arrest cases:  {0} ({1:2.2f}%)\".format(num_true, (num_true/num_obs) * 100))\n",
    "print(\"Number of No Arrest cases: {0} ({1:2.2f}%)\".format(num_false, (num_false/num_obs) * 100))"
   ]
  },
  {
   "cell_type": "code",
   "execution_count": 9,
   "metadata": {},
   "outputs": [
    {
     "data": {
      "text/html": [
       "<div>\n",
       "<style scoped>\n",
       "    .dataframe tbody tr th:only-of-type {\n",
       "        vertical-align: middle;\n",
       "    }\n",
       "\n",
       "    .dataframe tbody tr th {\n",
       "        vertical-align: top;\n",
       "    }\n",
       "\n",
       "    .dataframe thead th {\n",
       "        text-align: right;\n",
       "    }\n",
       "</style>\n",
       "<table border=\"1\" class=\"dataframe\">\n",
       "  <thead>\n",
       "    <tr style=\"text-align: right;\">\n",
       "      <th></th>\n",
       "      <th>ID</th>\n",
       "      <th>Date</th>\n",
       "      <th>IUCR</th>\n",
       "      <th>CrimeType</th>\n",
       "      <th>Location Description</th>\n",
       "      <th>Arrest</th>\n",
       "      <th>Domestic</th>\n",
       "      <th>Ward</th>\n",
       "      <th>Community Area</th>\n",
       "      <th>FBI Code</th>\n",
       "      <th>...</th>\n",
       "      <th>Wards</th>\n",
       "      <th>Boundaries - ZIP Codes</th>\n",
       "      <th>Police Districts</th>\n",
       "      <th>Police Beats</th>\n",
       "      <th>OnlyDate</th>\n",
       "      <th>Time</th>\n",
       "      <th>time_hour</th>\n",
       "      <th>hourofday</th>\n",
       "      <th>sin_time</th>\n",
       "      <th>cos_time</th>\n",
       "    </tr>\n",
       "  </thead>\n",
       "  <tbody>\n",
       "    <tr>\n",
       "      <th>0</th>\n",
       "      <td>11859143</td>\n",
       "      <td>10/12/2019 11:58:00 PM</td>\n",
       "      <td>1310</td>\n",
       "      <td>CRIMINAL DAMAGE</td>\n",
       "      <td>APARTMENT</td>\n",
       "      <td>0</td>\n",
       "      <td>0</td>\n",
       "      <td>6.0</td>\n",
       "      <td>67.0</td>\n",
       "      <td>14</td>\n",
       "      <td>...</td>\n",
       "      <td>32.0</td>\n",
       "      <td>23.0</td>\n",
       "      <td>17.0</td>\n",
       "      <td>216.0</td>\n",
       "      <td>2019-10-12</td>\n",
       "      <td>11:58:00 PM</td>\n",
       "      <td>23:58:00</td>\n",
       "      <td>23</td>\n",
       "      <td>-2.449294e-16</td>\n",
       "      <td>1.0</td>\n",
       "    </tr>\n",
       "    <tr>\n",
       "      <th>1</th>\n",
       "      <td>11859039</td>\n",
       "      <td>10/12/2019 11:57:00 PM</td>\n",
       "      <td>2092</td>\n",
       "      <td>NARCOTICS</td>\n",
       "      <td>PARKING LOT/GARAGE(NON.RESID.)</td>\n",
       "      <td>1</td>\n",
       "      <td>0</td>\n",
       "      <td>28.0</td>\n",
       "      <td>26.0</td>\n",
       "      <td>18</td>\n",
       "      <td>...</td>\n",
       "      <td>23.0</td>\n",
       "      <td>30.0</td>\n",
       "      <td>16.0</td>\n",
       "      <td>82.0</td>\n",
       "      <td>2019-10-12</td>\n",
       "      <td>11:57:00 PM</td>\n",
       "      <td>23:57:00</td>\n",
       "      <td>23</td>\n",
       "      <td>-2.449294e-16</td>\n",
       "      <td>1.0</td>\n",
       "    </tr>\n",
       "  </tbody>\n",
       "</table>\n",
       "<p>2 rows × 27 columns</p>\n",
       "</div>"
      ],
      "text/plain": [
       "         ID                    Date  IUCR        CrimeType  \\\n",
       "0  11859143  10/12/2019 11:58:00 PM  1310  CRIMINAL DAMAGE   \n",
       "1  11859039  10/12/2019 11:57:00 PM  2092        NARCOTICS   \n",
       "\n",
       "             Location Description  Arrest  Domestic  Ward  Community Area  \\\n",
       "0                       APARTMENT       0         0   6.0            67.0   \n",
       "1  PARKING LOT/GARAGE(NON.RESID.)       1         0  28.0            26.0   \n",
       "\n",
       "  FBI Code  ...  Wards Boundaries - ZIP Codes  Police Districts  Police Beats  \\\n",
       "0       14  ...   32.0                   23.0              17.0         216.0   \n",
       "1       18  ...   23.0                   30.0              16.0          82.0   \n",
       "\n",
       "     OnlyDate         Time  time_hour  hourofday      sin_time  cos_time  \n",
       "0  2019-10-12  11:58:00 PM   23:58:00         23 -2.449294e-16       1.0  \n",
       "1  2019-10-12  11:57:00 PM   23:57:00         23 -2.449294e-16       1.0  \n",
       "\n",
       "[2 rows x 27 columns]"
      ]
     },
     "execution_count": 9,
     "metadata": {},
     "output_type": "execute_result"
    }
   ],
   "source": [
    "import numpy as np\n",
    "hours_in_day=23\n",
    "df_cleaned['sin_time']=np.sin(2*np.pi*df_cleaned.hourofday/hours_in_day)\n",
    "df_cleaned['cos_time']=np.cos(2*np.pi*df_cleaned.hourofday/hours_in_day)\n",
    "\n",
    "df_cleaned.head(2)"
   ]
  },
  {
   "cell_type": "code",
   "execution_count": 21,
   "metadata": {},
   "outputs": [
    {
     "data": {
      "image/png": "[encoded data removed]",
      "text/plain": [
       "<Figure size 432x288 with 1 Axes>"
      ]
     },
     "metadata": {
      "needs_background": "light"
     },
     "output_type": "display_data"
    }
   ],
   "source": [
    "df_cleaned.sin_time.plot()"
   ]
  },
  {
   "cell_type": "code",
   "execution_count": 24,
   "metadata": {},
   "outputs": [
    {
     "data": {
      "text/plain": [
       "<matplotlib.axes._subplots.AxesSubplot at 0x162f3ba3198>"
      ]
     },
     "execution_count": 24,
     "metadata": {},
     "output_type": "execute_result"
    },
    {
     "data": {
      "image/png": "[encoded data removed]",
      "text/plain": [
       "<Figure size 432x288 with 1 Axes>"
      ]
     },
     "metadata": {
      "needs_background": "light"
     },
     "output_type": "display_data"
    },
    {
     "data": {
      "image/png": "[encoded data removed]",
      "text/plain": [
       "<Figure size 432x288 with 1 Axes>"
      ]
     },
     "metadata": {
      "needs_background": "light"
     },
     "output_type": "display_data"
    }
   ],
   "source": [
    "df_cleaned.cos_time.plot()\n",
    "df_cleaned.sample(50).plot.line('sin_time')"
   ]
  },
  {
   "cell_type": "code",
   "execution_count": 10,
   "metadata": {},
   "outputs": [
    {
     "data": {
      "image/png": "[encoded data removed]",
      "text/plain": [
       "<Figure size 432x288 with 1 Axes>"
      ]
     },
     "metadata": {
      "needs_background": "light"
     },
     "output_type": "display_data"
    }
   ],
   "source": [
    "df_cleaned.sample(50).plot.scatter('sin_time','cos_time').set_aspect('equal')"
   ]
  },
  {
   "cell_type": "markdown",
   "metadata": {},
   "source": [
    "### Machine learning with random forest, naive bayes, Logistic regression"
   ]
  },
  {
   "cell_type": "code",
   "execution_count": null,
   "metadata": {},
   "outputs": [],
   "source": []
  },
  {
   "cell_type": "code",
   "execution_count": 11,
   "metadata": {},
   "outputs": [],
   "source": [
    "\n",
    "df_cleaned['Ward'].replace(regex=True,inplace=True,to_replace=r'\\D',value=r'')"
   ]
  },
  {
   "cell_type": "code",
   "execution_count": 12,
   "metadata": {},
   "outputs": [
    {
     "data": {
      "text/html": [
       "<div>\n",
       "<style scoped>\n",
       "    .dataframe tbody tr th:only-of-type {\n",
       "        vertical-align: middle;\n",
       "    }\n",
       "\n",
       "    .dataframe tbody tr th {\n",
       "        vertical-align: top;\n",
       "    }\n",
       "\n",
       "    .dataframe thead th {\n",
       "        text-align: right;\n",
       "    }\n",
       "</style>\n",
       "<table border=\"1\" class=\"dataframe\">\n",
       "  <thead>\n",
       "    <tr style=\"text-align: right;\">\n",
       "      <th></th>\n",
       "      <th>ID</th>\n",
       "      <th>Date</th>\n",
       "      <th>IUCR</th>\n",
       "      <th>CrimeType</th>\n",
       "      <th>Location Description</th>\n",
       "      <th>Arrest</th>\n",
       "      <th>Domestic</th>\n",
       "      <th>Ward</th>\n",
       "      <th>Community Area</th>\n",
       "      <th>FBI Code</th>\n",
       "      <th>...</th>\n",
       "      <th>Wards</th>\n",
       "      <th>Boundaries - ZIP Codes</th>\n",
       "      <th>Police Districts</th>\n",
       "      <th>Police Beats</th>\n",
       "      <th>OnlyDate</th>\n",
       "      <th>Time</th>\n",
       "      <th>time_hour</th>\n",
       "      <th>hourofday</th>\n",
       "      <th>sin_time</th>\n",
       "      <th>cos_time</th>\n",
       "    </tr>\n",
       "  </thead>\n",
       "  <tbody>\n",
       "    <tr>\n",
       "      <th>0</th>\n",
       "      <td>11859143</td>\n",
       "      <td>10/12/2019 11:58:00 PM</td>\n",
       "      <td>1310</td>\n",
       "      <td>CRIMINAL DAMAGE</td>\n",
       "      <td>APARTMENT</td>\n",
       "      <td>0</td>\n",
       "      <td>0</td>\n",
       "      <td>6.0</td>\n",
       "      <td>67.0</td>\n",
       "      <td>14</td>\n",
       "      <td>...</td>\n",
       "      <td>32.0</td>\n",
       "      <td>23.0</td>\n",
       "      <td>17.0</td>\n",
       "      <td>216.0</td>\n",
       "      <td>2019-10-12</td>\n",
       "      <td>11:58:00 PM</td>\n",
       "      <td>23:58:00</td>\n",
       "      <td>23</td>\n",
       "      <td>-2.449294e-16</td>\n",
       "      <td>1.0</td>\n",
       "    </tr>\n",
       "    <tr>\n",
       "      <th>1</th>\n",
       "      <td>11859039</td>\n",
       "      <td>10/12/2019 11:57:00 PM</td>\n",
       "      <td>2092</td>\n",
       "      <td>NARCOTICS</td>\n",
       "      <td>PARKING LOT/GARAGE(NON.RESID.)</td>\n",
       "      <td>1</td>\n",
       "      <td>0</td>\n",
       "      <td>28.0</td>\n",
       "      <td>26.0</td>\n",
       "      <td>18</td>\n",
       "      <td>...</td>\n",
       "      <td>23.0</td>\n",
       "      <td>30.0</td>\n",
       "      <td>16.0</td>\n",
       "      <td>82.0</td>\n",
       "      <td>2019-10-12</td>\n",
       "      <td>11:57:00 PM</td>\n",
       "      <td>23:57:00</td>\n",
       "      <td>23</td>\n",
       "      <td>-2.449294e-16</td>\n",
       "      <td>1.0</td>\n",
       "    </tr>\n",
       "  </tbody>\n",
       "</table>\n",
       "<p>2 rows × 27 columns</p>\n",
       "</div>"
      ],
      "text/plain": [
       "         ID                    Date  IUCR        CrimeType  \\\n",
       "0  11859143  10/12/2019 11:58:00 PM  1310  CRIMINAL DAMAGE   \n",
       "1  11859039  10/12/2019 11:57:00 PM  2092        NARCOTICS   \n",
       "\n",
       "             Location Description  Arrest  Domestic  Ward  Community Area  \\\n",
       "0                       APARTMENT       0         0   6.0            67.0   \n",
       "1  PARKING LOT/GARAGE(NON.RESID.)       1         0  28.0            26.0   \n",
       "\n",
       "  FBI Code  ...  Wards Boundaries - ZIP Codes  Police Districts  Police Beats  \\\n",
       "0       14  ...   32.0                   23.0              17.0         216.0   \n",
       "1       18  ...   23.0                   30.0              16.0          82.0   \n",
       "\n",
       "     OnlyDate         Time  time_hour  hourofday      sin_time  cos_time  \n",
       "0  2019-10-12  11:58:00 PM   23:58:00         23 -2.449294e-16       1.0  \n",
       "1  2019-10-12  11:57:00 PM   23:57:00         23 -2.449294e-16       1.0  \n",
       "\n",
       "[2 rows x 27 columns]"
      ]
     },
     "execution_count": 12,
     "metadata": {},
     "output_type": "execute_result"
    }
   ],
   "source": [
    "df_cleaned.head(2)"
   ]
  },
  {
   "cell_type": "code",
   "execution_count": 25,
   "metadata": {},
   "outputs": [
    {
     "data": {
      "text/plain": [
       "array([ 6., 28., 24., 32.,  8., 15., 27., 14., 16., 42.,  1., 34., 13.,\n",
       "       35., 49.,  2., 10., 44., 36.,  5., 17., 37.,  9.,  3., 18., 33.,\n",
       "       25.,  4., 46., 22., 48., 21., 20., 23., 47.,  7., 43., 29., 45.,\n",
       "       38., 26., 19., 50., 12., 11., 41., 31., 40., 30., 39.])"
      ]
     },
     "execution_count": 25,
     "metadata": {},
     "output_type": "execute_result"
    }
   ],
   "source": [
    "df_cleaned.Ward.unique()"
   ]
  },
  {
   "cell_type": "code",
   "execution_count": 30,
   "metadata": {},
   "outputs": [],
   "source": [
    "df_cleaned['IUCR'].replace(regex=True,inplace=True,to_replace=r'\\D',value=r'')"
   ]
  },
  {
   "cell_type": "code",
   "execution_count": null,
   "metadata": {},
   "outputs": [],
   "source": [
    "### Write the file with cleaned data.\n",
    "export_csv = df_cleaned.to_csv (r'removed_columns_dropna_binaryarrest_corr_hour_sin_coscsv', index = None, header=True)"
   ]
  },
  {
   "cell_type": "code",
   "execution_count": 24,
   "metadata": {},
   "outputs": [
    {
     "data": {
      "text/html": [
       "<div>\n",
       "<style scoped>\n",
       "    .dataframe tbody tr th:only-of-type {\n",
       "        vertical-align: middle;\n",
       "    }\n",
       "\n",
       "    .dataframe tbody tr th {\n",
       "        vertical-align: top;\n",
       "    }\n",
       "\n",
       "    .dataframe thead th {\n",
       "        text-align: right;\n",
       "    }\n",
       "</style>\n",
       "<table border=\"1\" class=\"dataframe\">\n",
       "  <thead>\n",
       "    <tr style=\"text-align: right;\">\n",
       "      <th></th>\n",
       "      <th>ID</th>\n",
       "      <th>Date</th>\n",
       "      <th>IUCR</th>\n",
       "      <th>CrimeType</th>\n",
       "      <th>Location Description</th>\n",
       "      <th>Arrest</th>\n",
       "      <th>Domestic</th>\n",
       "      <th>Ward</th>\n",
       "      <th>Community Area</th>\n",
       "      <th>FBI Code</th>\n",
       "      <th>...</th>\n",
       "      <th>Wards</th>\n",
       "      <th>Boundaries - ZIP Codes</th>\n",
       "      <th>Police Districts</th>\n",
       "      <th>Police Beats</th>\n",
       "      <th>OnlyDate</th>\n",
       "      <th>Time</th>\n",
       "      <th>time_hour</th>\n",
       "      <th>hourofday</th>\n",
       "      <th>sin_time</th>\n",
       "      <th>cos_time</th>\n",
       "    </tr>\n",
       "  </thead>\n",
       "  <tbody>\n",
       "    <tr>\n",
       "      <th>0</th>\n",
       "      <td>11859143</td>\n",
       "      <td>10/12/2019 11:58:00 PM</td>\n",
       "      <td>1310</td>\n",
       "      <td>CRIMINAL DAMAGE</td>\n",
       "      <td>APARTMENT</td>\n",
       "      <td>0</td>\n",
       "      <td>0</td>\n",
       "      <td>6.0</td>\n",
       "      <td>67.0</td>\n",
       "      <td>14</td>\n",
       "      <td>...</td>\n",
       "      <td>32.0</td>\n",
       "      <td>23.0</td>\n",
       "      <td>17.0</td>\n",
       "      <td>216.0</td>\n",
       "      <td>2019-10-12</td>\n",
       "      <td>11:58:00 PM</td>\n",
       "      <td>23:58:00</td>\n",
       "      <td>23</td>\n",
       "      <td>-2.449294e-16</td>\n",
       "      <td>1.0</td>\n",
       "    </tr>\n",
       "    <tr>\n",
       "      <th>1</th>\n",
       "      <td>11859039</td>\n",
       "      <td>10/12/2019 11:57:00 PM</td>\n",
       "      <td>2092</td>\n",
       "      <td>NARCOTICS</td>\n",
       "      <td>PARKING LOT/GARAGE(NON.RESID.)</td>\n",
       "      <td>1</td>\n",
       "      <td>0</td>\n",
       "      <td>28.0</td>\n",
       "      <td>26.0</td>\n",
       "      <td>18</td>\n",
       "      <td>...</td>\n",
       "      <td>23.0</td>\n",
       "      <td>30.0</td>\n",
       "      <td>16.0</td>\n",
       "      <td>82.0</td>\n",
       "      <td>2019-10-12</td>\n",
       "      <td>11:57:00 PM</td>\n",
       "      <td>23:57:00</td>\n",
       "      <td>23</td>\n",
       "      <td>-2.449294e-16</td>\n",
       "      <td>1.0</td>\n",
       "    </tr>\n",
       "  </tbody>\n",
       "</table>\n",
       "<p>2 rows × 27 columns</p>\n",
       "</div>"
      ],
      "text/plain": [
       "         ID                    Date  IUCR        CrimeType  \\\n",
       "0  11859143  10/12/2019 11:58:00 PM  1310  CRIMINAL DAMAGE   \n",
       "1  11859039  10/12/2019 11:57:00 PM  2092        NARCOTICS   \n",
       "\n",
       "             Location Description  Arrest  Domestic  Ward  Community Area  \\\n",
       "0                       APARTMENT       0         0   6.0            67.0   \n",
       "1  PARKING LOT/GARAGE(NON.RESID.)       1         0  28.0            26.0   \n",
       "\n",
       "  FBI Code  ...  Wards Boundaries - ZIP Codes  Police Districts  Police Beats  \\\n",
       "0       14  ...   32.0                   23.0              17.0         216.0   \n",
       "1       18  ...   23.0                   30.0              16.0          82.0   \n",
       "\n",
       "     OnlyDate         Time  time_hour  hourofday      sin_time  cos_time  \n",
       "0  2019-10-12  11:58:00 PM   23:58:00         23 -2.449294e-16       1.0  \n",
       "1  2019-10-12  11:57:00 PM   23:57:00         23 -2.449294e-16       1.0  \n",
       "\n",
       "[2 rows x 27 columns]"
      ]
     },
     "execution_count": 24,
     "metadata": {},
     "output_type": "execute_result"
    }
   ],
   "source": [
    "df_cleaned.head(2)"
   ]
  },
  {
   "cell_type": "markdown",
   "metadata": {},
   "source": [
    "### Define the features picked and how you got there\n"
   ]
  },
  {
   "cell_type": "code",
   "execution_count": 31,
   "metadata": {},
   "outputs": [],
   "source": [
    "### Splitting data for training and testing\n",
    "\n",
    "#from sklearn.cross_validation import train_test_split\n",
    "from sklearn.model_selection import train_test_split\n",
    "feature_col_names = ['IUCR','sin_time' ,'cos_time', 'Ward']\n",
    "predicted_class_names = ['Arrest']\n",
    "\n",
    "X = df_cleaned[feature_col_names].values     # predictor feature columns (8 X m)\n",
    "y = df_cleaned[predicted_class_names].values # predicted class (1=true, 0=false) column (1 X m)\n",
    "split_test_size = 0.30\n",
    "\n",
    "X_train, X_test, y_train, y_test = train_test_split(X, y, test_size=split_test_size, random_state=42) \n",
    "                            # test_size = 0.3 is 30%, 42 is the answer to everything"
   ]
  },
  {
   "cell_type": "code",
   "execution_count": 35,
   "metadata": {},
   "outputs": [
    {
     "name": "stdout",
     "output_type": "stream",
     "text": [
      "70.00% in training set\n",
      "30.00% in test set\n"
     ]
    }
   ],
   "source": [
    "##We check to ensure we have the the desired 70% train, 30% test split of the data\n",
    "print(\"{0:0.2f}% in training set\".format((len(X_train)/len(df_cleaned.index)) * 100))\n",
    "print(\"{0:0.2f}% in test set\".format((len(X_test)/len(df_cleaned.index)) * 100))"
   ]
  },
  {
   "cell_type": "code",
   "execution_count": null,
   "metadata": {},
   "outputs": [],
   "source": []
  },
  {
   "cell_type": "code",
   "execution_count": 29,
   "metadata": {},
   "outputs": [],
   "source": [
    "# print(\"Original True  : {0} ({1:0.2f}%)\".format(len(df.loc[df['Arrest'] == 1]), (len(df.loc[df['Arrest'] == 1])/len(df.index)) * 100.0))\n",
    "# print(\"Original False : {0} ({1:0.2f}%)\".format(len(df.loc[df['Arrest'] == 0]), (len(df.loc[df['Arrest'] == 0])/len(df.index)) * 100.0))\n",
    "# print(\"\")\n",
    "# # print(\"Training True  : {0} ({1:0.2f}%)\".format(len(y_train[y_train[:] == 1]), (len(y_train[y_train[:] == 1])/len(y_train) * 100.0)))\n",
    "# print(\"Training False : {0} ({1:0.2f}%)\".format(len(y_train[y_train[:] == 0]), (len(y_train[y_train[:] == 0])/len(y_train) * 100.0)))\n",
    "# print(\"\")\n",
    "# print(\"Test True      : {0} ({1:0.2f}%)\".format(len(y_test[y_test[:] == 1]), (len(y_test[y_test[:] == 1])/len(y_test) * 100.0)))\n",
    "# print(\"Test False     : {0} ({1:0.2f}%)\".format(len(y_test[y_test[:] == 0]), (len(y_test[y_test[:] == 0])/len(y_test) * 100.0)))"
   ]
  },
  {
   "cell_type": "markdown",
   "metadata": {},
   "source": [
    "#### Random Forest"
   ]
  },
  {
   "cell_type": "code",
   "execution_count": 32,
   "metadata": {},
   "outputs": [
    {
     "data": {
      "text/plain": [
       "RandomForestClassifier(bootstrap=True, class_weight=None, criterion='gini',\n",
       "            max_depth=None, max_features='auto', max_leaf_nodes=None,\n",
       "            min_impurity_decrease=0.0, min_impurity_split=None,\n",
       "            min_samples_leaf=1, min_samples_split=2,\n",
       "            min_weight_fraction_leaf=0.0, n_estimators=10, n_jobs=None,\n",
       "            oob_score=False, random_state=42, verbose=0, warm_start=False)"
      ]
     },
     "execution_count": 32,
     "metadata": {},
     "output_type": "execute_result"
    }
   ],
   "source": [
    "from sklearn.ensemble import RandomForestClassifier\n",
    "rf_model = RandomForestClassifier(random_state=42, n_estimators=10)      # Create random forest object\n",
    "rf_model.fit(X_train, y_train.ravel())"
   ]
  },
  {
   "cell_type": "code",
   "execution_count": 39,
   "metadata": {},
   "outputs": [
    {
     "name": "stdout",
     "output_type": "stream",
     "text": [
      "Accuracy: 0.8888\n"
     ]
    }
   ],
   "source": [
    "rf_predict_train = rf_model.predict(X_train)\n",
    "from sklearn import metrics\n",
    "# training metrics\n",
    "print(\"Accuracy: {0:.4f}\".format(metrics.accuracy_score(y_train, rf_predict_train)))"
   ]
  },
  {
   "cell_type": "code",
   "execution_count": 40,
   "metadata": {},
   "outputs": [
    {
     "name": "stdout",
     "output_type": "stream",
     "text": [
      "Accuracy: 0.8803\n"
     ]
    }
   ],
   "source": [
    "rf_predict_test = rf_model.predict(X_test)\n",
    "\n",
    "\n",
    "# testing metrics\n",
    "print(\"Accuracy: {0:.4f}\".format(metrics.accuracy_score(y_test, rf_predict_test)))"
   ]
  },
  {
   "cell_type": "code",
   "execution_count": 41,
   "metadata": {},
   "outputs": [
    {
     "name": "stdout",
     "output_type": "stream",
     "text": [
      "[[1319766   49913]\n",
      " [ 175781  340631]]\n",
      "\n",
      "Classification Report\n",
      "              precision    recall  f1-score   support\n",
      "\n",
      "           0       0.88      0.96      0.92   1369679\n",
      "           1       0.87      0.66      0.75    516412\n",
      "\n",
      "   micro avg       0.88      0.88      0.88   1886091\n",
      "   macro avg       0.88      0.81      0.84   1886091\n",
      "weighted avg       0.88      0.88      0.87   1886091\n",
      "\n"
     ]
    }
   ],
   "source": [
    "print(metrics.confusion_matrix(y_test, rf_predict_test) )\n",
    "print(\"\")\n",
    "print(\"Classification Report\")\n",
    "print(metrics.classification_report(y_test, rf_predict_test))"
   ]
  },
  {
   "cell_type": "markdown",
   "metadata": {},
   "source": [
    "## Naive Bayes"
   ]
  },
  {
   "cell_type": "code",
   "execution_count": 42,
   "metadata": {},
   "outputs": [
    {
     "data": {
      "text/plain": [
       "GaussianNB(priors=None, var_smoothing=1e-09)"
      ]
     },
     "execution_count": 42,
     "metadata": {},
     "output_type": "execute_result"
    }
   ],
   "source": [
    "#### Fitting a model\n",
    "from sklearn.naive_bayes import GaussianNB\n",
    "\n",
    "# create Gaussian Naive Bayes model object and train it with the data\n",
    "nb_model = GaussianNB()\n",
    "\n",
    "nb_model.fit(X_train, y_train.ravel())"
   ]
  },
  {
   "cell_type": "code",
   "execution_count": 43,
   "metadata": {},
   "outputs": [
    {
     "name": "stdout",
     "output_type": "stream",
     "text": [
      "Accuracy: 0.6883\n",
      "\n"
     ]
    }
   ],
   "source": [
    "# predict values using the training data\n",
    "nb_predict_train = nb_model.predict(X_train)\n",
    "\n",
    "# import the performance metrics library\n",
    "from sklearn import metrics\n",
    "\n",
    "# Accuracy\n",
    "print(\"Accuracy: {0:.4f}\".format(metrics.accuracy_score(y_train, nb_predict_train)))\n",
    "print()"
   ]
  },
  {
   "cell_type": "code",
   "execution_count": 44,
   "metadata": {},
   "outputs": [
    {
     "name": "stdout",
     "output_type": "stream",
     "text": [
      "nb_predict_test [0 0 1 ... 0 0 0]\n",
      "y_test [[0]\n",
      " [0]\n",
      " [0]\n",
      " ...\n",
      " [0]\n",
      " [1]\n",
      " [0]]\n",
      "Accuracy: 0.6877\n"
     ]
    }
   ],
   "source": [
    "# predict values using the testing data\n",
    "nb_predict_test = nb_model.predict(X_test)\n",
    "\n",
    "from sklearn import metrics\n",
    "\n",
    "# training metrics\n",
    "print(\"nb_predict_test\", nb_predict_test)\n",
    "print (\"y_test\", y_test)\n",
    "print(\"Accuracy: {0:.4f}\".format(metrics.accuracy_score(y_test, nb_predict_test)))"
   ]
  },
  {
   "cell_type": "code",
   "execution_count": 45,
   "metadata": {},
   "outputs": [
    {
     "name": "stdout",
     "output_type": "stream",
     "text": [
      "Confusion Matrix\n",
      "[[1273932   95747]\n",
      " [ 493276   23136]]\n",
      "\n",
      "Classification Report\n",
      "              precision    recall  f1-score   support\n",
      "\n",
      "           0       0.72      0.93      0.81   1369679\n",
      "           1       0.19      0.04      0.07    516412\n",
      "\n",
      "   micro avg       0.69      0.69      0.69   1886091\n",
      "   macro avg       0.46      0.49      0.44   1886091\n",
      "weighted avg       0.58      0.69      0.61   1886091\n",
      "\n"
     ]
    }
   ],
   "source": [
    "print(\"Confusion Matrix\")\n",
    "print(\"{0}\".format(metrics.confusion_matrix(y_test, nb_predict_test)))\n",
    "print(\"\")\n",
    "\n",
    "print(\"Classification Report\")\n",
    "print(metrics.classification_report(y_test, nb_predict_test))"
   ]
  },
  {
   "cell_type": "code",
   "execution_count": 47,
   "metadata": {},
   "outputs": [
    {
     "data": {
      "text/plain": [
       "['./chicago-crime-trained-model-ward-IUCR-time-NB.pkl']"
      ]
     },
     "execution_count": 47,
     "metadata": {},
     "output_type": "execute_result"
    }
   ],
   "source": [
    "from sklearn.externals import joblib\n",
    "\n",
    "joblib.dump(nb_model, \"./chicago-crime-trained-model-ward-IUCR-time-NB.pkl\")"
   ]
  },
  {
   "cell_type": "code",
   "execution_count": 48,
   "metadata": {},
   "outputs": [
    {
     "data": {
      "text/plain": [
       "['./chicago-crime-trained-model-ward-IUCR-time-RF.pkl']"
      ]
     },
     "execution_count": 48,
     "metadata": {},
     "output_type": "execute_result"
    }
   ],
   "source": [
    "from sklearn.externals import joblib\n",
    "\n",
    "joblib.dump(rf_model, \"./chicago-crime-trained-model-ward-IUCR-time-RF.pkl\")"
   ]
  }
 ],
 "metadata": {
  "kernelspec": {
   "display_name": "Python [conda env:pythonData] *",
   "language": "python",
   "name": "conda-env-pythonData-py"
  },
  "language_info": {
   "codemirror_mode": {
    "name": "ipython",
    "version": 3
   },
   "file_extension": ".py",
   "mimetype": "text/x-python",
   "name": "python",
   "nbconvert_exporter": "python",
   "pygments_lexer": "ipython3",
   "version": "3.7.3"
  }
 },
 "nbformat": 4,
 "nbformat_minor": 2
}
