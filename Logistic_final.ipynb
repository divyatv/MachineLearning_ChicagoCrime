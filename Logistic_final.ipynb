{
 "cells": [
  {
   "cell_type": "code",
   "execution_count": 2,
   "metadata": {},
   "outputs": [],
   "source": [
    "# Import Dependencies\n",
    "import pandas as pd\n",
    "import numpy as np\n",
    "import os\n",
    "from sklearn.metrics import confusion_matrix"
   ]
  },
  {
   "cell_type": "code",
   "execution_count": 3,
   "metadata": {},
   "outputs": [
    {
     "data": {
      "text/html": [
       "<div>\n",
       "<style scoped>\n",
       "    .dataframe tbody tr th:only-of-type {\n",
       "        vertical-align: middle;\n",
       "    }\n",
       "\n",
       "    .dataframe tbody tr th {\n",
       "        vertical-align: top;\n",
       "    }\n",
       "\n",
       "    .dataframe thead th {\n",
       "        text-align: right;\n",
       "    }\n",
       "</style>\n",
       "<table border=\"1\" class=\"dataframe\">\n",
       "  <thead>\n",
       "    <tr style=\"text-align: right;\">\n",
       "      <th></th>\n",
       "      <th>ID</th>\n",
       "      <th>Case Number</th>\n",
       "      <th>Date</th>\n",
       "      <th>Block</th>\n",
       "      <th>IUCR</th>\n",
       "      <th>Primary Type</th>\n",
       "      <th>Description</th>\n",
       "      <th>Location Description</th>\n",
       "      <th>Arrest</th>\n",
       "      <th>Domestic</th>\n",
       "      <th>...</th>\n",
       "      <th>Longitude</th>\n",
       "      <th>Location</th>\n",
       "      <th>Historical Wards 2003-2015</th>\n",
       "      <th>Zip Codes</th>\n",
       "      <th>Community Areas</th>\n",
       "      <th>Census Tracts</th>\n",
       "      <th>Wards</th>\n",
       "      <th>Boundaries - ZIP Codes</th>\n",
       "      <th>Police Districts</th>\n",
       "      <th>Police Beats</th>\n",
       "    </tr>\n",
       "  </thead>\n",
       "  <tbody>\n",
       "    <tr>\n",
       "      <th>0</th>\n",
       "      <td>11871253</td>\n",
       "      <td>JC485146</td>\n",
       "      <td>03/18/2018 09:00:00 AM</td>\n",
       "      <td>020XX W ADDISON ST</td>\n",
       "      <td>1153</td>\n",
       "      <td>DECEPTIVE PRACTICE</td>\n",
       "      <td>FINANCIAL IDENTITY THEFT OVER $ 300</td>\n",
       "      <td>MEDICAL/DENTAL OFFICE</td>\n",
       "      <td>False</td>\n",
       "      <td>False</td>\n",
       "      <td>...</td>\n",
       "      <td>NaN</td>\n",
       "      <td>NaN</td>\n",
       "      <td>NaN</td>\n",
       "      <td>NaN</td>\n",
       "      <td>NaN</td>\n",
       "      <td>NaN</td>\n",
       "      <td>NaN</td>\n",
       "      <td>NaN</td>\n",
       "      <td>NaN</td>\n",
       "      <td>NaN</td>\n",
       "    </tr>\n",
       "    <tr>\n",
       "      <th>1</th>\n",
       "      <td>11870881</td>\n",
       "      <td>JC484692</td>\n",
       "      <td>10/21/2018 12:00:00 AM</td>\n",
       "      <td>043XX W CORTEZ ST</td>\n",
       "      <td>1562</td>\n",
       "      <td>SEX OFFENSE</td>\n",
       "      <td>AGG CRIMINAL SEXUAL ABUSE</td>\n",
       "      <td>RESIDENCE</td>\n",
       "      <td>False</td>\n",
       "      <td>False</td>\n",
       "      <td>...</td>\n",
       "      <td>NaN</td>\n",
       "      <td>NaN</td>\n",
       "      <td>NaN</td>\n",
       "      <td>NaN</td>\n",
       "      <td>NaN</td>\n",
       "      <td>NaN</td>\n",
       "      <td>NaN</td>\n",
       "      <td>NaN</td>\n",
       "      <td>NaN</td>\n",
       "      <td>NaN</td>\n",
       "    </tr>\n",
       "    <tr>\n",
       "      <th>2</th>\n",
       "      <td>11871304</td>\n",
       "      <td>JC485127</td>\n",
       "      <td>07/10/2018 06:50:00 AM</td>\n",
       "      <td>082XX S WOODLAWN AVE</td>\n",
       "      <td>1153</td>\n",
       "      <td>DECEPTIVE PRACTICE</td>\n",
       "      <td>FINANCIAL IDENTITY THEFT OVER $ 300</td>\n",
       "      <td>NaN</td>\n",
       "      <td>False</td>\n",
       "      <td>False</td>\n",
       "      <td>...</td>\n",
       "      <td>NaN</td>\n",
       "      <td>NaN</td>\n",
       "      <td>NaN</td>\n",
       "      <td>NaN</td>\n",
       "      <td>NaN</td>\n",
       "      <td>NaN</td>\n",
       "      <td>NaN</td>\n",
       "      <td>NaN</td>\n",
       "      <td>NaN</td>\n",
       "      <td>NaN</td>\n",
       "    </tr>\n",
       "    <tr>\n",
       "      <th>3</th>\n",
       "      <td>11871288</td>\n",
       "      <td>JC484913</td>\n",
       "      <td>10/29/2018 08:00:00 AM</td>\n",
       "      <td>108XX S WABASH AVE</td>\n",
       "      <td>1153</td>\n",
       "      <td>DECEPTIVE PRACTICE</td>\n",
       "      <td>FINANCIAL IDENTITY THEFT OVER $ 300</td>\n",
       "      <td>OTHER</td>\n",
       "      <td>False</td>\n",
       "      <td>False</td>\n",
       "      <td>...</td>\n",
       "      <td>NaN</td>\n",
       "      <td>NaN</td>\n",
       "      <td>NaN</td>\n",
       "      <td>NaN</td>\n",
       "      <td>NaN</td>\n",
       "      <td>NaN</td>\n",
       "      <td>NaN</td>\n",
       "      <td>NaN</td>\n",
       "      <td>NaN</td>\n",
       "      <td>NaN</td>\n",
       "    </tr>\n",
       "    <tr>\n",
       "      <th>4</th>\n",
       "      <td>11871319</td>\n",
       "      <td>JC484113</td>\n",
       "      <td>10/18/2018 10:05:00 PM</td>\n",
       "      <td>079XX S ESSEX AVE</td>\n",
       "      <td>1153</td>\n",
       "      <td>DECEPTIVE PRACTICE</td>\n",
       "      <td>FINANCIAL IDENTITY THEFT OVER $ 300</td>\n",
       "      <td>NaN</td>\n",
       "      <td>False</td>\n",
       "      <td>False</td>\n",
       "      <td>...</td>\n",
       "      <td>NaN</td>\n",
       "      <td>NaN</td>\n",
       "      <td>NaN</td>\n",
       "      <td>NaN</td>\n",
       "      <td>NaN</td>\n",
       "      <td>NaN</td>\n",
       "      <td>NaN</td>\n",
       "      <td>NaN</td>\n",
       "      <td>NaN</td>\n",
       "      <td>NaN</td>\n",
       "    </tr>\n",
       "  </tbody>\n",
       "</table>\n",
       "<p>5 rows × 30 columns</p>\n",
       "</div>"
      ],
      "text/plain": [
       "         ID Case Number                    Date                 Block  IUCR  \\\n",
       "0  11871253    JC485146  03/18/2018 09:00:00 AM    020XX W ADDISON ST  1153   \n",
       "1  11870881    JC484692  10/21/2018 12:00:00 AM     043XX W CORTEZ ST  1562   \n",
       "2  11871304    JC485127  07/10/2018 06:50:00 AM  082XX S WOODLAWN AVE  1153   \n",
       "3  11871288    JC484913  10/29/2018 08:00:00 AM    108XX S WABASH AVE  1153   \n",
       "4  11871319    JC484113  10/18/2018 10:05:00 PM     079XX S ESSEX AVE  1153   \n",
       "\n",
       "         Primary Type                          Description  \\\n",
       "0  DECEPTIVE PRACTICE  FINANCIAL IDENTITY THEFT OVER $ 300   \n",
       "1         SEX OFFENSE            AGG CRIMINAL SEXUAL ABUSE   \n",
       "2  DECEPTIVE PRACTICE  FINANCIAL IDENTITY THEFT OVER $ 300   \n",
       "3  DECEPTIVE PRACTICE  FINANCIAL IDENTITY THEFT OVER $ 300   \n",
       "4  DECEPTIVE PRACTICE  FINANCIAL IDENTITY THEFT OVER $ 300   \n",
       "\n",
       "    Location Description  Arrest  Domestic  ...  Longitude  Location  \\\n",
       "0  MEDICAL/DENTAL OFFICE   False     False  ...        NaN       NaN   \n",
       "1              RESIDENCE   False     False  ...        NaN       NaN   \n",
       "2                    NaN   False     False  ...        NaN       NaN   \n",
       "3                  OTHER   False     False  ...        NaN       NaN   \n",
       "4                    NaN   False     False  ...        NaN       NaN   \n",
       "\n",
       "   Historical Wards 2003-2015  Zip Codes Community Areas  Census Tracts  \\\n",
       "0                         NaN        NaN             NaN            NaN   \n",
       "1                         NaN        NaN             NaN            NaN   \n",
       "2                         NaN        NaN             NaN            NaN   \n",
       "3                         NaN        NaN             NaN            NaN   \n",
       "4                         NaN        NaN             NaN            NaN   \n",
       "\n",
       "   Wards  Boundaries - ZIP Codes Police Districts  Police Beats  \n",
       "0    NaN                     NaN              NaN           NaN  \n",
       "1    NaN                     NaN              NaN           NaN  \n",
       "2    NaN                     NaN              NaN           NaN  \n",
       "3    NaN                     NaN              NaN           NaN  \n",
       "4    NaN                     NaN              NaN           NaN  \n",
       "\n",
       "[5 rows x 30 columns]"
      ]
     },
     "execution_count": 3,
     "metadata": {},
     "output_type": "execute_result"
    }
   ],
   "source": [
    "# Make a reference to the crimes.csv file path\n",
    "csv_path = \"Resources/Crimes_2018.csv\"\n",
    "\n",
    "# Import the crimes.csv file as a DataFrame\n",
    "crimes_df = pd.read_csv(csv_path, encoding=\"utf-8\")\n",
    "crimes_df.head()"
   ]
  },
  {
   "cell_type": "code",
   "execution_count": 4,
   "metadata": {},
   "outputs": [],
   "source": [
    "# Drop null values\n",
    "crimes_df=crimes_df.dropna()"
   ]
  },
  {
   "cell_type": "code",
   "execution_count": 5,
   "metadata": {},
   "outputs": [
    {
     "data": {
      "text/plain": [
       "False    209155\n",
       "True      52462\n",
       "Name: Arrest, dtype: int64"
      ]
     },
     "execution_count": 5,
     "metadata": {},
     "output_type": "execute_result"
    }
   ],
   "source": [
    "# Check how many arrests there are\n",
    "crimes_df.Arrest.value_counts()"
   ]
  },
  {
   "cell_type": "code",
   "execution_count": 6,
   "metadata": {},
   "outputs": [
    {
     "data": {
      "text/html": [
       "<div>\n",
       "<style scoped>\n",
       "    .dataframe tbody tr th:only-of-type {\n",
       "        vertical-align: middle;\n",
       "    }\n",
       "\n",
       "    .dataframe tbody tr th {\n",
       "        vertical-align: top;\n",
       "    }\n",
       "\n",
       "    .dataframe thead th {\n",
       "        text-align: right;\n",
       "    }\n",
       "</style>\n",
       "<table border=\"1\" class=\"dataframe\">\n",
       "  <thead>\n",
       "    <tr style=\"text-align: right;\">\n",
       "      <th></th>\n",
       "      <th>Primary Type</th>\n",
       "      <th>Arrest</th>\n",
       "      <th>Domestic</th>\n",
       "      <th>Beat</th>\n",
       "      <th>District</th>\n",
       "      <th>Ward</th>\n",
       "      <th>Community Area</th>\n",
       "    </tr>\n",
       "  </thead>\n",
       "  <tbody>\n",
       "    <tr>\n",
       "      <th>6</th>\n",
       "      <td>MOTOR VEHICLE THEFT</td>\n",
       "      <td>False</td>\n",
       "      <td>False</td>\n",
       "      <td>823</td>\n",
       "      <td>8</td>\n",
       "      <td>17.0</td>\n",
       "      <td>66.0</td>\n",
       "    </tr>\n",
       "    <tr>\n",
       "      <th>7</th>\n",
       "      <td>SEX OFFENSE</td>\n",
       "      <td>True</td>\n",
       "      <td>False</td>\n",
       "      <td>2522</td>\n",
       "      <td>25</td>\n",
       "      <td>36.0</td>\n",
       "      <td>19.0</td>\n",
       "    </tr>\n",
       "    <tr>\n",
       "      <th>8</th>\n",
       "      <td>INTIMIDATION</td>\n",
       "      <td>False</td>\n",
       "      <td>False</td>\n",
       "      <td>1713</td>\n",
       "      <td>17</td>\n",
       "      <td>33.0</td>\n",
       "      <td>14.0</td>\n",
       "    </tr>\n",
       "    <tr>\n",
       "      <th>9</th>\n",
       "      <td>ROBBERY</td>\n",
       "      <td>False</td>\n",
       "      <td>False</td>\n",
       "      <td>412</td>\n",
       "      <td>4</td>\n",
       "      <td>8.0</td>\n",
       "      <td>48.0</td>\n",
       "    </tr>\n",
       "    <tr>\n",
       "      <th>10</th>\n",
       "      <td>SEX OFFENSE</td>\n",
       "      <td>True</td>\n",
       "      <td>True</td>\n",
       "      <td>2515</td>\n",
       "      <td>25</td>\n",
       "      <td>36.0</td>\n",
       "      <td>19.0</td>\n",
       "    </tr>\n",
       "  </tbody>\n",
       "</table>\n",
       "</div>"
      ],
      "text/plain": [
       "           Primary Type  Arrest  Domestic  Beat  District  Ward  \\\n",
       "6   MOTOR VEHICLE THEFT   False     False   823         8  17.0   \n",
       "7           SEX OFFENSE    True     False  2522        25  36.0   \n",
       "8          INTIMIDATION   False     False  1713        17  33.0   \n",
       "9               ROBBERY   False     False   412         4   8.0   \n",
       "10          SEX OFFENSE    True      True  2515        25  36.0   \n",
       "\n",
       "    Community Area  \n",
       "6             66.0  \n",
       "7             19.0  \n",
       "8             14.0  \n",
       "9             48.0  \n",
       "10            19.0  "
      ]
     },
     "execution_count": 6,
     "metadata": {},
     "output_type": "execute_result"
    }
   ],
   "source": [
    "# Remove unnecessary columns\n",
    "crimes_2018 = crimes_df.drop([\"Date\", \"ID\", \"Case Number\", \"Block\", \"IUCR\", \"Description\", \"X Coordinate\", \"Y Coordinate\", \"Year\", \"Updated On\",\\\n",
    "                             \"Latitude\", \"Longitude\", \"Location\",\"Boundaries - ZIP Codes\", \"Zip Codes\",\"Historical Wards 2003-2015\"\\\n",
    "                            ,\"Census Tracts\",\"Police Beats\", \"Police Districts\",\"Community Areas\", \"Wards\", \"Location Description\", \"FBI Code\"], axis=1)\n",
    "crimes_2018.head()"
   ]
  },
  {
   "cell_type": "code",
   "execution_count": 7,
   "metadata": {},
   "outputs": [
    {
     "data": {
      "text/plain": [
       "THEFT                                63678\n",
       "BATTERY                              49498\n",
       "CRIMINAL DAMAGE                      27602\n",
       "ASSAULT                              20241\n",
       "DECEPTIVE PRACTICE                   17132\n",
       "OTHER OFFENSE                        16874\n",
       "NARCOTICS                            12778\n",
       "BURGLARY                             11638\n",
       "MOTOR VEHICLE THEFT                   9902\n",
       "ROBBERY                               9624\n",
       "CRIMINAL TRESPASS                     6842\n",
       "WEAPONS VIOLATION                     5434\n",
       "OFFENSE INVOLVING CHILDREN            2137\n",
       "CRIM SEXUAL ASSAULT                   1553\n",
       "PUBLIC PEACE VIOLATION                1359\n",
       "INTERFERENCE WITH PUBLIC OFFICER      1305\n",
       "SEX OFFENSE                           1048\n",
       "PROSTITUTION                           716\n",
       "HOMICIDE                               589\n",
       "ARSON                                  371\n",
       "LIQUOR LAW VIOLATION                   263\n",
       "GAMBLING                               201\n",
       "STALKING                               199\n",
       "KIDNAPPING                             170\n",
       "INTIMIDATION                           166\n",
       "CONCEALED CARRY LICENSE VIOLATION      148\n",
       "OBSCENITY                               83\n",
       "NON-CRIMINAL                            36\n",
       "PUBLIC INDECENCY                        14\n",
       "HUMAN TRAFFICKING                       12\n",
       "NON-CRIMINAL (SUBJECT SPECIFIED)         3\n",
       "OTHER NARCOTIC VIOLATION                 1\n",
       "Name: Primary Type, dtype: int64"
      ]
     },
     "execution_count": 7,
     "metadata": {},
     "output_type": "execute_result"
    }
   ],
   "source": [
    "# count the occurrences of each crime\n",
    "crimes_2018[\"Primary Type\"].value_counts()"
   ]
  },
  {
   "cell_type": "code",
   "execution_count": 8,
   "metadata": {},
   "outputs": [
    {
     "data": {
      "text/html": [
       "<div>\n",
       "<style scoped>\n",
       "    .dataframe tbody tr th:only-of-type {\n",
       "        vertical-align: middle;\n",
       "    }\n",
       "\n",
       "    .dataframe tbody tr th {\n",
       "        vertical-align: top;\n",
       "    }\n",
       "\n",
       "    .dataframe thead th {\n",
       "        text-align: right;\n",
       "    }\n",
       "</style>\n",
       "<table border=\"1\" class=\"dataframe\">\n",
       "  <thead>\n",
       "    <tr style=\"text-align: right;\">\n",
       "      <th></th>\n",
       "      <th>Arrest</th>\n",
       "      <th>Domestic</th>\n",
       "      <th>Beat</th>\n",
       "      <th>District</th>\n",
       "      <th>Ward</th>\n",
       "      <th>Community Area</th>\n",
       "      <th>Primary Type_ARSON</th>\n",
       "      <th>Primary Type_ASSAULT</th>\n",
       "      <th>Primary Type_BATTERY</th>\n",
       "      <th>Primary Type_BURGLARY</th>\n",
       "      <th>...</th>\n",
       "      <th>Primary Type_OTHER NARCOTIC VIOLATION</th>\n",
       "      <th>Primary Type_OTHER OFFENSE</th>\n",
       "      <th>Primary Type_PROSTITUTION</th>\n",
       "      <th>Primary Type_PUBLIC INDECENCY</th>\n",
       "      <th>Primary Type_PUBLIC PEACE VIOLATION</th>\n",
       "      <th>Primary Type_ROBBERY</th>\n",
       "      <th>Primary Type_SEX OFFENSE</th>\n",
       "      <th>Primary Type_STALKING</th>\n",
       "      <th>Primary Type_THEFT</th>\n",
       "      <th>Primary Type_WEAPONS VIOLATION</th>\n",
       "    </tr>\n",
       "  </thead>\n",
       "  <tbody>\n",
       "    <tr>\n",
       "      <th>6</th>\n",
       "      <td>False</td>\n",
       "      <td>False</td>\n",
       "      <td>823</td>\n",
       "      <td>8</td>\n",
       "      <td>17.0</td>\n",
       "      <td>66.0</td>\n",
       "      <td>0</td>\n",
       "      <td>0</td>\n",
       "      <td>0</td>\n",
       "      <td>0</td>\n",
       "      <td>...</td>\n",
       "      <td>0</td>\n",
       "      <td>0</td>\n",
       "      <td>0</td>\n",
       "      <td>0</td>\n",
       "      <td>0</td>\n",
       "      <td>0</td>\n",
       "      <td>0</td>\n",
       "      <td>0</td>\n",
       "      <td>0</td>\n",
       "      <td>0</td>\n",
       "    </tr>\n",
       "    <tr>\n",
       "      <th>7</th>\n",
       "      <td>True</td>\n",
       "      <td>False</td>\n",
       "      <td>2522</td>\n",
       "      <td>25</td>\n",
       "      <td>36.0</td>\n",
       "      <td>19.0</td>\n",
       "      <td>0</td>\n",
       "      <td>0</td>\n",
       "      <td>0</td>\n",
       "      <td>0</td>\n",
       "      <td>...</td>\n",
       "      <td>0</td>\n",
       "      <td>0</td>\n",
       "      <td>0</td>\n",
       "      <td>0</td>\n",
       "      <td>0</td>\n",
       "      <td>0</td>\n",
       "      <td>1</td>\n",
       "      <td>0</td>\n",
       "      <td>0</td>\n",
       "      <td>0</td>\n",
       "    </tr>\n",
       "    <tr>\n",
       "      <th>8</th>\n",
       "      <td>False</td>\n",
       "      <td>False</td>\n",
       "      <td>1713</td>\n",
       "      <td>17</td>\n",
       "      <td>33.0</td>\n",
       "      <td>14.0</td>\n",
       "      <td>0</td>\n",
       "      <td>0</td>\n",
       "      <td>0</td>\n",
       "      <td>0</td>\n",
       "      <td>...</td>\n",
       "      <td>0</td>\n",
       "      <td>0</td>\n",
       "      <td>0</td>\n",
       "      <td>0</td>\n",
       "      <td>0</td>\n",
       "      <td>0</td>\n",
       "      <td>0</td>\n",
       "      <td>0</td>\n",
       "      <td>0</td>\n",
       "      <td>0</td>\n",
       "    </tr>\n",
       "    <tr>\n",
       "      <th>9</th>\n",
       "      <td>False</td>\n",
       "      <td>False</td>\n",
       "      <td>412</td>\n",
       "      <td>4</td>\n",
       "      <td>8.0</td>\n",
       "      <td>48.0</td>\n",
       "      <td>0</td>\n",
       "      <td>0</td>\n",
       "      <td>0</td>\n",
       "      <td>0</td>\n",
       "      <td>...</td>\n",
       "      <td>0</td>\n",
       "      <td>0</td>\n",
       "      <td>0</td>\n",
       "      <td>0</td>\n",
       "      <td>0</td>\n",
       "      <td>1</td>\n",
       "      <td>0</td>\n",
       "      <td>0</td>\n",
       "      <td>0</td>\n",
       "      <td>0</td>\n",
       "    </tr>\n",
       "    <tr>\n",
       "      <th>10</th>\n",
       "      <td>True</td>\n",
       "      <td>True</td>\n",
       "      <td>2515</td>\n",
       "      <td>25</td>\n",
       "      <td>36.0</td>\n",
       "      <td>19.0</td>\n",
       "      <td>0</td>\n",
       "      <td>0</td>\n",
       "      <td>0</td>\n",
       "      <td>0</td>\n",
       "      <td>...</td>\n",
       "      <td>0</td>\n",
       "      <td>0</td>\n",
       "      <td>0</td>\n",
       "      <td>0</td>\n",
       "      <td>0</td>\n",
       "      <td>0</td>\n",
       "      <td>1</td>\n",
       "      <td>0</td>\n",
       "      <td>0</td>\n",
       "      <td>0</td>\n",
       "    </tr>\n",
       "  </tbody>\n",
       "</table>\n",
       "<p>5 rows × 38 columns</p>\n",
       "</div>"
      ],
      "text/plain": [
       "    Arrest  Domestic  Beat  District  Ward  Community Area  \\\n",
       "6    False     False   823         8  17.0            66.0   \n",
       "7     True     False  2522        25  36.0            19.0   \n",
       "8    False     False  1713        17  33.0            14.0   \n",
       "9    False     False   412         4   8.0            48.0   \n",
       "10    True      True  2515        25  36.0            19.0   \n",
       "\n",
       "    Primary Type_ARSON  Primary Type_ASSAULT  Primary Type_BATTERY  \\\n",
       "6                    0                     0                     0   \n",
       "7                    0                     0                     0   \n",
       "8                    0                     0                     0   \n",
       "9                    0                     0                     0   \n",
       "10                   0                     0                     0   \n",
       "\n",
       "    Primary Type_BURGLARY  ...  Primary Type_OTHER NARCOTIC VIOLATION  \\\n",
       "6                       0  ...                                      0   \n",
       "7                       0  ...                                      0   \n",
       "8                       0  ...                                      0   \n",
       "9                       0  ...                                      0   \n",
       "10                      0  ...                                      0   \n",
       "\n",
       "    Primary Type_OTHER OFFENSE  Primary Type_PROSTITUTION  \\\n",
       "6                            0                          0   \n",
       "7                            0                          0   \n",
       "8                            0                          0   \n",
       "9                            0                          0   \n",
       "10                           0                          0   \n",
       "\n",
       "    Primary Type_PUBLIC INDECENCY  Primary Type_PUBLIC PEACE VIOLATION  \\\n",
       "6                               0                                    0   \n",
       "7                               0                                    0   \n",
       "8                               0                                    0   \n",
       "9                               0                                    0   \n",
       "10                              0                                    0   \n",
       "\n",
       "    Primary Type_ROBBERY  Primary Type_SEX OFFENSE  Primary Type_STALKING  \\\n",
       "6                      0                         0                      0   \n",
       "7                      0                         1                      0   \n",
       "8                      0                         0                      0   \n",
       "9                      1                         0                      0   \n",
       "10                     0                         1                      0   \n",
       "\n",
       "    Primary Type_THEFT  Primary Type_WEAPONS VIOLATION  \n",
       "6                    0                               0  \n",
       "7                    0                               0  \n",
       "8                    0                               0  \n",
       "9                    0                               0  \n",
       "10                   0                               0  \n",
       "\n",
       "[5 rows x 38 columns]"
      ]
     },
     "execution_count": 8,
     "metadata": {},
     "output_type": "execute_result"
    }
   ],
   "source": [
    "# Use Pandas to get_dummies to convert categorical data\n",
    "crimes_2018_update = pd.get_dummies(crimes_2018)\n",
    "crimes_2018_update.head()"
   ]
  },
  {
   "cell_type": "code",
   "execution_count": 9,
   "metadata": {},
   "outputs": [
    {
     "data": {
      "text/plain": [
       "['Arrest',\n",
       " 'Domestic',\n",
       " 'Beat',\n",
       " 'District',\n",
       " 'Ward',\n",
       " 'Community Area',\n",
       " 'Primary Type_ARSON',\n",
       " 'Primary Type_ASSAULT',\n",
       " 'Primary Type_BATTERY',\n",
       " 'Primary Type_BURGLARY',\n",
       " 'Primary Type_CONCEALED CARRY LICENSE VIOLATION',\n",
       " 'Primary Type_CRIM SEXUAL ASSAULT',\n",
       " 'Primary Type_CRIMINAL DAMAGE',\n",
       " 'Primary Type_CRIMINAL TRESPASS',\n",
       " 'Primary Type_DECEPTIVE PRACTICE',\n",
       " 'Primary Type_GAMBLING',\n",
       " 'Primary Type_HOMICIDE',\n",
       " 'Primary Type_HUMAN TRAFFICKING',\n",
       " 'Primary Type_INTERFERENCE WITH PUBLIC OFFICER',\n",
       " 'Primary Type_INTIMIDATION',\n",
       " 'Primary Type_KIDNAPPING',\n",
       " 'Primary Type_LIQUOR LAW VIOLATION',\n",
       " 'Primary Type_MOTOR VEHICLE THEFT',\n",
       " 'Primary Type_NARCOTICS',\n",
       " 'Primary Type_NON-CRIMINAL',\n",
       " 'Primary Type_NON-CRIMINAL (SUBJECT SPECIFIED)',\n",
       " 'Primary Type_OBSCENITY',\n",
       " 'Primary Type_OFFENSE INVOLVING CHILDREN',\n",
       " 'Primary Type_OTHER NARCOTIC VIOLATION',\n",
       " 'Primary Type_OTHER OFFENSE',\n",
       " 'Primary Type_PROSTITUTION',\n",
       " 'Primary Type_PUBLIC INDECENCY',\n",
       " 'Primary Type_PUBLIC PEACE VIOLATION',\n",
       " 'Primary Type_ROBBERY',\n",
       " 'Primary Type_SEX OFFENSE',\n",
       " 'Primary Type_STALKING',\n",
       " 'Primary Type_THEFT',\n",
       " 'Primary Type_WEAPONS VIOLATION']"
      ]
     },
     "execution_count": 9,
     "metadata": {},
     "output_type": "execute_result"
    }
   ],
   "source": [
    "# list remaining columns\n",
    "list(crimes_2018_update.columns)"
   ]
  },
  {
   "cell_type": "code",
   "execution_count": 10,
   "metadata": {},
   "outputs": [
    {
     "data": {
      "text/plain": [
       "['Arrest',\n",
       " 'Domestic',\n",
       " 'Beat',\n",
       " 'District',\n",
       " 'Ward',\n",
       " 'Community Area',\n",
       " 'Primary Type_ARSON',\n",
       " 'Primary Type_ASSAULT',\n",
       " 'Primary Type_BATTERY',\n",
       " 'Primary Type_BURGLARY',\n",
       " 'Primary Type_CONCEALED CARRY LICENSE VIOLATION',\n",
       " 'Primary Type_CRIM SEXUAL ASSAULT',\n",
       " 'Primary Type_CRIMINAL DAMAGE',\n",
       " 'Primary Type_CRIMINAL TRESPASS',\n",
       " 'Primary Type_DECEPTIVE PRACTICE',\n",
       " 'Primary Type_GAMBLING',\n",
       " 'Primary Type_HOMICIDE',\n",
       " 'Primary Type_HUMAN TRAFFICKING',\n",
       " 'Primary Type_INTERFERENCE WITH PUBLIC OFFICER',\n",
       " 'Primary Type_INTIMIDATION',\n",
       " 'Primary Type_KIDNAPPING',\n",
       " 'Primary Type_LIQUOR LAW VIOLATION',\n",
       " 'Primary Type_MOTOR VEHICLE THEFT',\n",
       " 'Primary Type_NARCOTICS',\n",
       " 'Primary Type_NON-CRIMINAL',\n",
       " 'Primary Type_OBSCENITY',\n",
       " 'Primary Type_OFFENSE INVOLVING CHILDREN',\n",
       " 'Primary Type_OTHER NARCOTIC VIOLATION',\n",
       " 'Primary Type_OTHER OFFENSE',\n",
       " 'Primary Type_PROSTITUTION',\n",
       " 'Primary Type_PUBLIC INDECENCY',\n",
       " 'Primary Type_PUBLIC PEACE VIOLATION',\n",
       " 'Primary Type_ROBBERY',\n",
       " 'Primary Type_SEX OFFENSE',\n",
       " 'Primary Type_STALKING',\n",
       " 'Primary Type_THEFT',\n",
       " 'Primary Type_WEAPONS VIOLATION']"
      ]
     },
     "execution_count": 10,
     "metadata": {},
     "output_type": "execute_result"
    }
   ],
   "source": [
    "# Remove unnecessary columns (column not found in other years)\n",
    "crimes_2018_updated = crimes_2018_update.drop([\"Primary Type_NON-CRIMINAL (SUBJECT SPECIFIED)\"], axis=1)\n",
    "list(crimes_2018_updated.columns)"
   ]
  },
  {
   "cell_type": "code",
   "execution_count": 11,
   "metadata": {},
   "outputs": [
    {
     "data": {
      "text/plain": [
       "False    209155\n",
       "True      52462\n",
       "Name: Arrest, dtype: int64"
      ]
     },
     "execution_count": 11,
     "metadata": {},
     "output_type": "execute_result"
    }
   ],
   "source": [
    "# Check how many arrests there are\n",
    "crimes_2018_updated.Arrest.value_counts()"
   ]
  },
  {
   "cell_type": "code",
   "execution_count": 12,
   "metadata": {},
   "outputs": [],
   "source": [
    "# Push the remade DataFrame to a new CSV file\n",
    "crimes_2018_updated.to_csv(\"Output/data_2018_updated.csv\",\n",
    "                  encoding=\"utf-8\", index=False, header=True)"
   ]
  },
  {
   "cell_type": "markdown",
   "metadata": {},
   "source": [
    "### We have the data saved into a file."
   ]
  },
  {
   "cell_type": "code",
   "execution_count": 13,
   "metadata": {},
   "outputs": [
    {
     "name": "stdout",
     "output_type": "stream",
     "text": [
      "(261617, 36) (261617,)\n"
     ]
    }
   ],
   "source": [
    "# Assign X (data) and y (target)\n",
    "X = crimes_2018_updated.drop(\"Arrest\", axis=1)\n",
    "y = crimes_2018_updated[\"Arrest\"]\n",
    "print(X.shape, y.shape)"
   ]
  },
  {
   "cell_type": "code",
   "execution_count": 14,
   "metadata": {},
   "outputs": [],
   "source": [
    "# Split our data into training and testing\n",
    "from sklearn.model_selection import train_test_split\n",
    " \n",
    "#strafity helps to make the data more random\n",
    "X_train, X_test, y_train, y_test = train_test_split(X, y, random_state=1, stratify=y)"
   ]
  },
  {
   "cell_type": "code",
   "execution_count": 15,
   "metadata": {},
   "outputs": [
    {
     "name": "stdout",
     "output_type": "stream",
     "text": [
      "75.00% in training set\n",
      "25.00% in test set\n"
     ]
    }
   ],
   "source": [
    "# Check to ensure we have the the desired 75% train, 25% test split of the data\n",
    "print(\"{0:0.2f}% in training set\".format((len(X_train)/len(crimes_2018_updated.index)) * 100))\n",
    "print(\"{0:0.2f}% in test set\".format((len(X_test)/len(crimes_2018_updated.index)) * 100))"
   ]
  },
  {
   "cell_type": "code",
   "execution_count": 16,
   "metadata": {},
   "outputs": [
    {
     "data": {
      "text/plain": [
       "LogisticRegression(C=1.0, class_weight=None, dual=False, fit_intercept=True,\n",
       "          intercept_scaling=1, max_iter=100, multi_class='warn',\n",
       "          n_jobs=None, penalty='l2', random_state=None, solver='warn',\n",
       "          tol=0.0001, verbose=0, warm_start=False)"
      ]
     },
     "execution_count": 16,
     "metadata": {},
     "output_type": "execute_result"
    }
   ],
   "source": [
    "# Create a logisitc regression model \n",
    "from sklearn.linear_model import LogisticRegression\n",
    "classifier = LogisticRegression()\n",
    "classifier"
   ]
  },
  {
   "cell_type": "code",
   "execution_count": 17,
   "metadata": {},
   "outputs": [
    {
     "name": "stderr",
     "output_type": "stream",
     "text": [
      "C:\\Users\\FrancesHomeLT\\Anaconda\\Anaconda3\\envs\\PythonData\\lib\\site-packages\\sklearn\\linear_model\\logistic.py:433: FutureWarning: Default solver will be changed to 'lbfgs' in 0.22. Specify a solver to silence this warning.\n",
      "  FutureWarning)\n"
     ]
    },
    {
     "data": {
      "text/plain": [
       "LogisticRegression(C=1.0, class_weight=None, dual=False, fit_intercept=True,\n",
       "          intercept_scaling=1, max_iter=100, multi_class='warn',\n",
       "          n_jobs=None, penalty='l2', random_state=None, solver='warn',\n",
       "          tol=0.0001, verbose=0, warm_start=False)"
      ]
     },
     "execution_count": 17,
     "metadata": {},
     "output_type": "execute_result"
    }
   ],
   "source": [
    "# Fit (train) model with training data \n",
    "classifier.fit(X_train, y_train)"
   ]
  },
  {
   "cell_type": "code",
   "execution_count": 18,
   "metadata": {},
   "outputs": [
    {
     "name": "stdout",
     "output_type": "stream",
     "text": [
      "Training Data Score: 0.8698703443214483\n",
      "Testing Data Score: 0.8704686186071401\n"
     ]
    }
   ],
   "source": [
    "# validate the model using the test data\n",
    "print(f\"Training Data Score: {classifier.score(X_train, y_train)}\")\n",
    "print(f\"Testing Data Score: {classifier.score(X_test, y_test)}\")"
   ]
  },
  {
   "cell_type": "code",
   "execution_count": 19,
   "metadata": {},
   "outputs": [
    {
     "data": {
      "text/plain": [
       "['./chicago-crime-trained-model-October29.pkl']"
      ]
     },
     "execution_count": 19,
     "metadata": {},
     "output_type": "execute_result"
    }
   ],
   "source": [
    "### Save the trained model\n",
    "from sklearn.externals import joblib\n",
    "\n",
    "joblib.dump(classifier, \"./chicago-crime-trained-model-October29.pkl\")"
   ]
  },
  {
   "cell_type": "code",
   "execution_count": null,
   "metadata": {},
   "outputs": [],
   "source": []
  }
 ],
 "metadata": {
  "kernelspec": {
   "display_name": "Python [conda env:PythonData] *",
   "language": "python",
   "name": "conda-env-PythonData-py"
  },
  "language_info": {
   "codemirror_mode": {
    "name": "ipython",
    "version": 3
   },
   "file_extension": ".py",
   "mimetype": "text/x-python",
   "name": "python",
   "nbconvert_exporter": "python",
   "pygments_lexer": "ipython3",
   "version": "3.6.8"
  },
  "nteract": {
   "version": "0.11.9"
  }
 },
 "nbformat": 4,
 "nbformat_minor": 2
}
