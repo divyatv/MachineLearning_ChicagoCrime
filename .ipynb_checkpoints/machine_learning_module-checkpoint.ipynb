{
 "cells": [
  {
   "cell_type": "code",
   "execution_count": 1,
   "metadata": {},
   "outputs": [],
   "source": [
    "%matplotlib inline\n",
    "\n",
    "import matplotlib.pyplot as plt\n",
    "import pandas as pd\n",
    "import numpy as np\n",
    "\n",
    "from IPython.display import IFrame\n",
    "from IPython.core.display import display\n",
    "import os\n",
    "import time\n",
    "import seaborn as sns"
   ]
  },
  {
   "cell_type": "markdown",
   "metadata": {},
   "source": [
    "### Read the prepared data #####"
   ]
  },
  {
   "cell_type": "code",
   "execution_count": 2,
   "metadata": {},
   "outputs": [],
   "source": [
    "#### Function definition to read the dataset\n",
    "\n",
    "def read_crime_data():\n",
    "    \n",
    "    file = os.path.join('../Resources','nonull_date_binary_arr_domestic_corr_removecol.csv')\n",
    "    crime_df = pd.read_csv(file)\n",
    "    return crime_df"
   ]
  },
  {
   "cell_type": "code",
   "execution_count": 3,
   "metadata": {},
   "outputs": [],
   "source": [
    "df=read_crime_data()"
   ]
  },
  {
   "cell_type": "code",
   "execution_count": 4,
   "metadata": {},
   "outputs": [
    {
     "data": {
      "text/html": [
       "<div>\n",
       "<style scoped>\n",
       "    .dataframe tbody tr th:only-of-type {\n",
       "        vertical-align: middle;\n",
       "    }\n",
       "\n",
       "    .dataframe tbody tr th {\n",
       "        vertical-align: top;\n",
       "    }\n",
       "\n",
       "    .dataframe thead th {\n",
       "        text-align: right;\n",
       "    }\n",
       "</style>\n",
       "<table border=\"1\" class=\"dataframe\">\n",
       "  <thead>\n",
       "    <tr style=\"text-align: right;\">\n",
       "      <th></th>\n",
       "      <th>ID</th>\n",
       "      <th>Date</th>\n",
       "      <th>IUCR</th>\n",
       "      <th>CrimeType</th>\n",
       "      <th>Location Description</th>\n",
       "      <th>Arrest</th>\n",
       "      <th>Domestic</th>\n",
       "      <th>Ward</th>\n",
       "      <th>Community Area</th>\n",
       "      <th>FBI Code</th>\n",
       "      <th>...</th>\n",
       "      <th>Longitude</th>\n",
       "      <th>Zip Codes</th>\n",
       "      <th>Community Areas</th>\n",
       "      <th>Census Tracts</th>\n",
       "      <th>Wards</th>\n",
       "      <th>Boundaries - ZIP Codes</th>\n",
       "      <th>Police Districts</th>\n",
       "      <th>Police Beats</th>\n",
       "      <th>OnlyDate</th>\n",
       "      <th>Time</th>\n",
       "    </tr>\n",
       "  </thead>\n",
       "  <tbody>\n",
       "    <tr>\n",
       "      <th>0</th>\n",
       "      <td>11859143</td>\n",
       "      <td>10/12/2019 11:58:00 PM</td>\n",
       "      <td>1310</td>\n",
       "      <td>CRIMINAL DAMAGE</td>\n",
       "      <td>APARTMENT</td>\n",
       "      <td>0</td>\n",
       "      <td>0</td>\n",
       "      <td>6.0</td>\n",
       "      <td>67.0</td>\n",
       "      <td>14</td>\n",
       "      <td>...</td>\n",
       "      <td>-87.657826</td>\n",
       "      <td>22257.0</td>\n",
       "      <td>65.0</td>\n",
       "      <td>21.0</td>\n",
       "      <td>32.0</td>\n",
       "      <td>23.0</td>\n",
       "      <td>17.0</td>\n",
       "      <td>216.0</td>\n",
       "      <td>2019-10-12</td>\n",
       "      <td>11:58:00 PM</td>\n",
       "    </tr>\n",
       "    <tr>\n",
       "      <th>1</th>\n",
       "      <td>11859039</td>\n",
       "      <td>10/12/2019 11:57:00 PM</td>\n",
       "      <td>2092</td>\n",
       "      <td>NARCOTICS</td>\n",
       "      <td>PARKING LOT/GARAGE(NON.RESID.)</td>\n",
       "      <td>1</td>\n",
       "      <td>0</td>\n",
       "      <td>28.0</td>\n",
       "      <td>26.0</td>\n",
       "      <td>18</td>\n",
       "      <td>...</td>\n",
       "      <td>-87.723882</td>\n",
       "      <td>21572.0</td>\n",
       "      <td>27.0</td>\n",
       "      <td>736.0</td>\n",
       "      <td>23.0</td>\n",
       "      <td>30.0</td>\n",
       "      <td>16.0</td>\n",
       "      <td>82.0</td>\n",
       "      <td>2019-10-12</td>\n",
       "      <td>11:57:00 PM</td>\n",
       "    </tr>\n",
       "    <tr>\n",
       "      <th>2</th>\n",
       "      <td>11859098</td>\n",
       "      <td>10/12/2019 11:55:00 PM</td>\n",
       "      <td>0454</td>\n",
       "      <td>BATTERY</td>\n",
       "      <td>STREET</td>\n",
       "      <td>0</td>\n",
       "      <td>0</td>\n",
       "      <td>24.0</td>\n",
       "      <td>29.0</td>\n",
       "      <td>08B</td>\n",
       "      <td>...</td>\n",
       "      <td>-87.712695</td>\n",
       "      <td>21569.0</td>\n",
       "      <td>30.0</td>\n",
       "      <td>800.0</td>\n",
       "      <td>14.0</td>\n",
       "      <td>57.0</td>\n",
       "      <td>21.0</td>\n",
       "      <td>153.0</td>\n",
       "      <td>2019-10-12</td>\n",
       "      <td>11:55:00 PM</td>\n",
       "    </tr>\n",
       "  </tbody>\n",
       "</table>\n",
       "<p>3 rows × 23 columns</p>\n",
       "</div>"
      ],
      "text/plain": [
       "         ID                    Date  IUCR        CrimeType  \\\n",
       "0  11859143  10/12/2019 11:58:00 PM  1310  CRIMINAL DAMAGE   \n",
       "1  11859039  10/12/2019 11:57:00 PM  2092        NARCOTICS   \n",
       "2  11859098  10/12/2019 11:55:00 PM  0454          BATTERY   \n",
       "\n",
       "             Location Description  Arrest  Domestic  Ward  Community Area  \\\n",
       "0                       APARTMENT       0         0   6.0            67.0   \n",
       "1  PARKING LOT/GARAGE(NON.RESID.)       1         0  28.0            26.0   \n",
       "2                          STREET       0         0  24.0            29.0   \n",
       "\n",
       "  FBI Code  ...  Longitude Zip Codes  Community Areas  Census Tracts  Wards  \\\n",
       "0       14  ... -87.657826   22257.0             65.0           21.0   32.0   \n",
       "1       18  ... -87.723882   21572.0             27.0          736.0   23.0   \n",
       "2      08B  ... -87.712695   21569.0             30.0          800.0   14.0   \n",
       "\n",
       "   Boundaries - ZIP Codes  Police Districts  Police Beats    OnlyDate  \\\n",
       "0                    23.0              17.0         216.0  2019-10-12   \n",
       "1                    30.0              16.0          82.0  2019-10-12   \n",
       "2                    57.0              21.0         153.0  2019-10-12   \n",
       "\n",
       "          Time  \n",
       "0  11:58:00 PM  \n",
       "1  11:57:00 PM  \n",
       "2  11:55:00 PM  \n",
       "\n",
       "[3 rows x 23 columns]"
      ]
     },
     "execution_count": 4,
     "metadata": {},
     "output_type": "execute_result"
    }
   ],
   "source": [
    "df.head(3)"
   ]
  },
  {
   "cell_type": "code",
   "execution_count": null,
   "metadata": {},
   "outputs": [],
   "source": [
    "#df['time_hour'] = pd.to_datetime(df['Time']).dt.hour\n",
    "\n",
    "df['time_hour'] = pd.to_datetime(df['Time']).dt.strftime('%H:%M:%S')"
   ]
  },
  {
   "cell_type": "code",
   "execution_count": 13,
   "metadata": {},
   "outputs": [],
   "source": [
    "df['hourofday'] = pd.to_datetime(df['time_hour']).dt.hour"
   ]
  },
  {
   "cell_type": "code",
   "execution_count": 14,
   "metadata": {},
   "outputs": [
    {
     "data": {
      "text/html": [
       "<div>\n",
       "<style scoped>\n",
       "    .dataframe tbody tr th:only-of-type {\n",
       "        vertical-align: middle;\n",
       "    }\n",
       "\n",
       "    .dataframe tbody tr th {\n",
       "        vertical-align: top;\n",
       "    }\n",
       "\n",
       "    .dataframe thead th {\n",
       "        text-align: right;\n",
       "    }\n",
       "</style>\n",
       "<table border=\"1\" class=\"dataframe\">\n",
       "  <thead>\n",
       "    <tr style=\"text-align: right;\">\n",
       "      <th></th>\n",
       "      <th>ID</th>\n",
       "      <th>Date</th>\n",
       "      <th>IUCR</th>\n",
       "      <th>CrimeType</th>\n",
       "      <th>Location Description</th>\n",
       "      <th>Arrest</th>\n",
       "      <th>Domestic</th>\n",
       "      <th>Ward</th>\n",
       "      <th>Community Area</th>\n",
       "      <th>FBI Code</th>\n",
       "      <th>...</th>\n",
       "      <th>Community Areas</th>\n",
       "      <th>Census Tracts</th>\n",
       "      <th>Wards</th>\n",
       "      <th>Boundaries - ZIP Codes</th>\n",
       "      <th>Police Districts</th>\n",
       "      <th>Police Beats</th>\n",
       "      <th>OnlyDate</th>\n",
       "      <th>Time</th>\n",
       "      <th>time_hour</th>\n",
       "      <th>hourofday</th>\n",
       "    </tr>\n",
       "  </thead>\n",
       "  <tbody>\n",
       "    <tr>\n",
       "      <th>0</th>\n",
       "      <td>11859143</td>\n",
       "      <td>10/12/2019 11:58:00 PM</td>\n",
       "      <td>1310</td>\n",
       "      <td>CRIMINAL DAMAGE</td>\n",
       "      <td>APARTMENT</td>\n",
       "      <td>0</td>\n",
       "      <td>0</td>\n",
       "      <td>6.0</td>\n",
       "      <td>67.0</td>\n",
       "      <td>14</td>\n",
       "      <td>...</td>\n",
       "      <td>65.0</td>\n",
       "      <td>21.0</td>\n",
       "      <td>32.0</td>\n",
       "      <td>23.0</td>\n",
       "      <td>17.0</td>\n",
       "      <td>216.0</td>\n",
       "      <td>2019-10-12</td>\n",
       "      <td>11:58:00 PM</td>\n",
       "      <td>23:58:00</td>\n",
       "      <td>23</td>\n",
       "    </tr>\n",
       "    <tr>\n",
       "      <th>1</th>\n",
       "      <td>11859039</td>\n",
       "      <td>10/12/2019 11:57:00 PM</td>\n",
       "      <td>2092</td>\n",
       "      <td>NARCOTICS</td>\n",
       "      <td>PARKING LOT/GARAGE(NON.RESID.)</td>\n",
       "      <td>1</td>\n",
       "      <td>0</td>\n",
       "      <td>28.0</td>\n",
       "      <td>26.0</td>\n",
       "      <td>18</td>\n",
       "      <td>...</td>\n",
       "      <td>27.0</td>\n",
       "      <td>736.0</td>\n",
       "      <td>23.0</td>\n",
       "      <td>30.0</td>\n",
       "      <td>16.0</td>\n",
       "      <td>82.0</td>\n",
       "      <td>2019-10-12</td>\n",
       "      <td>11:57:00 PM</td>\n",
       "      <td>23:57:00</td>\n",
       "      <td>23</td>\n",
       "    </tr>\n",
       "    <tr>\n",
       "      <th>2</th>\n",
       "      <td>11859098</td>\n",
       "      <td>10/12/2019 11:55:00 PM</td>\n",
       "      <td>0454</td>\n",
       "      <td>BATTERY</td>\n",
       "      <td>STREET</td>\n",
       "      <td>0</td>\n",
       "      <td>0</td>\n",
       "      <td>24.0</td>\n",
       "      <td>29.0</td>\n",
       "      <td>08B</td>\n",
       "      <td>...</td>\n",
       "      <td>30.0</td>\n",
       "      <td>800.0</td>\n",
       "      <td>14.0</td>\n",
       "      <td>57.0</td>\n",
       "      <td>21.0</td>\n",
       "      <td>153.0</td>\n",
       "      <td>2019-10-12</td>\n",
       "      <td>11:55:00 PM</td>\n",
       "      <td>23:55:00</td>\n",
       "      <td>23</td>\n",
       "    </tr>\n",
       "  </tbody>\n",
       "</table>\n",
       "<p>3 rows × 25 columns</p>\n",
       "</div>"
      ],
      "text/plain": [
       "         ID                    Date  IUCR        CrimeType  \\\n",
       "0  11859143  10/12/2019 11:58:00 PM  1310  CRIMINAL DAMAGE   \n",
       "1  11859039  10/12/2019 11:57:00 PM  2092        NARCOTICS   \n",
       "2  11859098  10/12/2019 11:55:00 PM  0454          BATTERY   \n",
       "\n",
       "             Location Description  Arrest  Domestic  Ward  Community Area  \\\n",
       "0                       APARTMENT       0         0   6.0            67.0   \n",
       "1  PARKING LOT/GARAGE(NON.RESID.)       1         0  28.0            26.0   \n",
       "2                          STREET       0         0  24.0            29.0   \n",
       "\n",
       "  FBI Code  ...  Community Areas Census Tracts  Wards  Boundaries - ZIP Codes  \\\n",
       "0       14  ...             65.0          21.0   32.0                    23.0   \n",
       "1       18  ...             27.0         736.0   23.0                    30.0   \n",
       "2      08B  ...             30.0         800.0   14.0                    57.0   \n",
       "\n",
       "   Police Districts  Police Beats    OnlyDate         Time  time_hour  \\\n",
       "0              17.0         216.0  2019-10-12  11:58:00 PM   23:58:00   \n",
       "1              16.0          82.0  2019-10-12  11:57:00 PM   23:57:00   \n",
       "2              21.0         153.0  2019-10-12  11:55:00 PM   23:55:00   \n",
       "\n",
       "   hourofday  \n",
       "0         23  \n",
       "1         23  \n",
       "2         23  \n",
       "\n",
       "[3 rows x 25 columns]"
      ]
     },
     "execution_count": 14,
     "metadata": {},
     "output_type": "execute_result"
    }
   ],
   "source": []
  },
  {
   "cell_type": "code",
   "execution_count": 15,
   "metadata": {},
   "outputs": [],
   "source": [
    "### Write the file with cleaned data.\n",
    "export_csv = df.to_csv (r'cleaned_for_hour.csv', index = None, header=True)"
   ]
  },
  {
   "cell_type": "markdown",
   "metadata": {},
   "source": [
    "### Machine learning part. Read the data into K-fold and train the model"
   ]
  },
  {
   "cell_type": "code",
   "execution_count": 3,
   "metadata": {},
   "outputs": [],
   "source": [
    "def read_crime_data1():\n",
    "    \n",
    "    file = os.path.join('../Resources','data_ready_feed_ml.csv')\n",
    "    crime_df1 = pd.read_csv(file)\n",
    "    return crime_df1"
   ]
  },
  {
   "cell_type": "code",
   "execution_count": 4,
   "metadata": {},
   "outputs": [],
   "source": [
    "def read_crime_data2():\n",
    "    \n",
    "    file = os.path.join('../Resources','dataset_withXY.csv')\n",
    "    crime_df2 = pd.read_csv(file)\n",
    "    return crime_df2"
   ]
  },
  {
   "cell_type": "code",
   "execution_count": 5,
   "metadata": {},
   "outputs": [],
   "source": [
    "df_cleaned1=read_crime_data1()\n",
    "df_cleaned2=read_crime_data2()"
   ]
  },
  {
   "cell_type": "code",
   "execution_count": 8,
   "metadata": {},
   "outputs": [
    {
     "data": {
      "text/html": [
       "<div>\n",
       "<style scoped>\n",
       "    .dataframe tbody tr th:only-of-type {\n",
       "        vertical-align: middle;\n",
       "    }\n",
       "\n",
       "    .dataframe tbody tr th {\n",
       "        vertical-align: top;\n",
       "    }\n",
       "\n",
       "    .dataframe thead th {\n",
       "        text-align: right;\n",
       "    }\n",
       "</style>\n",
       "<table border=\"1\" class=\"dataframe\">\n",
       "  <thead>\n",
       "    <tr style=\"text-align: right;\">\n",
       "      <th></th>\n",
       "      <th>ID</th>\n",
       "      <th>Date</th>\n",
       "      <th>IUCR</th>\n",
       "      <th>Primary Type</th>\n",
       "      <th>Description</th>\n",
       "      <th>Location Description</th>\n",
       "      <th>Arrest</th>\n",
       "      <th>Domestic</th>\n",
       "      <th>Ward</th>\n",
       "      <th>FBI Code</th>\n",
       "      <th>...</th>\n",
       "      <th>Updated On</th>\n",
       "      <th>Latitude</th>\n",
       "      <th>Longitude</th>\n",
       "      <th>Zip Codes</th>\n",
       "      <th>Community Areas</th>\n",
       "      <th>Census Tracts</th>\n",
       "      <th>Wards</th>\n",
       "      <th>Boundaries - ZIP Codes</th>\n",
       "      <th>Police Districts</th>\n",
       "      <th>Police Beats</th>\n",
       "    </tr>\n",
       "  </thead>\n",
       "  <tbody>\n",
       "    <tr>\n",
       "      <th>0</th>\n",
       "      <td>11859143</td>\n",
       "      <td>10/12/2019 11:58:00 PM</td>\n",
       "      <td>1310</td>\n",
       "      <td>CRIMINAL DAMAGE</td>\n",
       "      <td>TO PROPERTY</td>\n",
       "      <td>APARTMENT</td>\n",
       "      <td>0</td>\n",
       "      <td>False</td>\n",
       "      <td>6.0</td>\n",
       "      <td>14</td>\n",
       "      <td>...</td>\n",
       "      <td>10/19/2019 04:04:21 PM</td>\n",
       "      <td>41.767795</td>\n",
       "      <td>-87.657826</td>\n",
       "      <td>22257.0</td>\n",
       "      <td>65.0</td>\n",
       "      <td>21.0</td>\n",
       "      <td>32.0</td>\n",
       "      <td>23.0</td>\n",
       "      <td>17.0</td>\n",
       "      <td>216.0</td>\n",
       "    </tr>\n",
       "    <tr>\n",
       "      <th>1</th>\n",
       "      <td>11859039</td>\n",
       "      <td>10/12/2019 11:57:00 PM</td>\n",
       "      <td>2092</td>\n",
       "      <td>NARCOTICS</td>\n",
       "      <td>SOLICIT NARCOTICS ON PUBLICWAY</td>\n",
       "      <td>PARKING LOT/GARAGE(NON.RESID.)</td>\n",
       "      <td>1</td>\n",
       "      <td>False</td>\n",
       "      <td>28.0</td>\n",
       "      <td>18</td>\n",
       "      <td>...</td>\n",
       "      <td>10/19/2019 04:04:21 PM</td>\n",
       "      <td>41.880748</td>\n",
       "      <td>-87.723882</td>\n",
       "      <td>21572.0</td>\n",
       "      <td>27.0</td>\n",
       "      <td>736.0</td>\n",
       "      <td>23.0</td>\n",
       "      <td>30.0</td>\n",
       "      <td>16.0</td>\n",
       "      <td>82.0</td>\n",
       "    </tr>\n",
       "  </tbody>\n",
       "</table>\n",
       "<p>2 rows × 23 columns</p>\n",
       "</div>"
      ],
      "text/plain": [
       "         ID                    Date  IUCR     Primary Type  \\\n",
       "0  11859143  10/12/2019 11:58:00 PM  1310  CRIMINAL DAMAGE   \n",
       "1  11859039  10/12/2019 11:57:00 PM  2092        NARCOTICS   \n",
       "\n",
       "                      Description            Location Description  Arrest  \\\n",
       "0                     TO PROPERTY                       APARTMENT       0   \n",
       "1  SOLICIT NARCOTICS ON PUBLICWAY  PARKING LOT/GARAGE(NON.RESID.)       1   \n",
       "\n",
       "   Domestic  Ward FBI Code  ...              Updated On   Latitude  Longitude  \\\n",
       "0     False   6.0       14  ...  10/19/2019 04:04:21 PM  41.767795 -87.657826   \n",
       "1     False  28.0       18  ...  10/19/2019 04:04:21 PM  41.880748 -87.723882   \n",
       "\n",
       "  Zip Codes  Community Areas  Census Tracts  Wards  Boundaries - ZIP Codes  \\\n",
       "0   22257.0             65.0           21.0   32.0                    23.0   \n",
       "1   21572.0             27.0          736.0   23.0                    30.0   \n",
       "\n",
       "   Police Districts  Police Beats  \n",
       "0              17.0         216.0  \n",
       "1              16.0          82.0  \n",
       "\n",
       "[2 rows x 23 columns]"
      ]
     },
     "execution_count": 8,
     "metadata": {},
     "output_type": "execute_result"
    }
   ],
   "source": []
  },
  {
   "cell_type": "code",
   "execution_count": 6,
   "metadata": {},
   "outputs": [],
   "source": [
    "df_cleaned1['XAxis']=pd.Series(df_cleaned2['X Coordinate'])\n"
   ]
  },
  {
   "cell_type": "code",
   "execution_count": 7,
   "metadata": {},
   "outputs": [
    {
     "data": {
      "text/html": [
       "<div>\n",
       "<style scoped>\n",
       "    .dataframe tbody tr th:only-of-type {\n",
       "        vertical-align: middle;\n",
       "    }\n",
       "\n",
       "    .dataframe tbody tr th {\n",
       "        vertical-align: top;\n",
       "    }\n",
       "\n",
       "    .dataframe thead th {\n",
       "        text-align: right;\n",
       "    }\n",
       "</style>\n",
       "<table border=\"1\" class=\"dataframe\">\n",
       "  <thead>\n",
       "    <tr style=\"text-align: right;\">\n",
       "      <th></th>\n",
       "      <th>ID</th>\n",
       "      <th>Date</th>\n",
       "      <th>IUCR</th>\n",
       "      <th>CrimeType</th>\n",
       "      <th>Location Description</th>\n",
       "      <th>Arrest</th>\n",
       "      <th>Domestic</th>\n",
       "      <th>Ward</th>\n",
       "      <th>Community Area</th>\n",
       "      <th>FBI Code</th>\n",
       "      <th>...</th>\n",
       "      <th>Boundaries - ZIP Codes</th>\n",
       "      <th>Police Districts</th>\n",
       "      <th>Police Beats</th>\n",
       "      <th>OnlyDate</th>\n",
       "      <th>Time</th>\n",
       "      <th>time_hour</th>\n",
       "      <th>hourofday</th>\n",
       "      <th>sin_time</th>\n",
       "      <th>cos_time</th>\n",
       "      <th>XAxis</th>\n",
       "    </tr>\n",
       "  </thead>\n",
       "  <tbody>\n",
       "    <tr>\n",
       "      <th>0</th>\n",
       "      <td>11859143</td>\n",
       "      <td>10/12/2019 11:58:00 PM</td>\n",
       "      <td>1310</td>\n",
       "      <td>CRIMINAL DAMAGE</td>\n",
       "      <td>APARTMENT</td>\n",
       "      <td>0</td>\n",
       "      <td>0</td>\n",
       "      <td>6.0</td>\n",
       "      <td>67.0</td>\n",
       "      <td>14</td>\n",
       "      <td>...</td>\n",
       "      <td>23.0</td>\n",
       "      <td>17.0</td>\n",
       "      <td>216.0</td>\n",
       "      <td>2019-10-12</td>\n",
       "      <td>11:58:00 PM</td>\n",
       "      <td>23:58:00</td>\n",
       "      <td>23</td>\n",
       "      <td>-2.449294e-16</td>\n",
       "      <td>1.0</td>\n",
       "      <td>1168528.0</td>\n",
       "    </tr>\n",
       "    <tr>\n",
       "      <th>1</th>\n",
       "      <td>11859039</td>\n",
       "      <td>10/12/2019 11:57:00 PM</td>\n",
       "      <td>2092</td>\n",
       "      <td>NARCOTICS</td>\n",
       "      <td>PARKING LOT/GARAGE(NON.RESID.)</td>\n",
       "      <td>1</td>\n",
       "      <td>0</td>\n",
       "      <td>28.0</td>\n",
       "      <td>26.0</td>\n",
       "      <td>18</td>\n",
       "      <td>...</td>\n",
       "      <td>30.0</td>\n",
       "      <td>16.0</td>\n",
       "      <td>82.0</td>\n",
       "      <td>2019-10-12</td>\n",
       "      <td>11:57:00 PM</td>\n",
       "      <td>23:57:00</td>\n",
       "      <td>23</td>\n",
       "      <td>-2.449294e-16</td>\n",
       "      <td>1.0</td>\n",
       "      <td>1150216.0</td>\n",
       "    </tr>\n",
       "  </tbody>\n",
       "</table>\n",
       "<p>2 rows × 28 columns</p>\n",
       "</div>"
      ],
      "text/plain": [
       "         ID                    Date  IUCR        CrimeType  \\\n",
       "0  11859143  10/12/2019 11:58:00 PM  1310  CRIMINAL DAMAGE   \n",
       "1  11859039  10/12/2019 11:57:00 PM  2092        NARCOTICS   \n",
       "\n",
       "             Location Description  Arrest  Domestic  Ward  Community Area  \\\n",
       "0                       APARTMENT       0         0   6.0            67.0   \n",
       "1  PARKING LOT/GARAGE(NON.RESID.)       1         0  28.0            26.0   \n",
       "\n",
       "  FBI Code  ...  Boundaries - ZIP Codes Police Districts  Police Beats  \\\n",
       "0       14  ...                    23.0             17.0         216.0   \n",
       "1       18  ...                    30.0             16.0          82.0   \n",
       "\n",
       "     OnlyDate         Time  time_hour  hourofday      sin_time  cos_time  \\\n",
       "0  2019-10-12  11:58:00 PM   23:58:00         23 -2.449294e-16       1.0   \n",
       "1  2019-10-12  11:57:00 PM   23:57:00         23 -2.449294e-16       1.0   \n",
       "\n",
       "       XAxis  \n",
       "0  1168528.0  \n",
       "1  1150216.0  \n",
       "\n",
       "[2 rows x 28 columns]"
      ]
     },
     "execution_count": 7,
     "metadata": {},
     "output_type": "execute_result"
    }
   ],
   "source": [
    "df_cleaned1.head(2)"
   ]
  },
  {
   "cell_type": "code",
   "execution_count": 9,
   "metadata": {},
   "outputs": [],
   "source": [
    "df_cleaned1['YAxis']=pd.Series(df_cleaned2['Y Coordinate'])"
   ]
  },
  {
   "cell_type": "code",
   "execution_count": 10,
   "metadata": {},
   "outputs": [
    {
     "data": {
      "text/html": [
       "<div>\n",
       "<style scoped>\n",
       "    .dataframe tbody tr th:only-of-type {\n",
       "        vertical-align: middle;\n",
       "    }\n",
       "\n",
       "    .dataframe tbody tr th {\n",
       "        vertical-align: top;\n",
       "    }\n",
       "\n",
       "    .dataframe thead th {\n",
       "        text-align: right;\n",
       "    }\n",
       "</style>\n",
       "<table border=\"1\" class=\"dataframe\">\n",
       "  <thead>\n",
       "    <tr style=\"text-align: right;\">\n",
       "      <th></th>\n",
       "      <th>ID</th>\n",
       "      <th>Date</th>\n",
       "      <th>IUCR</th>\n",
       "      <th>CrimeType</th>\n",
       "      <th>Location Description</th>\n",
       "      <th>Arrest</th>\n",
       "      <th>Domestic</th>\n",
       "      <th>Ward</th>\n",
       "      <th>Community Area</th>\n",
       "      <th>FBI Code</th>\n",
       "      <th>...</th>\n",
       "      <th>Police Districts</th>\n",
       "      <th>Police Beats</th>\n",
       "      <th>OnlyDate</th>\n",
       "      <th>Time</th>\n",
       "      <th>time_hour</th>\n",
       "      <th>hourofday</th>\n",
       "      <th>sin_time</th>\n",
       "      <th>cos_time</th>\n",
       "      <th>XAxis</th>\n",
       "      <th>YAxis</th>\n",
       "    </tr>\n",
       "  </thead>\n",
       "  <tbody>\n",
       "    <tr>\n",
       "      <th>0</th>\n",
       "      <td>11859143</td>\n",
       "      <td>10/12/2019 11:58:00 PM</td>\n",
       "      <td>1310</td>\n",
       "      <td>CRIMINAL DAMAGE</td>\n",
       "      <td>APARTMENT</td>\n",
       "      <td>0</td>\n",
       "      <td>0</td>\n",
       "      <td>6.0</td>\n",
       "      <td>67.0</td>\n",
       "      <td>14</td>\n",
       "      <td>...</td>\n",
       "      <td>17.0</td>\n",
       "      <td>216.0</td>\n",
       "      <td>2019-10-12</td>\n",
       "      <td>11:58:00 PM</td>\n",
       "      <td>23:58:00</td>\n",
       "      <td>23</td>\n",
       "      <td>-2.449294e-16</td>\n",
       "      <td>1.0</td>\n",
       "      <td>1168528.0</td>\n",
       "      <td>1858699.0</td>\n",
       "    </tr>\n",
       "    <tr>\n",
       "      <th>1</th>\n",
       "      <td>11859039</td>\n",
       "      <td>10/12/2019 11:57:00 PM</td>\n",
       "      <td>2092</td>\n",
       "      <td>NARCOTICS</td>\n",
       "      <td>PARKING LOT/GARAGE(NON.RESID.)</td>\n",
       "      <td>1</td>\n",
       "      <td>0</td>\n",
       "      <td>28.0</td>\n",
       "      <td>26.0</td>\n",
       "      <td>18</td>\n",
       "      <td>...</td>\n",
       "      <td>16.0</td>\n",
       "      <td>82.0</td>\n",
       "      <td>2019-10-12</td>\n",
       "      <td>11:57:00 PM</td>\n",
       "      <td>23:57:00</td>\n",
       "      <td>23</td>\n",
       "      <td>-2.449294e-16</td>\n",
       "      <td>1.0</td>\n",
       "      <td>1150216.0</td>\n",
       "      <td>1899724.0</td>\n",
       "    </tr>\n",
       "  </tbody>\n",
       "</table>\n",
       "<p>2 rows × 29 columns</p>\n",
       "</div>"
      ],
      "text/plain": [
       "         ID                    Date  IUCR        CrimeType  \\\n",
       "0  11859143  10/12/2019 11:58:00 PM  1310  CRIMINAL DAMAGE   \n",
       "1  11859039  10/12/2019 11:57:00 PM  2092        NARCOTICS   \n",
       "\n",
       "             Location Description  Arrest  Domestic  Ward  Community Area  \\\n",
       "0                       APARTMENT       0         0   6.0            67.0   \n",
       "1  PARKING LOT/GARAGE(NON.RESID.)       1         0  28.0            26.0   \n",
       "\n",
       "  FBI Code  ...  Police Districts Police Beats    OnlyDate         Time  \\\n",
       "0       14  ...              17.0        216.0  2019-10-12  11:58:00 PM   \n",
       "1       18  ...              16.0         82.0  2019-10-12  11:57:00 PM   \n",
       "\n",
       "   time_hour  hourofday      sin_time  cos_time      XAxis      YAxis  \n",
       "0   23:58:00         23 -2.449294e-16       1.0  1168528.0  1858699.0  \n",
       "1   23:57:00         23 -2.449294e-16       1.0  1150216.0  1899724.0  \n",
       "\n",
       "[2 rows x 29 columns]"
      ]
     },
     "execution_count": 10,
     "metadata": {},
     "output_type": "execute_result"
    }
   ],
   "source": [
    "df_cleaned1.head(2)"
   ]
  },
  {
   "cell_type": "code",
   "execution_count": 11,
   "metadata": {},
   "outputs": [
    {
     "data": {
      "text/plain": [
       "(6286967, 29)"
      ]
     },
     "execution_count": 11,
     "metadata": {},
     "output_type": "execute_result"
    }
   ],
   "source": [
    "df_cleaned1.shape"
   ]
  },
  {
   "cell_type": "code",
   "execution_count": 14,
   "metadata": {},
   "outputs": [
    {
     "name": "stdout",
     "output_type": "stream",
     "text": [
      "Number of Arrest cases:  1719183 (27.35%)\n",
      "Number of No Arrest cases: 4567784 (72.65%)\n"
     ]
    }
   ],
   "source": [
    "### Check distribution\n",
    "num_obs = len(df_cleaned1)\n",
    "num_true = len(df_cleaned1.loc[df_cleaned1['Arrest'] == 1])\n",
    "num_false = len(df_cleaned1.loc[df_cleaned1['Arrest'] == 0])\n",
    "print(\"Number of Arrest cases:  {0} ({1:2.2f}%)\".format(num_true, (num_true/num_obs) * 100))\n",
    "print(\"Number of No Arrest cases: {0} ({1:2.2f}%)\".format(num_false, (num_false/num_obs) * 100))"
   ]
  },
  {
   "cell_type": "code",
   "execution_count": 15,
   "metadata": {},
   "outputs": [
    {
     "data": {
      "text/html": [
       "<div>\n",
       "<style scoped>\n",
       "    .dataframe tbody tr th:only-of-type {\n",
       "        vertical-align: middle;\n",
       "    }\n",
       "\n",
       "    .dataframe tbody tr th {\n",
       "        vertical-align: top;\n",
       "    }\n",
       "\n",
       "    .dataframe thead th {\n",
       "        text-align: right;\n",
       "    }\n",
       "</style>\n",
       "<table border=\"1\" class=\"dataframe\">\n",
       "  <thead>\n",
       "    <tr style=\"text-align: right;\">\n",
       "      <th></th>\n",
       "      <th>ID</th>\n",
       "      <th>Date</th>\n",
       "      <th>IUCR</th>\n",
       "      <th>CrimeType</th>\n",
       "      <th>Location Description</th>\n",
       "      <th>Arrest</th>\n",
       "      <th>Domestic</th>\n",
       "      <th>Ward</th>\n",
       "      <th>Community Area</th>\n",
       "      <th>FBI Code</th>\n",
       "      <th>...</th>\n",
       "      <th>Police Districts</th>\n",
       "      <th>Police Beats</th>\n",
       "      <th>OnlyDate</th>\n",
       "      <th>Time</th>\n",
       "      <th>time_hour</th>\n",
       "      <th>hourofday</th>\n",
       "      <th>sin_time</th>\n",
       "      <th>cos_time</th>\n",
       "      <th>XAxis</th>\n",
       "      <th>YAxis</th>\n",
       "    </tr>\n",
       "  </thead>\n",
       "  <tbody>\n",
       "    <tr>\n",
       "      <th>0</th>\n",
       "      <td>11859143</td>\n",
       "      <td>10/12/2019 11:58:00 PM</td>\n",
       "      <td>1310</td>\n",
       "      <td>CRIMINAL DAMAGE</td>\n",
       "      <td>APARTMENT</td>\n",
       "      <td>0</td>\n",
       "      <td>0</td>\n",
       "      <td>6.0</td>\n",
       "      <td>67.0</td>\n",
       "      <td>14</td>\n",
       "      <td>...</td>\n",
       "      <td>17.0</td>\n",
       "      <td>216.0</td>\n",
       "      <td>2019-10-12</td>\n",
       "      <td>11:58:00 PM</td>\n",
       "      <td>23:58:00</td>\n",
       "      <td>23</td>\n",
       "      <td>-2.449294e-16</td>\n",
       "      <td>1.0</td>\n",
       "      <td>1168528.0</td>\n",
       "      <td>1858699.0</td>\n",
       "    </tr>\n",
       "    <tr>\n",
       "      <th>1</th>\n",
       "      <td>11859039</td>\n",
       "      <td>10/12/2019 11:57:00 PM</td>\n",
       "      <td>2092</td>\n",
       "      <td>NARCOTICS</td>\n",
       "      <td>PARKING LOT/GARAGE(NON.RESID.)</td>\n",
       "      <td>1</td>\n",
       "      <td>0</td>\n",
       "      <td>28.0</td>\n",
       "      <td>26.0</td>\n",
       "      <td>18</td>\n",
       "      <td>...</td>\n",
       "      <td>16.0</td>\n",
       "      <td>82.0</td>\n",
       "      <td>2019-10-12</td>\n",
       "      <td>11:57:00 PM</td>\n",
       "      <td>23:57:00</td>\n",
       "      <td>23</td>\n",
       "      <td>-2.449294e-16</td>\n",
       "      <td>1.0</td>\n",
       "      <td>1150216.0</td>\n",
       "      <td>1899724.0</td>\n",
       "    </tr>\n",
       "  </tbody>\n",
       "</table>\n",
       "<p>2 rows × 29 columns</p>\n",
       "</div>"
      ],
      "text/plain": [
       "         ID                    Date  IUCR        CrimeType  \\\n",
       "0  11859143  10/12/2019 11:58:00 PM  1310  CRIMINAL DAMAGE   \n",
       "1  11859039  10/12/2019 11:57:00 PM  2092        NARCOTICS   \n",
       "\n",
       "             Location Description  Arrest  Domestic  Ward  Community Area  \\\n",
       "0                       APARTMENT       0         0   6.0            67.0   \n",
       "1  PARKING LOT/GARAGE(NON.RESID.)       1         0  28.0            26.0   \n",
       "\n",
       "  FBI Code  ...  Police Districts Police Beats    OnlyDate         Time  \\\n",
       "0       14  ...              17.0        216.0  2019-10-12  11:58:00 PM   \n",
       "1       18  ...              16.0         82.0  2019-10-12  11:57:00 PM   \n",
       "\n",
       "   time_hour  hourofday      sin_time  cos_time      XAxis      YAxis  \n",
       "0   23:58:00         23 -2.449294e-16       1.0  1168528.0  1858699.0  \n",
       "1   23:57:00         23 -2.449294e-16       1.0  1150216.0  1899724.0  \n",
       "\n",
       "[2 rows x 29 columns]"
      ]
     },
     "execution_count": 15,
     "metadata": {},
     "output_type": "execute_result"
    }
   ],
   "source": [
    "import numpy as np\n",
    "hours_in_day=23\n",
    "df_cleaned1['sin_time']=np.sin(2*np.pi*df_cleaned1.hourofday/hours_in_day)\n",
    "df_cleaned1['cos_time']=np.cos(2*np.pi*df_cleaned1.hourofday/hours_in_day)\n",
    "\n",
    "df_cleaned1.head(2)"
   ]
  },
  {
   "cell_type": "code",
   "execution_count": null,
   "metadata": {},
   "outputs": [],
   "source": []
  },
  {
   "cell_type": "code",
   "execution_count": null,
   "metadata": {},
   "outputs": [],
   "source": []
  },
  {
   "cell_type": "code",
   "execution_count": 19,
   "metadata": {},
   "outputs": [
    {
     "data": {
      "image/png": "[encoded data removed]",
      "text/plain": [
       "<Figure size 432x288 with 1 Axes>"
      ]
     },
     "metadata": {
      "needs_background": "light"
     },
     "output_type": "display_data"
    }
   ],
   "source": [
    "df_cleaned1.sample(500).plot.scatter('sin_time','cos_time').set_aspect('equal')"
   ]
  },
  {
   "cell_type": "markdown",
   "metadata": {},
   "source": [
    "### Machine learning with random forest, naive bayes, Logistic regression"
   ]
  },
  {
   "cell_type": "code",
   "execution_count": null,
   "metadata": {},
   "outputs": [],
   "source": []
  },
  {
   "cell_type": "code",
   "execution_count": 23,
   "metadata": {},
   "outputs": [],
   "source": [
    "\n",
    "df_cleaned1['Ward'].replace(regex=True,inplace=True,to_replace=r'\\D',value=r'')"
   ]
  },
  {
   "cell_type": "code",
   "execution_count": 12,
   "metadata": {},
   "outputs": [
    {
     "data": {
      "text/html": [
       "<div>\n",
       "<style scoped>\n",
       "    .dataframe tbody tr th:only-of-type {\n",
       "        vertical-align: middle;\n",
       "    }\n",
       "\n",
       "    .dataframe tbody tr th {\n",
       "        vertical-align: top;\n",
       "    }\n",
       "\n",
       "    .dataframe thead th {\n",
       "        text-align: right;\n",
       "    }\n",
       "</style>\n",
       "<table border=\"1\" class=\"dataframe\">\n",
       "  <thead>\n",
       "    <tr style=\"text-align: right;\">\n",
       "      <th></th>\n",
       "      <th>ID</th>\n",
       "      <th>Date</th>\n",
       "      <th>IUCR</th>\n",
       "      <th>CrimeType</th>\n",
       "      <th>Location Description</th>\n",
       "      <th>Arrest</th>\n",
       "      <th>Domestic</th>\n",
       "      <th>Ward</th>\n",
       "      <th>Community Area</th>\n",
       "      <th>FBI Code</th>\n",
       "      <th>...</th>\n",
       "      <th>Wards</th>\n",
       "      <th>Boundaries - ZIP Codes</th>\n",
       "      <th>Police Districts</th>\n",
       "      <th>Police Beats</th>\n",
       "      <th>OnlyDate</th>\n",
       "      <th>Time</th>\n",
       "      <th>time_hour</th>\n",
       "      <th>hourofday</th>\n",
       "      <th>sin_time</th>\n",
       "      <th>cos_time</th>\n",
       "    </tr>\n",
       "  </thead>\n",
       "  <tbody>\n",
       "    <tr>\n",
       "      <th>0</th>\n",
       "      <td>11859143</td>\n",
       "      <td>10/12/2019 11:58:00 PM</td>\n",
       "      <td>1310</td>\n",
       "      <td>CRIMINAL DAMAGE</td>\n",
       "      <td>APARTMENT</td>\n",
       "      <td>0</td>\n",
       "      <td>0</td>\n",
       "      <td>6.0</td>\n",
       "      <td>67.0</td>\n",
       "      <td>14</td>\n",
       "      <td>...</td>\n",
       "      <td>32.0</td>\n",
       "      <td>23.0</td>\n",
       "      <td>17.0</td>\n",
       "      <td>216.0</td>\n",
       "      <td>2019-10-12</td>\n",
       "      <td>11:58:00 PM</td>\n",
       "      <td>23:58:00</td>\n",
       "      <td>23</td>\n",
       "      <td>-2.449294e-16</td>\n",
       "      <td>1.0</td>\n",
       "    </tr>\n",
       "    <tr>\n",
       "      <th>1</th>\n",
       "      <td>11859039</td>\n",
       "      <td>10/12/2019 11:57:00 PM</td>\n",
       "      <td>2092</td>\n",
       "      <td>NARCOTICS</td>\n",
       "      <td>PARKING LOT/GARAGE(NON.RESID.)</td>\n",
       "      <td>1</td>\n",
       "      <td>0</td>\n",
       "      <td>28.0</td>\n",
       "      <td>26.0</td>\n",
       "      <td>18</td>\n",
       "      <td>...</td>\n",
       "      <td>23.0</td>\n",
       "      <td>30.0</td>\n",
       "      <td>16.0</td>\n",
       "      <td>82.0</td>\n",
       "      <td>2019-10-12</td>\n",
       "      <td>11:57:00 PM</td>\n",
       "      <td>23:57:00</td>\n",
       "      <td>23</td>\n",
       "      <td>-2.449294e-16</td>\n",
       "      <td>1.0</td>\n",
       "    </tr>\n",
       "  </tbody>\n",
       "</table>\n",
       "<p>2 rows × 27 columns</p>\n",
       "</div>"
      ],
      "text/plain": [
       "         ID                    Date  IUCR        CrimeType  \\\n",
       "0  11859143  10/12/2019 11:58:00 PM  1310  CRIMINAL DAMAGE   \n",
       "1  11859039  10/12/2019 11:57:00 PM  2092        NARCOTICS   \n",
       "\n",
       "             Location Description  Arrest  Domestic  Ward  Community Area  \\\n",
       "0                       APARTMENT       0         0   6.0            67.0   \n",
       "1  PARKING LOT/GARAGE(NON.RESID.)       1         0  28.0            26.0   \n",
       "\n",
       "  FBI Code  ...  Wards Boundaries - ZIP Codes  Police Districts  Police Beats  \\\n",
       "0       14  ...   32.0                   23.0              17.0         216.0   \n",
       "1       18  ...   23.0                   30.0              16.0          82.0   \n",
       "\n",
       "     OnlyDate         Time  time_hour  hourofday      sin_time  cos_time  \n",
       "0  2019-10-12  11:58:00 PM   23:58:00         23 -2.449294e-16       1.0  \n",
       "1  2019-10-12  11:57:00 PM   23:57:00         23 -2.449294e-16       1.0  \n",
       "\n",
       "[2 rows x 27 columns]"
      ]
     },
     "execution_count": 12,
     "metadata": {},
     "output_type": "execute_result"
    }
   ],
   "source": [
    "df_cleaned.head(2)"
   ]
  },
  {
   "cell_type": "code",
   "execution_count": 26,
   "metadata": {},
   "outputs": [
    {
     "data": {
      "text/plain": [
       "array([ 6., 28., 24., 32.,  8., 15., 27., 14., 16., 42.,  1., 34., 13.,\n",
       "       35., 49.,  2., 10., 44., 36.,  5., 17., 37.,  9.,  3., 18., 33.,\n",
       "       25.,  4., 46., 22., 48., 21., 20., 23., 47.,  7., 43., 29., 45.,\n",
       "       38., 26., 19., 50., 12., 11., 41., 31., 40., 30., 39.])"
      ]
     },
     "execution_count": 26,
     "metadata": {},
     "output_type": "execute_result"
    }
   ],
   "source": [
    "df_cleaned1.Ward.unique()"
   ]
  },
  {
   "cell_type": "code",
   "execution_count": 27,
   "metadata": {},
   "outputs": [],
   "source": [
    "df_cleaned1['IUCR'].replace(regex=True,inplace=True,to_replace=r'\\D',value=r'')"
   ]
  },
  {
   "cell_type": "code",
   "execution_count": 28,
   "metadata": {},
   "outputs": [],
   "source": [
    "### Write the file with cleaned data.\n",
    "export_csv = df_cleaned1.to_csv (r'prepared_data_ready_ML_XY', index = None, header=True)"
   ]
  },
  {
   "cell_type": "code",
   "execution_count": 29,
   "metadata": {},
   "outputs": [
    {
     "data": {
      "text/html": [
       "<div>\n",
       "<style scoped>\n",
       "    .dataframe tbody tr th:only-of-type {\n",
       "        vertical-align: middle;\n",
       "    }\n",
       "\n",
       "    .dataframe tbody tr th {\n",
       "        vertical-align: top;\n",
       "    }\n",
       "\n",
       "    .dataframe thead th {\n",
       "        text-align: right;\n",
       "    }\n",
       "</style>\n",
       "<table border=\"1\" class=\"dataframe\">\n",
       "  <thead>\n",
       "    <tr style=\"text-align: right;\">\n",
       "      <th></th>\n",
       "      <th>ID</th>\n",
       "      <th>Date</th>\n",
       "      <th>IUCR</th>\n",
       "      <th>CrimeType</th>\n",
       "      <th>Location Description</th>\n",
       "      <th>Arrest</th>\n",
       "      <th>Domestic</th>\n",
       "      <th>Ward</th>\n",
       "      <th>Community Area</th>\n",
       "      <th>FBI Code</th>\n",
       "      <th>...</th>\n",
       "      <th>Police Districts</th>\n",
       "      <th>Police Beats</th>\n",
       "      <th>OnlyDate</th>\n",
       "      <th>Time</th>\n",
       "      <th>time_hour</th>\n",
       "      <th>hourofday</th>\n",
       "      <th>sin_time</th>\n",
       "      <th>cos_time</th>\n",
       "      <th>XAxis</th>\n",
       "      <th>YAxis</th>\n",
       "    </tr>\n",
       "  </thead>\n",
       "  <tbody>\n",
       "    <tr>\n",
       "      <th>0</th>\n",
       "      <td>11859143</td>\n",
       "      <td>10/12/2019 11:58:00 PM</td>\n",
       "      <td>1310</td>\n",
       "      <td>CRIMINAL DAMAGE</td>\n",
       "      <td>APARTMENT</td>\n",
       "      <td>0</td>\n",
       "      <td>0</td>\n",
       "      <td>6.0</td>\n",
       "      <td>67.0</td>\n",
       "      <td>14</td>\n",
       "      <td>...</td>\n",
       "      <td>17.0</td>\n",
       "      <td>216.0</td>\n",
       "      <td>2019-10-12</td>\n",
       "      <td>11:58:00 PM</td>\n",
       "      <td>23:58:00</td>\n",
       "      <td>23</td>\n",
       "      <td>-2.449294e-16</td>\n",
       "      <td>1.0</td>\n",
       "      <td>1168528.0</td>\n",
       "      <td>1858699.0</td>\n",
       "    </tr>\n",
       "    <tr>\n",
       "      <th>1</th>\n",
       "      <td>11859039</td>\n",
       "      <td>10/12/2019 11:57:00 PM</td>\n",
       "      <td>2092</td>\n",
       "      <td>NARCOTICS</td>\n",
       "      <td>PARKING LOT/GARAGE(NON.RESID.)</td>\n",
       "      <td>1</td>\n",
       "      <td>0</td>\n",
       "      <td>28.0</td>\n",
       "      <td>26.0</td>\n",
       "      <td>18</td>\n",
       "      <td>...</td>\n",
       "      <td>16.0</td>\n",
       "      <td>82.0</td>\n",
       "      <td>2019-10-12</td>\n",
       "      <td>11:57:00 PM</td>\n",
       "      <td>23:57:00</td>\n",
       "      <td>23</td>\n",
       "      <td>-2.449294e-16</td>\n",
       "      <td>1.0</td>\n",
       "      <td>1150216.0</td>\n",
       "      <td>1899724.0</td>\n",
       "    </tr>\n",
       "  </tbody>\n",
       "</table>\n",
       "<p>2 rows × 29 columns</p>\n",
       "</div>"
      ],
      "text/plain": [
       "         ID                    Date  IUCR        CrimeType  \\\n",
       "0  11859143  10/12/2019 11:58:00 PM  1310  CRIMINAL DAMAGE   \n",
       "1  11859039  10/12/2019 11:57:00 PM  2092        NARCOTICS   \n",
       "\n",
       "             Location Description  Arrest  Domestic  Ward  Community Area  \\\n",
       "0                       APARTMENT       0         0   6.0            67.0   \n",
       "1  PARKING LOT/GARAGE(NON.RESID.)       1         0  28.0            26.0   \n",
       "\n",
       "  FBI Code  ...  Police Districts Police Beats    OnlyDate         Time  \\\n",
       "0       14  ...              17.0        216.0  2019-10-12  11:58:00 PM   \n",
       "1       18  ...              16.0         82.0  2019-10-12  11:57:00 PM   \n",
       "\n",
       "   time_hour  hourofday      sin_time  cos_time      XAxis      YAxis  \n",
       "0   23:58:00         23 -2.449294e-16       1.0  1168528.0  1858699.0  \n",
       "1   23:57:00         23 -2.449294e-16       1.0  1150216.0  1899724.0  \n",
       "\n",
       "[2 rows x 29 columns]"
      ]
     },
     "execution_count": 29,
     "metadata": {},
     "output_type": "execute_result"
    }
   ],
   "source": [
    "df_cleaned1.head(2)"
   ]
  },
  {
   "cell_type": "markdown",
   "metadata": {},
   "source": [
    "### Define the features picked and how you got there\n"
   ]
  },
  {
   "cell_type": "markdown",
   "metadata": {},
   "source": [
    "### Machine learning code starts here by reading the csv file prepared with time feature in mind"
   ]
  },
  {
   "cell_type": "code",
   "execution_count": 2,
   "metadata": {},
   "outputs": [],
   "source": [
    "### Load the data that is time ready for machine learning code.\n",
    "def read_crime_data():\n",
    "    \n",
    "    file = os.path.join('../Resources','prepared_data_ready_ML_XY.csv')\n",
    "    crime_df = pd.read_csv(file)\n",
    "    return crime_df"
   ]
  },
  {
   "cell_type": "code",
   "execution_count": 3,
   "metadata": {},
   "outputs": [],
   "source": [
    "df_cleaned=read_crime_data()"
   ]
  },
  {
   "cell_type": "code",
   "execution_count": 4,
   "metadata": {},
   "outputs": [
    {
     "data": {
      "text/html": [
       "<div>\n",
       "<style scoped>\n",
       "    .dataframe tbody tr th:only-of-type {\n",
       "        vertical-align: middle;\n",
       "    }\n",
       "\n",
       "    .dataframe tbody tr th {\n",
       "        vertical-align: top;\n",
       "    }\n",
       "\n",
       "    .dataframe thead th {\n",
       "        text-align: right;\n",
       "    }\n",
       "</style>\n",
       "<table border=\"1\" class=\"dataframe\">\n",
       "  <thead>\n",
       "    <tr style=\"text-align: right;\">\n",
       "      <th></th>\n",
       "      <th>ID</th>\n",
       "      <th>Date</th>\n",
       "      <th>IUCR</th>\n",
       "      <th>CrimeType</th>\n",
       "      <th>Location Description</th>\n",
       "      <th>Arrest</th>\n",
       "      <th>Domestic</th>\n",
       "      <th>Ward</th>\n",
       "      <th>Community Area</th>\n",
       "      <th>FBI Code</th>\n",
       "      <th>...</th>\n",
       "      <th>Police Districts</th>\n",
       "      <th>Police Beats</th>\n",
       "      <th>OnlyDate</th>\n",
       "      <th>Time</th>\n",
       "      <th>time_hour</th>\n",
       "      <th>hourofday</th>\n",
       "      <th>sin_time</th>\n",
       "      <th>cos_time</th>\n",
       "      <th>XAxis</th>\n",
       "      <th>YAxis</th>\n",
       "    </tr>\n",
       "  </thead>\n",
       "  <tbody>\n",
       "    <tr>\n",
       "      <th>0</th>\n",
       "      <td>11859143</td>\n",
       "      <td>10/12/2019 11:58:00 PM</td>\n",
       "      <td>1310</td>\n",
       "      <td>CRIMINAL DAMAGE</td>\n",
       "      <td>APARTMENT</td>\n",
       "      <td>0</td>\n",
       "      <td>0</td>\n",
       "      <td>6.0</td>\n",
       "      <td>67.0</td>\n",
       "      <td>14</td>\n",
       "      <td>...</td>\n",
       "      <td>17.0</td>\n",
       "      <td>216.0</td>\n",
       "      <td>2019-10-12</td>\n",
       "      <td>11:58:00 PM</td>\n",
       "      <td>23:58:00</td>\n",
       "      <td>23</td>\n",
       "      <td>-2.449294e-16</td>\n",
       "      <td>1.0</td>\n",
       "      <td>1168528.0</td>\n",
       "      <td>1858699.0</td>\n",
       "    </tr>\n",
       "    <tr>\n",
       "      <th>1</th>\n",
       "      <td>11859039</td>\n",
       "      <td>10/12/2019 11:57:00 PM</td>\n",
       "      <td>2092</td>\n",
       "      <td>NARCOTICS</td>\n",
       "      <td>PARKING LOT/GARAGE(NON.RESID.)</td>\n",
       "      <td>1</td>\n",
       "      <td>0</td>\n",
       "      <td>28.0</td>\n",
       "      <td>26.0</td>\n",
       "      <td>18</td>\n",
       "      <td>...</td>\n",
       "      <td>16.0</td>\n",
       "      <td>82.0</td>\n",
       "      <td>2019-10-12</td>\n",
       "      <td>11:57:00 PM</td>\n",
       "      <td>23:57:00</td>\n",
       "      <td>23</td>\n",
       "      <td>-2.449294e-16</td>\n",
       "      <td>1.0</td>\n",
       "      <td>1150216.0</td>\n",
       "      <td>1899724.0</td>\n",
       "    </tr>\n",
       "    <tr>\n",
       "      <th>2</th>\n",
       "      <td>11859098</td>\n",
       "      <td>10/12/2019 11:55:00 PM</td>\n",
       "      <td>454</td>\n",
       "      <td>BATTERY</td>\n",
       "      <td>STREET</td>\n",
       "      <td>0</td>\n",
       "      <td>0</td>\n",
       "      <td>24.0</td>\n",
       "      <td>29.0</td>\n",
       "      <td>08B</td>\n",
       "      <td>...</td>\n",
       "      <td>21.0</td>\n",
       "      <td>153.0</td>\n",
       "      <td>2019-10-12</td>\n",
       "      <td>11:55:00 PM</td>\n",
       "      <td>23:55:00</td>\n",
       "      <td>23</td>\n",
       "      <td>-2.449294e-16</td>\n",
       "      <td>1.0</td>\n",
       "      <td>1153327.0</td>\n",
       "      <td>1890804.0</td>\n",
       "    </tr>\n",
       "  </tbody>\n",
       "</table>\n",
       "<p>3 rows × 29 columns</p>\n",
       "</div>"
      ],
      "text/plain": [
       "         ID                    Date  IUCR        CrimeType  \\\n",
       "0  11859143  10/12/2019 11:58:00 PM  1310  CRIMINAL DAMAGE   \n",
       "1  11859039  10/12/2019 11:57:00 PM  2092        NARCOTICS   \n",
       "2  11859098  10/12/2019 11:55:00 PM   454          BATTERY   \n",
       "\n",
       "             Location Description  Arrest  Domestic  Ward  Community Area  \\\n",
       "0                       APARTMENT       0         0   6.0            67.0   \n",
       "1  PARKING LOT/GARAGE(NON.RESID.)       1         0  28.0            26.0   \n",
       "2                          STREET       0         0  24.0            29.0   \n",
       "\n",
       "  FBI Code  ...  Police Districts Police Beats    OnlyDate         Time  \\\n",
       "0       14  ...              17.0        216.0  2019-10-12  11:58:00 PM   \n",
       "1       18  ...              16.0         82.0  2019-10-12  11:57:00 PM   \n",
       "2      08B  ...              21.0        153.0  2019-10-12  11:55:00 PM   \n",
       "\n",
       "   time_hour  hourofday      sin_time  cos_time      XAxis      YAxis  \n",
       "0   23:58:00         23 -2.449294e-16       1.0  1168528.0  1858699.0  \n",
       "1   23:57:00         23 -2.449294e-16       1.0  1150216.0  1899724.0  \n",
       "2   23:55:00         23 -2.449294e-16       1.0  1153327.0  1890804.0  \n",
       "\n",
       "[3 rows x 29 columns]"
      ]
     },
     "execution_count": 4,
     "metadata": {},
     "output_type": "execute_result"
    }
   ],
   "source": [
    "df_cleaned.head(3)"
   ]
  },
  {
   "cell_type": "code",
   "execution_count": 5,
   "metadata": {},
   "outputs": [
    {
     "data": {
      "image/png": "[encoded data removed]",
      "text/plain": [
       "<Figure size 432x288 with 1 Axes>"
      ]
     },
     "metadata": {
      "needs_background": "light"
     },
     "output_type": "display_data"
    }
   ],
   "source": [
    "df_cleaned.sample(500).plot.scatter('sin_time','cos_time').set_aspect('equal')"
   ]
  },
  {
   "cell_type": "code",
   "execution_count": null,
   "metadata": {},
   "outputs": [],
   "source": []
  },
  {
   "cell_type": "code",
   "execution_count": null,
   "metadata": {},
   "outputs": [],
   "source": []
  },
  {
   "cell_type": "code",
   "execution_count": 6,
   "metadata": {},
   "outputs": [
    {
     "data": {
      "text/plain": [
       "(6286967, 29)"
      ]
     },
     "execution_count": 6,
     "metadata": {},
     "output_type": "execute_result"
    }
   ],
   "source": [
    "df_cleaned.shape"
   ]
  },
  {
   "cell_type": "markdown",
   "metadata": {},
   "source": [
    "## Splitting the data for testing and training."
   ]
  },
  {
   "cell_type": "code",
   "execution_count": 7,
   "metadata": {},
   "outputs": [],
   "source": [
    "### Splitting data for training and testing\n",
    "\n",
    "#from sklearn.cross_validation import train_test_split\n",
    "from sklearn.model_selection import train_test_split\n",
    "feature_col_names = ['IUCR','sin_time' ,'cos_time', 'Ward', 'XAxis', 'YAxis']\n",
    "predicted_class_names = ['Arrest']\n",
    "\n",
    "X = df_cleaned[feature_col_names].values     # predictor feature columns (8 X m)\n",
    "y = df_cleaned[predicted_class_names].values # predicted class (1=true, 0=false) column (1 X m)\n",
    "split_test_size = 0.30\n",
    "\n",
    "X_train, X_test, y_train, y_test = train_test_split(X, y, test_size=split_test_size, random_state=42) \n",
    "                            # test_size = 0.3 is 30%, 42 is the answer to everything"
   ]
  },
  {
   "cell_type": "code",
   "execution_count": 9,
   "metadata": {},
   "outputs": [
    {
     "name": "stdout",
     "output_type": "stream",
     "text": [
      "70.00% in training set\n",
      "30.00% in test set\n"
     ]
    }
   ],
   "source": [
    "##We check to ensure we have the the desired 70% train, 30% test split of the data\n",
    "print(\"{0:0.2f}% in training set\".format((len(X_train)/len(df_cleaned.index)) * 100))\n",
    "print(\"{0:0.2f}% in test set\".format((len(X_test)/len(df_cleaned.index)) * 100))"
   ]
  },
  {
   "cell_type": "code",
   "execution_count": 10,
   "metadata": {},
   "outputs": [],
   "source": [
    "from sklearn import metrics"
   ]
  },
  {
   "cell_type": "code",
   "execution_count": null,
   "metadata": {},
   "outputs": [],
   "source": []
  },
  {
   "cell_type": "code",
   "execution_count": 11,
   "metadata": {},
   "outputs": [
    {
     "name": "stdout",
     "output_type": "stream",
     "text": [
      "Original True  : 1719183 (27.35%)\n",
      "Original False : 4567784 (72.65%)\n",
      "\n",
      "Training True  : 1202771 (27.33%)\n",
      "Training False : 3198105 (72.67%)\n",
      "\n",
      "Test True      : 516412 (27.38%)\n",
      "Test False     : 1369679 (72.62%)\n"
     ]
    }
   ],
   "source": [
    "print(\"Original True  : {0} ({1:0.2f}%)\".format(len(df_cleaned.loc[df_cleaned['Arrest'] == 1]), (len(df_cleaned.loc[df_cleaned['Arrest'] == 1])/len(df_cleaned.index)) * 100.0))\n",
    "print(\"Original False : {0} ({1:0.2f}%)\".format(len(df_cleaned.loc[df_cleaned['Arrest'] == 0]), (len(df_cleaned.loc[df_cleaned['Arrest'] == 0])/len(df_cleaned.index)) * 100.0))\n",
    "print(\"\")\n",
    "print(\"Training True  : {0} ({1:0.2f}%)\".format(len(y_train[y_train[:] == 1]), (len(y_train[y_train[:] == 1])/len(y_train) * 100.0)))\n",
    "print(\"Training False : {0} ({1:0.2f}%)\".format(len(y_train[y_train[:] == 0]), (len(y_train[y_train[:] == 0])/len(y_train) * 100.0)))\n",
    "print(\"\")\n",
    "print(\"Test True      : {0} ({1:0.2f}%)\".format(len(y_test[y_test[:] == 1]), (len(y_test[y_test[:] == 1])/len(y_test) * 100.0)))\n",
    "print(\"Test False     : {0} ({1:0.2f}%)\".format(len(y_test[y_test[:] == 0]), (len(y_test[y_test[:] == 0])/len(y_test) * 100.0)))"
   ]
  },
  {
   "cell_type": "markdown",
   "metadata": {},
   "source": [
    "#### Random Forest"
   ]
  },
  {
   "cell_type": "code",
   "execution_count": 13,
   "metadata": {},
   "outputs": [
    {
     "data": {
      "text/plain": [
       "RandomForestClassifier(bootstrap=True, class_weight=None, criterion='gini',\n",
       "            max_depth=None, max_features='auto', max_leaf_nodes=None,\n",
       "            min_impurity_decrease=0.0, min_impurity_split=None,\n",
       "            min_samples_leaf=1, min_samples_split=2,\n",
       "            min_weight_fraction_leaf=0.0, n_estimators=10, n_jobs=None,\n",
       "            oob_score=False, random_state=42, verbose=0, warm_start=False)"
      ]
     },
     "execution_count": 13,
     "metadata": {},
     "output_type": "execute_result"
    }
   ],
   "source": [
    "from sklearn.ensemble import RandomForestClassifier\n",
    "rf_model = RandomForestClassifier(random_state=42, n_estimators=10)      # Create random forest object\n",
    "rf_model.fit(X_train, y_train.ravel())"
   ]
  },
  {
   "cell_type": "code",
   "execution_count": 15,
   "metadata": {},
   "outputs": [
    {
     "name": "stdout",
     "output_type": "stream",
     "text": [
      "Accuracy: 0.9836\n"
     ]
    }
   ],
   "source": [
    "rf_predict_train = rf_model.predict(X_train)\n",
    "from sklearn import metrics\n",
    "# training metrics\n",
    "print(\"Accuracy: {0:.4f}\".format(metrics.accuracy_score(y_train, rf_predict_train)))"
   ]
  },
  {
   "cell_type": "code",
   "execution_count": 17,
   "metadata": {},
   "outputs": [
    {
     "name": "stdout",
     "output_type": "stream",
     "text": [
      "Accuracy: 0.8646\n"
     ]
    }
   ],
   "source": [
    "rf_predict_test = rf_model.predict(X_test)\n",
    "\n",
    "# testing metrics\n",
    "print(\"Accuracy: {0:.4f}\".format(metrics.accuracy_score(y_test, rf_predict_test)))"
   ]
  },
  {
   "cell_type": "code",
   "execution_count": 18,
   "metadata": {},
   "outputs": [
    {
     "name": "stdout",
     "output_type": "stream",
     "text": [
      "[[1302891   66788]\n",
      " [ 188633  327779]]\n",
      "\n",
      "Classification Report\n",
      "              precision    recall  f1-score   support\n",
      "\n",
      "           0       0.87      0.95      0.91   1369679\n",
      "           1       0.83      0.63      0.72    516412\n",
      "\n",
      "   micro avg       0.86      0.86      0.86   1886091\n",
      "   macro avg       0.85      0.79      0.82   1886091\n",
      "weighted avg       0.86      0.86      0.86   1886091\n",
      "\n"
     ]
    }
   ],
   "source": [
    "print(metrics.confusion_matrix(y_test, rf_predict_test) )\n",
    "print(\"\")\n",
    "print(\"Classification Report\")\n",
    "print(metrics.classification_report(y_test, rf_predict_test))"
   ]
  },
  {
   "cell_type": "code",
   "execution_count": 18,
   "metadata": {},
   "outputs": [
    {
     "data": {
      "text/plain": [
       "['./chicago-crime-trained-model-ward-IUCR-time-RF-oct-24-evening.pkl']"
      ]
     },
     "execution_count": 18,
     "metadata": {},
     "output_type": "execute_result"
    }
   ],
   "source": [
    "### save the trained model into a file\n",
    "from sklearn.externals import joblib\n",
    "\n",
    "joblib.dump(rf_model, \"./chicago-crime-trained-model-ward-IUCR-time-RF-oct-24-evening.pkl\")"
   ]
  },
  {
   "cell_type": "code",
   "execution_count": 19,
   "metadata": {},
   "outputs": [
    {
     "data": {
      "text/plain": [
       "1"
      ]
     },
     "execution_count": 19,
     "metadata": {},
     "output_type": "execute_result"
    }
   ],
   "source": [
    "from sklearn.tree import export_graphviz\n",
    "import os\n",
    "tree_in_forest=rf_model.estimators_[1]\n",
    "\n",
    "export_graphviz(tree_in_forest, \n",
    "               feature_names=feature_col_names,\n",
    "               filled=True, \n",
    "               rounded=True)\n",
    "\n",
    "os.system('dot -Tpng tree1.dot -o tree.png')"
   ]
  },
  {
   "cell_type": "code",
   "execution_count": null,
   "metadata": {},
   "outputs": [],
   "source": [
    "from sklearn.tree import export_graphviz\n",
    "import os\n",
    "import pydotplus\n",
    "\n",
    "tree_in_forest=rf_model.estimators_[1]\n",
    "dot_data = export_graphviz(tree_in_forest,\n",
    "                                feature_names=feature_col_names,\n",
    "                                out_file=None,\n",
    "                                filled=True,\n",
    "                                rounded=True)\n",
    "graph = pydotplus.graph_from_dot_data(dot_data)\n",
    "\n",
    "colors = ('turquoise', 'orange')\n",
    "edges = collections.defaultdict(list)\n",
    "\n",
    "for edge in graph.get_edge_list():\n",
    "    edges[edge.get_source()].append(int(edge.get_destination()))\n",
    "\n",
    "for edge in edges:\n",
    "    edges[edge].sort()    \n",
    "    for i in range(2):\n",
    "        dest = graph.get_node(str(edges[edge][i]))[0]\n",
    "        dest.set_fillcolor(colors[i])\n",
    "\n",
    "graph.write_png('tree.png')"
   ]
  },
  {
   "cell_type": "code",
   "execution_count": 14,
   "metadata": {},
   "outputs": [],
   "source": [
    "# import pydot\n",
    "\n",
    "# tree=rf_model.estimators_[5]\n",
    "# (graph,)=pydot.graph_from_dot_file('tree1.dot')\n",
    "# graph.write_png('tree.png')"
   ]
  },
  {
   "cell_type": "markdown",
   "metadata": {},
   "source": [
    "## Naive Bayes"
   ]
  },
  {
   "cell_type": "code",
   "execution_count": 19,
   "metadata": {},
   "outputs": [
    {
     "data": {
      "text/plain": [
       "GaussianNB(priors=None, var_smoothing=1e-09)"
      ]
     },
     "execution_count": 19,
     "metadata": {},
     "output_type": "execute_result"
    }
   ],
   "source": [
    "#### Fitting a model\n",
    "from sklearn.naive_bayes import GaussianNB\n",
    "\n",
    "# create Gaussian Naive Bayes model object and train it with the data\n",
    "nb_model = GaussianNB()\n",
    "\n",
    "nb_model.fit(X_train, y_train.ravel())"
   ]
  },
  {
   "cell_type": "code",
   "execution_count": 20,
   "metadata": {},
   "outputs": [
    {
     "name": "stdout",
     "output_type": "stream",
     "text": [
      "Accuracy: 0.6868\n",
      "\n"
     ]
    }
   ],
   "source": [
    "# predict values using the training data\n",
    "nb_predict_train = nb_model.predict(X_train)\n",
    "\n",
    "# import the performance metrics library\n",
    "from sklearn import metrics\n",
    "\n",
    "# Accuracy\n",
    "print(\"Accuracy: {0:.4f}\".format(metrics.accuracy_score(y_train, nb_predict_train)))\n",
    "print()"
   ]
  },
  {
   "cell_type": "code",
   "execution_count": 21,
   "metadata": {},
   "outputs": [
    {
     "name": "stdout",
     "output_type": "stream",
     "text": [
      "nb_predict_test [0 0 1 ... 0 0 0]\n",
      "y_test [[0]\n",
      " [0]\n",
      " [0]\n",
      " ...\n",
      " [0]\n",
      " [1]\n",
      " [0]]\n",
      "Accuracy: 0.6863\n"
     ]
    }
   ],
   "source": [
    "# predict values using the testing data\n",
    "nb_predict_test = nb_model.predict(X_test)\n",
    "\n",
    "from sklearn import metrics\n",
    "\n",
    "# training metrics\n",
    "print(\"nb_predict_test\", nb_predict_test)\n",
    "print (\"y_test\", y_test)\n",
    "print(\"Accuracy: {0:.4f}\".format(metrics.accuracy_score(y_test, nb_predict_test)))"
   ]
  },
  {
   "cell_type": "code",
   "execution_count": 22,
   "metadata": {},
   "outputs": [
    {
     "name": "stdout",
     "output_type": "stream",
     "text": [
      "Confusion Matrix\n",
      "[[1272142   97537]\n",
      " [ 494126   22286]]\n",
      "\n",
      "Classification Report\n",
      "              precision    recall  f1-score   support\n",
      "\n",
      "           0       0.72      0.93      0.81   1369679\n",
      "           1       0.19      0.04      0.07    516412\n",
      "\n",
      "   micro avg       0.69      0.69      0.69   1886091\n",
      "   macro avg       0.45      0.49      0.44   1886091\n",
      "weighted avg       0.57      0.69      0.61   1886091\n",
      "\n"
     ]
    }
   ],
   "source": [
    "print(\"Confusion Matrix\")\n",
    "print(\"{0}\".format(metrics.confusion_matrix(y_test, nb_predict_test)))\n",
    "print(\"\")\n",
    "\n",
    "print(\"Classification Report\")\n",
    "print(metrics.classification_report(y_test, nb_predict_test))"
   ]
  },
  {
   "cell_type": "code",
   "execution_count": 26,
   "metadata": {},
   "outputs": [
    {
     "data": {
      "text/plain": [
       "['./chicago-crime-trained-model-ward-IUCR-time-NB-oct-25.pkl']"
      ]
     },
     "execution_count": 26,
     "metadata": {},
     "output_type": "execute_result"
    }
   ],
   "source": [
    "from sklearn.externals import joblib\n",
    "\n",
    "joblib.dump(nb_model, \"./chicago-crime-trained-model-ward-IUCR-time-NB-oct-24-evening.pkl\")"
   ]
  },
  {
   "cell_type": "markdown",
   "metadata": {},
   "source": [
    "### Plotting the random forest plot"
   ]
  },
  {
   "cell_type": "code",
   "execution_count": 26,
   "metadata": {},
   "outputs": [
    {
     "name": "stderr",
     "output_type": "stream",
     "text": [
      "C:\\Users\\divya\\Anaconda3\\envs\\pythonData\\lib\\site-packages\\sklearn\\model_selection\\_split.py:2053: FutureWarning: You should specify a value for 'cv' instead of relying on the default value. The default value will change from 3 to 5 in version 0.22.\n",
      "  warnings.warn(CV_WARNING, FutureWarning)\n",
      "C:\\Users\\divya\\Anaconda3\\envs\\pythonData\\lib\\site-packages\\sklearn\\model_selection\\_validation.py:850: DataConversionWarning: A column-vector y was passed when a 1d array was expected. Please change the shape of y to (n_samples,), for example using ravel().\n",
      "  estimator.fit(X_train, y_train, **fit_params)\n",
      "C:\\Users\\divya\\Anaconda3\\envs\\pythonData\\lib\\site-packages\\sklearn\\model_selection\\_validation.py:850: DataConversionWarning: A column-vector y was passed when a 1d array was expected. Please change the shape of y to (n_samples,), for example using ravel().\n",
      "  estimator.fit(X_train, y_train, **fit_params)\n",
      "C:\\Users\\divya\\Anaconda3\\envs\\pythonData\\lib\\site-packages\\sklearn\\model_selection\\_validation.py:850: DataConversionWarning: A column-vector y was passed when a 1d array was expected. Please change the shape of y to (n_samples,), for example using ravel().\n",
      "  estimator.fit(X_train, y_train, **fit_params)\n"
     ]
    },
    {
     "data": {
      "image/png": "[encoded data removed]",
      "text/plain": [
       "<Figure size 432x288 with 2 Axes>"
      ]
     },
     "metadata": {
      "needs_background": "light"
     },
     "output_type": "display_data"
    }
   ],
   "source": [
    "from sklearn.model_selection import cross_val_predict\n",
    "predictions = cross_val_predict(rf_model, X, y)\n",
    "\n",
    "import scikitplot as skplt\n",
    "skplt.metrics.plot_confusion_matrix(y, predictions, normalize=True)\n",
    "\n",
    "plt.show()"
   ]
  },
  {
   "cell_type": "code",
   "execution_count": null,
   "metadata": {},
   "outputs": [],
   "source": []
  }
 ],
 "metadata": {
  "kernelspec": {
   "display_name": "Python [conda env:pythonData] *",
   "language": "python",
   "name": "conda-env-pythonData-py"
  },
  "language_info": {
   "codemirror_mode": {
    "name": "ipython",
    "version": 3
   },
   "file_extension": ".py",
   "mimetype": "text/x-python",
   "name": "python",
   "nbconvert_exporter": "python",
   "pygments_lexer": "ipython3",
   "version": "3.7.3"
  }
 },
 "nbformat": 4,
 "nbformat_minor": 2
}
