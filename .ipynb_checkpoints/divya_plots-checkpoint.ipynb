{
 "cells": [
  {
   "cell_type": "code",
   "execution_count": 1,
   "metadata": {},
   "outputs": [],
   "source": [
    "%matplotlib inline\n",
    "# Dependencies and Setup\n",
    "import matplotlib.pyplot as plt\n",
    "import pandas as pd\n",
    "import numpy as np\n",
    "\n",
    "# Import API key\n",
    "#from config import key\n",
    "\n",
    "# import seaborn as sns\n",
    "### importing modules for gmplots - plot og google map\n",
    "import gmaps\n",
    "import gmplot\n",
    "### importing modules for plot on screen\n",
    "from IPython.display import IFrame\n",
    "from IPython.core.display import display\n",
    "import os\n",
    "import time\n",
    "import seaborn as sns"
   ]
  },
  {
   "cell_type": "code",
   "execution_count": null,
   "metadata": {},
   "outputs": [],
   "source": []
  },
  {
   "cell_type": "code",
   "execution_count": 4,
   "metadata": {},
   "outputs": [],
   "source": [
    "#### Function definition to read the dataset\n",
    "\n",
    "def read_crime_data():\n",
    "    \n",
    "    file = os.path.join('../Resources','Crimes_2001_to_present.csv')\n",
    "    crime_df = pd.read_csv(file)\n",
    "    return crime_df"
   ]
  },
  {
   "cell_type": "code",
   "execution_count": null,
   "metadata": {},
   "outputs": [],
   "source": []
  },
  {
   "cell_type": "code",
   "execution_count": 5,
   "metadata": {},
   "outputs": [],
   "source": [
    "df=read_crime_data()"
   ]
  },
  {
   "cell_type": "code",
   "execution_count": 6,
   "metadata": {},
   "outputs": [
    {
     "name": "stdout",
     "output_type": "stream",
     "text": [
      "ID\n",
      "Case Number\n",
      "Date\n",
      "Block\n",
      "IUCR\n",
      "Primary Type\n",
      "Description\n",
      "Location Description\n",
      "Arrest\n",
      "Domestic\n",
      "Beat\n",
      "District\n",
      "Ward\n",
      "Community Area\n",
      "FBI Code\n",
      "X Coordinate\n",
      "Y Coordinate\n",
      "Year\n",
      "Updated On\n",
      "Latitude\n",
      "Longitude\n",
      "Location\n",
      "Historical Wards 2003-2015\n",
      "Zip Codes\n",
      "Community Areas\n",
      "Census Tracts\n",
      "Wards\n",
      "Boundaries - ZIP Codes\n",
      "Police Districts\n",
      "Police Beats\n"
     ]
    }
   ],
   "source": [
    "for col in df.columns: \n",
    "    print(col) "
   ]
  },
  {
   "cell_type": "code",
   "execution_count": 7,
   "metadata": {},
   "outputs": [],
   "source": [
    "\n",
    "### remove some of the columns\n",
    "df.drop(['Case Number','Block', 'Community Area', 'Historical Wards 2003-2015','Location'], axis=1, inplace=True)\n",
    "\n"
   ]
  },
  {
   "cell_type": "code",
   "execution_count": 8,
   "metadata": {},
   "outputs": [],
   "source": [
    "df = df.dropna()"
   ]
  },
  {
   "cell_type": "code",
   "execution_count": 71,
   "metadata": {},
   "outputs": [],
   "source": [
    "export_csv = df.to_csv (r'removed_columns_dropna.csv', index = None, header=True)"
   ]
  },
  {
   "cell_type": "code",
   "execution_count": 69,
   "metadata": {},
   "outputs": [],
   "source": [
    "def read_crime_filtered_data():\n",
    "    \n",
    "    file = os.path.join('Resources','removed_columns_dropna.csv')\n",
    "    crime_df_filtered = pd.read_csv(file)\n",
    "    return crime_df_filtered"
   ]
  },
  {
   "cell_type": "code",
   "execution_count": 9,
   "metadata": {},
   "outputs": [
    {
     "data": {
      "text/plain": [
       "False"
      ]
     },
     "execution_count": 9,
     "metadata": {},
     "output_type": "execute_result"
    }
   ],
   "source": [
    "## Checking for null values\n",
    "\n",
    "df.isnull().values.any()"
   ]
  },
  {
   "cell_type": "code",
   "execution_count": 10,
   "metadata": {},
   "outputs": [],
   "source": [
    "### Drawing a correlation matrix to see if some features are the same\n",
    "def plot_corr(df, size=11):\n",
    "    \"\"\"\n",
    "    Function plots a graphical correlation matrix for each pair of columns in the dataframe.\n",
    "\n",
    "    Input:\n",
    "        df: pandas DataFrame\n",
    "        size: vertical and horizontal size of the plot\n",
    "\n",
    "    Displays:\n",
    "        matrix of correlation between columns.  Blue-cyan-yellow-red-darkred => less to more correlated\n",
    "                                                0 ------------------>  1\n",
    "                                                Expect a darkred line running from top left to bottom right\n",
    "    \"\"\"\n",
    "\n",
    "    corr = df.corr()    # data frame correlation function\n",
    "    fig, ax = plt.subplots(figsize=(size, size))\n",
    "    ax.matshow(corr)   # color code the rectangles by correlation value\n",
    "    plt.xticks(range(len(corr.columns)), corr.columns)  # draw x tick marks\n",
    "    plt.yticks(range(len(corr.columns)), corr.columns)  # draw y tick marks"
   ]
  },
  {
   "cell_type": "code",
   "execution_count": 11,
   "metadata": {},
   "outputs": [
    {
     "data": {
      "image/png": "[encoded data removed]",
      "text/plain": [
       "<Figure size 792x792 with 1 Axes>"
      ]
     },
     "metadata": {
      "needs_background": "light"
     },
     "output_type": "display_data"
    }
   ],
   "source": [
    "plot_corr(df)"
   ]
  },
  {
   "cell_type": "code",
   "execution_count": 12,
   "metadata": {},
   "outputs": [],
   "source": [
    "df.drop(['District', 'Beat'], axis=1, inplace=True)\n",
    "#df.drop(['District', 'Beat'], axis=1, inplace=True)"
   ]
  },
  {
   "cell_type": "code",
   "execution_count": 14,
   "metadata": {},
   "outputs": [
    {
     "data": {
      "image/png": "[encoded data removed]",
      "text/plain": [
       "<Figure size 792x792 with 1 Axes>"
      ]
     },
     "metadata": {
      "needs_background": "light"
     },
     "output_type": "display_data"
    }
   ],
   "source": [
    "## Much better after removing the closely correlated data\n",
    "plot_corr(df)"
   ]
  },
  {
   "cell_type": "code",
   "execution_count": 15,
   "metadata": {},
   "outputs": [
    {
     "data": {
      "text/html": [
       "<div>\n",
       "<style scoped>\n",
       "    .dataframe tbody tr th:only-of-type {\n",
       "        vertical-align: middle;\n",
       "    }\n",
       "\n",
       "    .dataframe tbody tr th {\n",
       "        vertical-align: top;\n",
       "    }\n",
       "\n",
       "    .dataframe thead th {\n",
       "        text-align: right;\n",
       "    }\n",
       "</style>\n",
       "<table border=\"1\" class=\"dataframe\">\n",
       "  <thead>\n",
       "    <tr style=\"text-align: right;\">\n",
       "      <th></th>\n",
       "      <th>ID</th>\n",
       "      <th>Arrest</th>\n",
       "      <th>Domestic</th>\n",
       "      <th>Ward</th>\n",
       "      <th>X Coordinate</th>\n",
       "      <th>Y Coordinate</th>\n",
       "      <th>Year</th>\n",
       "      <th>Latitude</th>\n",
       "      <th>Longitude</th>\n",
       "      <th>Zip Codes</th>\n",
       "      <th>Community Areas</th>\n",
       "      <th>Census Tracts</th>\n",
       "      <th>Wards</th>\n",
       "      <th>Boundaries - ZIP Codes</th>\n",
       "      <th>Police Districts</th>\n",
       "      <th>Police Beats</th>\n",
       "    </tr>\n",
       "  </thead>\n",
       "  <tbody>\n",
       "    <tr>\n",
       "      <th>ID</th>\n",
       "      <td>1.000000</td>\n",
       "      <td>-0.061499</td>\n",
       "      <td>0.050437</td>\n",
       "      <td>0.019713</td>\n",
       "      <td>0.003194</td>\n",
       "      <td>0.003045</td>\n",
       "      <td>0.986791</td>\n",
       "      <td>0.003023</td>\n",
       "      <td>0.003267</td>\n",
       "      <td>-0.005200</td>\n",
       "      <td>0.008692</td>\n",
       "      <td>-0.001052</td>\n",
       "      <td>0.011852</td>\n",
       "      <td>0.011185</td>\n",
       "      <td>0.005663</td>\n",
       "      <td>-0.005349</td>\n",
       "    </tr>\n",
       "    <tr>\n",
       "      <th>Arrest</th>\n",
       "      <td>-0.061499</td>\n",
       "      <td>1.000000</td>\n",
       "      <td>-0.067385</td>\n",
       "      <td>-0.017895</td>\n",
       "      <td>-0.034456</td>\n",
       "      <td>-0.002260</td>\n",
       "      <td>-0.062486</td>\n",
       "      <td>-0.002115</td>\n",
       "      <td>-0.034757</td>\n",
       "      <td>0.003425</td>\n",
       "      <td>-0.031257</td>\n",
       "      <td>0.006602</td>\n",
       "      <td>-0.017491</td>\n",
       "      <td>0.003363</td>\n",
       "      <td>0.064997</td>\n",
       "      <td>-0.009479</td>\n",
       "    </tr>\n",
       "    <tr>\n",
       "      <th>Domestic</th>\n",
       "      <td>0.050437</td>\n",
       "      <td>-0.067385</td>\n",
       "      <td>1.000000</td>\n",
       "      <td>-0.052791</td>\n",
       "      <td>0.006900</td>\n",
       "      <td>-0.082518</td>\n",
       "      <td>0.051987</td>\n",
       "      <td>-0.082366</td>\n",
       "      <td>0.005653</td>\n",
       "      <td>0.033893</td>\n",
       "      <td>0.021013</td>\n",
       "      <td>0.001424</td>\n",
       "      <td>-0.019221</td>\n",
       "      <td>0.013546</td>\n",
       "      <td>0.031710</td>\n",
       "      <td>0.073645</td>\n",
       "    </tr>\n",
       "    <tr>\n",
       "      <th>Ward</th>\n",
       "      <td>0.019713</td>\n",
       "      <td>-0.017895</td>\n",
       "      <td>-0.052791</td>\n",
       "      <td>1.000000</td>\n",
       "      <td>-0.461487</td>\n",
       "      <td>0.650953</td>\n",
       "      <td>0.019284</td>\n",
       "      <td>0.651335</td>\n",
       "      <td>-0.455452</td>\n",
       "      <td>-0.127095</td>\n",
       "      <td>-0.134939</td>\n",
       "      <td>0.061756</td>\n",
       "      <td>0.045753</td>\n",
       "      <td>-0.205236</td>\n",
       "      <td>-0.503345</td>\n",
       "      <td>-0.524159</td>\n",
       "    </tr>\n",
       "    <tr>\n",
       "      <th>X Coordinate</th>\n",
       "      <td>0.003194</td>\n",
       "      <td>-0.034456</td>\n",
       "      <td>0.006900</td>\n",
       "      <td>-0.461487</td>\n",
       "      <td>1.000000</td>\n",
       "      <td>-0.559446</td>\n",
       "      <td>0.004489</td>\n",
       "      <td>-0.562119</td>\n",
       "      <td>0.999919</td>\n",
       "      <td>0.049584</td>\n",
       "      <td>0.166554</td>\n",
       "      <td>-0.082037</td>\n",
       "      <td>0.089286</td>\n",
       "      <td>0.133475</td>\n",
       "      <td>0.278397</td>\n",
       "      <td>0.414999</td>\n",
       "    </tr>\n",
       "    <tr>\n",
       "      <th>Y Coordinate</th>\n",
       "      <td>0.003045</td>\n",
       "      <td>-0.002260</td>\n",
       "      <td>-0.082518</td>\n",
       "      <td>0.650953</td>\n",
       "      <td>-0.559446</td>\n",
       "      <td>1.000000</td>\n",
       "      <td>0.003079</td>\n",
       "      <td>0.999995</td>\n",
       "      <td>-0.548892</td>\n",
       "      <td>-0.166006</td>\n",
       "      <td>-0.489009</td>\n",
       "      <td>-0.026675</td>\n",
       "      <td>0.044492</td>\n",
       "      <td>-0.232587</td>\n",
       "      <td>-0.388623</td>\n",
       "      <td>-0.779362</td>\n",
       "    </tr>\n",
       "    <tr>\n",
       "      <th>Year</th>\n",
       "      <td>0.986791</td>\n",
       "      <td>-0.062486</td>\n",
       "      <td>0.051987</td>\n",
       "      <td>0.019284</td>\n",
       "      <td>0.004489</td>\n",
       "      <td>0.003079</td>\n",
       "      <td>1.000000</td>\n",
       "      <td>0.003053</td>\n",
       "      <td>0.004575</td>\n",
       "      <td>-0.005808</td>\n",
       "      <td>0.007714</td>\n",
       "      <td>-0.001504</td>\n",
       "      <td>0.011896</td>\n",
       "      <td>0.011840</td>\n",
       "      <td>0.007289</td>\n",
       "      <td>-0.005927</td>\n",
       "    </tr>\n",
       "    <tr>\n",
       "      <th>Latitude</th>\n",
       "      <td>0.003023</td>\n",
       "      <td>-0.002115</td>\n",
       "      <td>-0.082366</td>\n",
       "      <td>0.651335</td>\n",
       "      <td>-0.562119</td>\n",
       "      <td>0.999995</td>\n",
       "      <td>0.003053</td>\n",
       "      <td>1.000000</td>\n",
       "      <td>-0.551587</td>\n",
       "      <td>-0.165838</td>\n",
       "      <td>-0.488562</td>\n",
       "      <td>-0.026312</td>\n",
       "      <td>0.043998</td>\n",
       "      <td>-0.232584</td>\n",
       "      <td>-0.388881</td>\n",
       "      <td>-0.779275</td>\n",
       "    </tr>\n",
       "    <tr>\n",
       "      <th>Longitude</th>\n",
       "      <td>0.003267</td>\n",
       "      <td>-0.034757</td>\n",
       "      <td>0.005653</td>\n",
       "      <td>-0.455452</td>\n",
       "      <td>0.999919</td>\n",
       "      <td>-0.548892</td>\n",
       "      <td>0.004575</td>\n",
       "      <td>-0.551587</td>\n",
       "      <td>1.000000</td>\n",
       "      <td>0.047329</td>\n",
       "      <td>0.160753</td>\n",
       "      <td>-0.083163</td>\n",
       "      <td>0.090361</td>\n",
       "      <td>0.131165</td>\n",
       "      <td>0.274917</td>\n",
       "      <td>0.406565</td>\n",
       "    </tr>\n",
       "    <tr>\n",
       "      <th>Zip Codes</th>\n",
       "      <td>-0.005200</td>\n",
       "      <td>0.003425</td>\n",
       "      <td>0.033893</td>\n",
       "      <td>-0.127095</td>\n",
       "      <td>0.049584</td>\n",
       "      <td>-0.166006</td>\n",
       "      <td>-0.005808</td>\n",
       "      <td>-0.165838</td>\n",
       "      <td>0.047329</td>\n",
       "      <td>1.000000</td>\n",
       "      <td>0.036615</td>\n",
       "      <td>-0.024823</td>\n",
       "      <td>-0.097372</td>\n",
       "      <td>0.077063</td>\n",
       "      <td>-0.018232</td>\n",
       "      <td>0.229594</td>\n",
       "    </tr>\n",
       "    <tr>\n",
       "      <th>Community Areas</th>\n",
       "      <td>0.008692</td>\n",
       "      <td>-0.031257</td>\n",
       "      <td>0.021013</td>\n",
       "      <td>-0.134939</td>\n",
       "      <td>0.166554</td>\n",
       "      <td>-0.489009</td>\n",
       "      <td>0.007714</td>\n",
       "      <td>-0.488562</td>\n",
       "      <td>0.160753</td>\n",
       "      <td>0.036615</td>\n",
       "      <td>1.000000</td>\n",
       "      <td>0.159857</td>\n",
       "      <td>-0.045835</td>\n",
       "      <td>0.125239</td>\n",
       "      <td>0.007687</td>\n",
       "      <td>0.414206</td>\n",
       "    </tr>\n",
       "    <tr>\n",
       "      <th>Census Tracts</th>\n",
       "      <td>-0.001052</td>\n",
       "      <td>0.006602</td>\n",
       "      <td>0.001424</td>\n",
       "      <td>0.061756</td>\n",
       "      <td>-0.082037</td>\n",
       "      <td>-0.026675</td>\n",
       "      <td>-0.001504</td>\n",
       "      <td>-0.026312</td>\n",
       "      <td>-0.083163</td>\n",
       "      <td>-0.024823</td>\n",
       "      <td>0.159857</td>\n",
       "      <td>1.000000</td>\n",
       "      <td>0.012293</td>\n",
       "      <td>0.012270</td>\n",
       "      <td>0.043363</td>\n",
       "      <td>-0.081314</td>\n",
       "    </tr>\n",
       "    <tr>\n",
       "      <th>Wards</th>\n",
       "      <td>0.011852</td>\n",
       "      <td>-0.017491</td>\n",
       "      <td>-0.019221</td>\n",
       "      <td>0.045753</td>\n",
       "      <td>0.089286</td>\n",
       "      <td>0.044492</td>\n",
       "      <td>0.011896</td>\n",
       "      <td>0.043998</td>\n",
       "      <td>0.090361</td>\n",
       "      <td>-0.097372</td>\n",
       "      <td>-0.045835</td>\n",
       "      <td>0.012293</td>\n",
       "      <td>1.000000</td>\n",
       "      <td>-0.199561</td>\n",
       "      <td>-0.194064</td>\n",
       "      <td>-0.029421</td>\n",
       "    </tr>\n",
       "    <tr>\n",
       "      <th>Boundaries - ZIP Codes</th>\n",
       "      <td>0.011185</td>\n",
       "      <td>0.003363</td>\n",
       "      <td>0.013546</td>\n",
       "      <td>-0.205236</td>\n",
       "      <td>0.133475</td>\n",
       "      <td>-0.232587</td>\n",
       "      <td>0.011840</td>\n",
       "      <td>-0.232584</td>\n",
       "      <td>0.131165</td>\n",
       "      <td>0.077063</td>\n",
       "      <td>0.125239</td>\n",
       "      <td>0.012270</td>\n",
       "      <td>-0.199561</td>\n",
       "      <td>1.000000</td>\n",
       "      <td>0.359157</td>\n",
       "      <td>0.140212</td>\n",
       "    </tr>\n",
       "    <tr>\n",
       "      <th>Police Districts</th>\n",
       "      <td>0.005663</td>\n",
       "      <td>0.064997</td>\n",
       "      <td>0.031710</td>\n",
       "      <td>-0.503345</td>\n",
       "      <td>0.278397</td>\n",
       "      <td>-0.388623</td>\n",
       "      <td>0.007289</td>\n",
       "      <td>-0.388881</td>\n",
       "      <td>0.274917</td>\n",
       "      <td>-0.018232</td>\n",
       "      <td>0.007687</td>\n",
       "      <td>0.043363</td>\n",
       "      <td>-0.194064</td>\n",
       "      <td>0.359157</td>\n",
       "      <td>1.000000</td>\n",
       "      <td>0.159274</td>\n",
       "    </tr>\n",
       "    <tr>\n",
       "      <th>Police Beats</th>\n",
       "      <td>-0.005349</td>\n",
       "      <td>-0.009479</td>\n",
       "      <td>0.073645</td>\n",
       "      <td>-0.524159</td>\n",
       "      <td>0.414999</td>\n",
       "      <td>-0.779362</td>\n",
       "      <td>-0.005927</td>\n",
       "      <td>-0.779275</td>\n",
       "      <td>0.406565</td>\n",
       "      <td>0.229594</td>\n",
       "      <td>0.414206</td>\n",
       "      <td>-0.081314</td>\n",
       "      <td>-0.029421</td>\n",
       "      <td>0.140212</td>\n",
       "      <td>0.159274</td>\n",
       "      <td>1.000000</td>\n",
       "    </tr>\n",
       "  </tbody>\n",
       "</table>\n",
       "</div>"
      ],
      "text/plain": [
       "                              ID    Arrest  Domestic      Ward  X Coordinate  \\\n",
       "ID                      1.000000 -0.061499  0.050437  0.019713      0.003194   \n",
       "Arrest                 -0.061499  1.000000 -0.067385 -0.017895     -0.034456   \n",
       "Domestic                0.050437 -0.067385  1.000000 -0.052791      0.006900   \n",
       "Ward                    0.019713 -0.017895 -0.052791  1.000000     -0.461487   \n",
       "X Coordinate            0.003194 -0.034456  0.006900 -0.461487      1.000000   \n",
       "Y Coordinate            0.003045 -0.002260 -0.082518  0.650953     -0.559446   \n",
       "Year                    0.986791 -0.062486  0.051987  0.019284      0.004489   \n",
       "Latitude                0.003023 -0.002115 -0.082366  0.651335     -0.562119   \n",
       "Longitude               0.003267 -0.034757  0.005653 -0.455452      0.999919   \n",
       "Zip Codes              -0.005200  0.003425  0.033893 -0.127095      0.049584   \n",
       "Community Areas         0.008692 -0.031257  0.021013 -0.134939      0.166554   \n",
       "Census Tracts          -0.001052  0.006602  0.001424  0.061756     -0.082037   \n",
       "Wards                   0.011852 -0.017491 -0.019221  0.045753      0.089286   \n",
       "Boundaries - ZIP Codes  0.011185  0.003363  0.013546 -0.205236      0.133475   \n",
       "Police Districts        0.005663  0.064997  0.031710 -0.503345      0.278397   \n",
       "Police Beats           -0.005349 -0.009479  0.073645 -0.524159      0.414999   \n",
       "\n",
       "                        Y Coordinate      Year  Latitude  Longitude  \\\n",
       "ID                          0.003045  0.986791  0.003023   0.003267   \n",
       "Arrest                     -0.002260 -0.062486 -0.002115  -0.034757   \n",
       "Domestic                   -0.082518  0.051987 -0.082366   0.005653   \n",
       "Ward                        0.650953  0.019284  0.651335  -0.455452   \n",
       "X Coordinate               -0.559446  0.004489 -0.562119   0.999919   \n",
       "Y Coordinate                1.000000  0.003079  0.999995  -0.548892   \n",
       "Year                        0.003079  1.000000  0.003053   0.004575   \n",
       "Latitude                    0.999995  0.003053  1.000000  -0.551587   \n",
       "Longitude                  -0.548892  0.004575 -0.551587   1.000000   \n",
       "Zip Codes                  -0.166006 -0.005808 -0.165838   0.047329   \n",
       "Community Areas            -0.489009  0.007714 -0.488562   0.160753   \n",
       "Census Tracts              -0.026675 -0.001504 -0.026312  -0.083163   \n",
       "Wards                       0.044492  0.011896  0.043998   0.090361   \n",
       "Boundaries - ZIP Codes     -0.232587  0.011840 -0.232584   0.131165   \n",
       "Police Districts           -0.388623  0.007289 -0.388881   0.274917   \n",
       "Police Beats               -0.779362 -0.005927 -0.779275   0.406565   \n",
       "\n",
       "                        Zip Codes  Community Areas  Census Tracts     Wards  \\\n",
       "ID                      -0.005200         0.008692      -0.001052  0.011852   \n",
       "Arrest                   0.003425        -0.031257       0.006602 -0.017491   \n",
       "Domestic                 0.033893         0.021013       0.001424 -0.019221   \n",
       "Ward                    -0.127095        -0.134939       0.061756  0.045753   \n",
       "X Coordinate             0.049584         0.166554      -0.082037  0.089286   \n",
       "Y Coordinate            -0.166006        -0.489009      -0.026675  0.044492   \n",
       "Year                    -0.005808         0.007714      -0.001504  0.011896   \n",
       "Latitude                -0.165838        -0.488562      -0.026312  0.043998   \n",
       "Longitude                0.047329         0.160753      -0.083163  0.090361   \n",
       "Zip Codes                1.000000         0.036615      -0.024823 -0.097372   \n",
       "Community Areas          0.036615         1.000000       0.159857 -0.045835   \n",
       "Census Tracts           -0.024823         0.159857       1.000000  0.012293   \n",
       "Wards                   -0.097372        -0.045835       0.012293  1.000000   \n",
       "Boundaries - ZIP Codes   0.077063         0.125239       0.012270 -0.199561   \n",
       "Police Districts        -0.018232         0.007687       0.043363 -0.194064   \n",
       "Police Beats             0.229594         0.414206      -0.081314 -0.029421   \n",
       "\n",
       "                        Boundaries - ZIP Codes  Police Districts  Police Beats  \n",
       "ID                                    0.011185          0.005663     -0.005349  \n",
       "Arrest                                0.003363          0.064997     -0.009479  \n",
       "Domestic                              0.013546          0.031710      0.073645  \n",
       "Ward                                 -0.205236         -0.503345     -0.524159  \n",
       "X Coordinate                          0.133475          0.278397      0.414999  \n",
       "Y Coordinate                         -0.232587         -0.388623     -0.779362  \n",
       "Year                                  0.011840          0.007289     -0.005927  \n",
       "Latitude                             -0.232584         -0.388881     -0.779275  \n",
       "Longitude                             0.131165          0.274917      0.406565  \n",
       "Zip Codes                             0.077063         -0.018232      0.229594  \n",
       "Community Areas                       0.125239          0.007687      0.414206  \n",
       "Census Tracts                         0.012270          0.043363     -0.081314  \n",
       "Wards                                -0.199561         -0.194064     -0.029421  \n",
       "Boundaries - ZIP Codes                1.000000          0.359157      0.140212  \n",
       "Police Districts                      0.359157          1.000000      0.159274  \n",
       "Police Beats                          0.140212          0.159274      1.000000  "
      ]
     },
     "execution_count": 15,
     "metadata": {},
     "output_type": "execute_result"
    }
   ],
   "source": [
    "df.corr()"
   ]
  },
  {
   "cell_type": "code",
   "execution_count": 16,
   "metadata": {},
   "outputs": [],
   "source": [
    "### make arrests binary using map function\n",
    "arrests_map={True:1, False:0}\n",
    "df['Arrest']=df['Arrest'].map(arrests_map)\n"
   ]
  },
  {
   "cell_type": "code",
   "execution_count": 83,
   "metadata": {},
   "outputs": [],
   "source": [
    "### Write the file with cleaned data.\n",
    "export_csv = df.to_csv (r'dataset_withXY.csv', index = None, header=True)"
   ]
  },
  {
   "cell_type": "code",
   "execution_count": 17,
   "metadata": {},
   "outputs": [
    {
     "name": "stdout",
     "output_type": "stream",
     "text": [
      "Number of Arrest cases:  1720506 (27.34%)\n",
      "Number of No Arrest cases: 4571879 (72.66%)\n"
     ]
    }
   ],
   "source": [
    "### Check distribution\n",
    "num_obs = len(df)\n",
    "num_true = len(df.loc[df['Arrest'] == 1])\n",
    "num_false = len(df.loc[df['Arrest'] == 0])\n",
    "print(\"Number of Arrest cases:  {0} ({1:2.2f}%)\".format(num_true, (num_true/num_obs) * 100))\n",
    "print(\"Number of No Arrest cases: {0} ({1:2.2f}%)\".format(num_false, (num_false/num_obs) * 100))"
   ]
  },
  {
   "cell_type": "code",
   "execution_count": 87,
   "metadata": {},
   "outputs": [],
   "source": [
    "### Splitting data for training and testing\n",
    "\n",
    "#from sklearn.cross_validation import train_test_split\n",
    "from sklearn.model_selection import train_test_split\n",
    "feature_col_names = ['Primary Type', 'Location Description', 'Wards', 'Police Beats', 'Latitude', 'Longitude', 'Community Areas']\n",
    "predicted_class_names = ['Arrest']\n",
    "\n",
    "X = df[feature_col_names].values     # predictor feature columns (8 X m)\n",
    "y = df[predicted_class_names].values # predicted class (1=true, 0=false) column (1 X m)\n",
    "split_test_size = 0.30\n",
    "\n",
    "X_train, X_test, y_train, y_test = train_test_split(X, y, test_size=split_test_size, random_state=42) \n",
    "                            # test_size = 0.3 is 30%, 42 is the answer to everything"
   ]
  },
  {
   "cell_type": "code",
   "execution_count": 88,
   "metadata": {},
   "outputs": [
    {
     "name": "stdout",
     "output_type": "stream",
     "text": [
      "70.00% in training set\n",
      "30.00% in test set\n"
     ]
    }
   ],
   "source": [
    "##We check to ensure we have the the desired 70% train, 30% test split of the data\n",
    "print(\"{0:0.2f}% in training set\".format((len(X_train)/len(df.index)) * 100))\n",
    "print(\"{0:0.2f}% in test set\".format((len(X_test)/len(df.index)) * 100))"
   ]
  },
  {
   "cell_type": "code",
   "execution_count": 89,
   "metadata": {},
   "outputs": [
    {
     "name": "stdout",
     "output_type": "stream",
     "text": [
      "Original True  : 1721369 (27.34%)\n",
      "Original False : 4575718 (72.66%)\n",
      "\n",
      "Training True  : 1203511 (27.30%)\n",
      "Training False : 3204449 (72.70%)\n",
      "\n",
      "Test True      : 517858 (27.41%)\n",
      "Test False     : 1371269 (72.59%)\n"
     ]
    }
   ],
   "source": [
    "print(\"Original True  : {0} ({1:0.2f}%)\".format(len(df.loc[df['Arrest'] == 1]), (len(df.loc[df['Arrest'] == 1])/len(df.index)) * 100.0))\n",
    "print(\"Original False : {0} ({1:0.2f}%)\".format(len(df.loc[df['Arrest'] == 0]), (len(df.loc[df['Arrest'] == 0])/len(df.index)) * 100.0))\n",
    "print(\"\")\n",
    "print(\"Training True  : {0} ({1:0.2f}%)\".format(len(y_train[y_train[:] == 1]), (len(y_train[y_train[:] == 1])/len(y_train) * 100.0)))\n",
    "print(\"Training False : {0} ({1:0.2f}%)\".format(len(y_train[y_train[:] == 0]), (len(y_train[y_train[:] == 0])/len(y_train) * 100.0)))\n",
    "print(\"\")\n",
    "print(\"Test True      : {0} ({1:0.2f}%)\".format(len(y_test[y_test[:] == 1]), (len(y_test[y_test[:] == 1])/len(y_test) * 100.0)))\n",
    "print(\"Test False     : {0} ({1:0.2f}%)\".format(len(y_test[y_test[:] == 0]), (len(y_test[y_test[:] == 0])/len(y_test) * 100.0)))"
   ]
  },
  {
   "cell_type": "code",
   "execution_count": 94,
   "metadata": {},
   "outputs": [
    {
     "data": {
      "text/plain": [
       "array(['CRIMINAL DAMAGE', 'NARCOTICS', 'BATTERY', 'THEFT',\n",
       "       'CRIMINAL TRESPASS', 'OTHER OFFENSE', 'ASSAULT',\n",
       "       'MOTOR VEHICLE THEFT', 'CONCEALED CARRY LICENSE VIOLATION',\n",
       "       'BURGLARY', 'ROBBERY', 'INTERFERENCE WITH PUBLIC OFFICER',\n",
       "       'WEAPONS VIOLATION', 'OFFENSE INVOLVING CHILDREN',\n",
       "       'DECEPTIVE PRACTICE', 'HOMICIDE', 'PUBLIC PEACE VIOLATION',\n",
       "       'SEX OFFENSE', 'CRIM SEXUAL ASSAULT', 'LIQUOR LAW VIOLATION',\n",
       "       'INTIMIDATION', 'PROSTITUTION', 'ARSON', 'OBSCENITY', 'GAMBLING',\n",
       "       'STALKING', 'KIDNAPPING', 'PUBLIC INDECENCY', 'NON-CRIMINAL',\n",
       "       'HUMAN TRAFFICKING', 'OTHER NARCOTIC VIOLATION',\n",
       "       'NON-CRIMINAL (SUBJECT SPECIFIED)', 'NON - CRIMINAL', 'RITUALISM'],\n",
       "      dtype=object)"
      ]
     },
     "execution_count": 94,
     "metadata": {},
     "output_type": "execute_result"
    }
   ],
   "source": [
    "crime_df=df.rename(columns={\"Primary Type\": \"CrimeType\"})\n",
    "crime_df.CrimeType.unique()"
   ]
  },
  {
   "cell_type": "markdown",
   "metadata": {},
   "source": [
    "### Convert categorical values into numeric- for crime types"
   ]
  },
  {
   "cell_type": "code",
   "execution_count": 96,
   "metadata": {},
   "outputs": [],
   "source": [
    "crimetypes=['CRIMINAL DAMAGE', 'NARCOTICS', 'BATTERY', 'THEFT',\n",
    "       'CRIMINAL TRESPASS', 'OTHER OFFENSE', 'ASSAULT',\n",
    "       'MOTOR VEHICLE THEFT', 'CONCEALED CARRY LICENSE VIOLATION',\n",
    "       'BURGLARY', 'ROBBERY', 'INTERFERENCE WITH PUBLIC OFFICER',\n",
    "       'WEAPONS VIOLATION', 'OFFENSE INVOLVING CHILDREN',\n",
    "       'DECEPTIVE PRACTICE', 'HOMICIDE', 'PUBLIC PEACE VIOLATION',\n",
    "       'SEX OFFENSE', 'CRIM SEXUAL ASSAULT', 'LIQUOR LAW VIOLATION',\n",
    "       'INTIMIDATION', 'PROSTITUTION', 'ARSON', 'OBSCENITY', 'GAMBLING',\n",
    "       'STALKING', 'KIDNAPPING', 'PUBLIC INDECENCY', 'NON-CRIMINAL',\n",
    "       'HUMAN TRAFFICKING', 'OTHER NARCOTIC VIOLATION',\n",
    "       'NON-CRIMINAL (SUBJECT SPECIFIED)', 'NON - CRIMINAL', 'RITUALISM']\n",
    "\n",
    "\n",
    "crime_df['crimetype_cat']=crime_df.CrimeType.astype(\"category\", categories=crimetypes).cat.codes\n"
   ]
  },
  {
   "cell_type": "markdown",
   "metadata": {},
   "source": [
    "#### Splitting data into training and testing"
   ]
  },
  {
   "cell_type": "code",
   "execution_count": 102,
   "metadata": {},
   "outputs": [],
   "source": [
    "### Splitting data for training and testing\n",
    "\n",
    "#from sklearn.cross_validation import train_test_split\n",
    "from sklearn.model_selection import train_test_split\n",
    "feature_col_names = ['crimetype_cat', 'Wards', 'Police Beats', 'Latitude', 'Longitude', 'Community Areas']\n",
    "predicted_class_names = ['Arrest']\n",
    "\n",
    "X = crime_df[feature_col_names].values     # predictor feature columns (8 X m)\n",
    "y = crime_df[predicted_class_names].values # predicted class (1=true, 0=false) column (1 X m)\n",
    "split_test_size = 0.30\n",
    "\n",
    "X_train, X_test, y_train, y_test = train_test_split(X, y, test_size=split_test_size, random_state=42) \n",
    "                            # test_size = 0.3 is 30%, 42 is the answer to everything"
   ]
  },
  {
   "cell_type": "code",
   "execution_count": 103,
   "metadata": {},
   "outputs": [
    {
     "name": "stdout",
     "output_type": "stream",
     "text": [
      "70.00% in training set\n",
      "30.00% in test set\n"
     ]
    }
   ],
   "source": [
    "##We check to ensure we have the the desired 70% train, 30% test split of the data\n",
    "print(\"{0:0.2f}% in training set\".format((len(X_train)/len(df.index)) * 100))\n",
    "print(\"{0:0.2f}% in test set\".format((len(X_test)/len(df.index)) * 100))"
   ]
  },
  {
   "cell_type": "markdown",
   "metadata": {},
   "source": [
    "#### Naive Bayes algorithm"
   ]
  },
  {
   "cell_type": "code",
   "execution_count": 104,
   "metadata": {},
   "outputs": [
    {
     "data": {
      "text/plain": [
       "GaussianNB(priors=None, var_smoothing=1e-09)"
      ]
     },
     "execution_count": 104,
     "metadata": {},
     "output_type": "execute_result"
    }
   ],
   "source": [
    "#### Fitting a model\n",
    "from sklearn.naive_bayes import GaussianNB\n",
    "\n",
    "# create Gaussian Naive Bayes model object and train it with the data\n",
    "nb_model = GaussianNB()\n",
    "\n",
    "nb_model.fit(X_train, y_train.ravel())"
   ]
  },
  {
   "cell_type": "code",
   "execution_count": 105,
   "metadata": {},
   "outputs": [
    {
     "name": "stdout",
     "output_type": "stream",
     "text": [
      "Accuracy: 0.7293\n",
      "\n"
     ]
    }
   ],
   "source": [
    "# predict values using the training data\n",
    "nb_predict_train = nb_model.predict(X_train)\n",
    "\n",
    "# import the performance metrics library\n",
    "from sklearn import metrics\n",
    "\n",
    "# Accuracy\n",
    "print(\"Accuracy: {0:.4f}\".format(metrics.accuracy_score(y_train, nb_predict_train)))\n",
    "print()"
   ]
  },
  {
   "cell_type": "code",
   "execution_count": 106,
   "metadata": {},
   "outputs": [
    {
     "name": "stdout",
     "output_type": "stream",
     "text": [
      "nb_predict_test [0 0 0 ... 0 0 0]\n",
      "y_test [[0]\n",
      " [1]\n",
      " [0]\n",
      " ...\n",
      " [0]\n",
      " [0]\n",
      " [0]]\n",
      "Accuracy: 0.7282\n"
     ]
    }
   ],
   "source": [
    "# predict values using the testing data\n",
    "nb_predict_test = nb_model.predict(X_test)\n",
    "\n",
    "from sklearn import metrics\n",
    "\n",
    "# training metrics\n",
    "print(\"nb_predict_test\", nb_predict_test)\n",
    "print (\"y_test\", y_test)\n",
    "print(\"Accuracy: {0:.4f}\".format(metrics.accuracy_score(y_test, nb_predict_test)))"
   ]
  },
  {
   "cell_type": "code",
   "execution_count": 107,
   "metadata": {},
   "outputs": [
    {
     "name": "stdout",
     "output_type": "stream",
     "text": [
      "Confusion Matrix\n",
      "[[1332066   39203]\n",
      " [ 474206   43652]]\n",
      "\n",
      "Classification Report\n",
      "              precision    recall  f1-score   support\n",
      "\n",
      "           0       0.74      0.97      0.84   1371269\n",
      "           1       0.53      0.08      0.15    517858\n",
      "\n",
      "   micro avg       0.73      0.73      0.73   1889127\n",
      "   macro avg       0.63      0.53      0.49   1889127\n",
      "weighted avg       0.68      0.73      0.65   1889127\n",
      "\n"
     ]
    }
   ],
   "source": [
    "print(\"Confusion Matrix\")\n",
    "print(\"{0}\".format(metrics.confusion_matrix(y_test, nb_predict_test)))\n",
    "print(\"\")\n",
    "\n",
    "print(\"Classification Report\")\n",
    "print(metrics.classification_report(y_test, nb_predict_test))"
   ]
  },
  {
   "cell_type": "markdown",
   "metadata": {},
   "source": [
    "### Random Forest algorithm"
   ]
  },
  {
   "cell_type": "code",
   "execution_count": 108,
   "metadata": {},
   "outputs": [
    {
     "data": {
      "text/plain": [
       "RandomForestClassifier(bootstrap=True, class_weight=None, criterion='gini',\n",
       "            max_depth=None, max_features='auto', max_leaf_nodes=None,\n",
       "            min_impurity_decrease=0.0, min_impurity_split=None,\n",
       "            min_samples_leaf=1, min_samples_split=2,\n",
       "            min_weight_fraction_leaf=0.0, n_estimators=10, n_jobs=None,\n",
       "            oob_score=False, random_state=42, verbose=0, warm_start=False)"
      ]
     },
     "execution_count": 108,
     "metadata": {},
     "output_type": "execute_result"
    }
   ],
   "source": [
    "from sklearn.ensemble import RandomForestClassifier\n",
    "rf_model = RandomForestClassifier(random_state=42, n_estimators=10)      # Create random forest object\n",
    "rf_model.fit(X_train, y_train.ravel())"
   ]
  },
  {
   "cell_type": "code",
   "execution_count": 109,
   "metadata": {},
   "outputs": [
    {
     "name": "stdout",
     "output_type": "stream",
     "text": [
      "Accuracy: 0.9131\n"
     ]
    }
   ],
   "source": [
    "rf_predict_train = rf_model.predict(X_train)\n",
    "# training metrics\n",
    "print(\"Accuracy: {0:.4f}\".format(metrics.accuracy_score(y_train, rf_predict_train)))"
   ]
  },
  {
   "cell_type": "code",
   "execution_count": 111,
   "metadata": {},
   "outputs": [
    {
     "name": "stdout",
     "output_type": "stream",
     "text": [
      "Accuracy: 0.8509\n"
     ]
    }
   ],
   "source": [
    "rf_predict_test = rf_model.predict(X_test)\n",
    "\n",
    "# training metrics\n",
    "print(\"Accuracy: {0:.4f}\".format(metrics.accuracy_score(y_test, rf_predict_test)))"
   ]
  },
  {
   "cell_type": "code",
   "execution_count": 112,
   "metadata": {},
   "outputs": [
    {
     "name": "stdout",
     "output_type": "stream",
     "text": [
      "[[1275795   95474]\n",
      " [ 186141  331717]]\n",
      "\n",
      "Classification Report\n",
      "              precision    recall  f1-score   support\n",
      "\n",
      "           0       0.87      0.93      0.90   1371269\n",
      "           1       0.78      0.64      0.70    517858\n",
      "\n",
      "   micro avg       0.85      0.85      0.85   1889127\n",
      "   macro avg       0.82      0.79      0.80   1889127\n",
      "weighted avg       0.85      0.85      0.85   1889127\n",
      "\n"
     ]
    }
   ],
   "source": [
    "print(metrics.confusion_matrix(y_test, rf_predict_test) )\n",
    "print(\"\")\n",
    "print(\"Classification Report\")\n",
    "print(metrics.classification_report(y_test, rf_predict_test))"
   ]
  },
  {
   "cell_type": "markdown",
   "metadata": {},
   "source": [
    "#### Logistic Regression"
   ]
  },
  {
   "cell_type": "code",
   "execution_count": 113,
   "metadata": {},
   "outputs": [
    {
     "name": "stdout",
     "output_type": "stream",
     "text": [
      "Accuracy: 0.7259\n",
      "[[1371269       0]\n",
      " [ 517858       0]]\n",
      "\n",
      "Classification Report\n"
     ]
    },
    {
     "name": "stderr",
     "output_type": "stream",
     "text": [
      "C:\\Users\\divya\\Anaconda3\\envs\\pythonData\\lib\\site-packages\\sklearn\\metrics\\classification.py:1143: UndefinedMetricWarning: Precision and F-score are ill-defined and being set to 0.0 in labels with no predicted samples.\n",
      "  'precision', 'predicted', average, warn_for)\n",
      "C:\\Users\\divya\\Anaconda3\\envs\\pythonData\\lib\\site-packages\\sklearn\\metrics\\classification.py:1143: UndefinedMetricWarning: Precision and F-score are ill-defined and being set to 0.0 in labels with no predicted samples.\n",
      "  'precision', 'predicted', average, warn_for)\n"
     ]
    },
    {
     "name": "stdout",
     "output_type": "stream",
     "text": [
      "              precision    recall  f1-score   support\n",
      "\n",
      "           0       0.73      1.00      0.84   1371269\n",
      "           1       0.00      0.00      0.00    517858\n",
      "\n",
      "   micro avg       0.73      0.73      0.73   1889127\n",
      "   macro avg       0.36      0.50      0.42   1889127\n",
      "weighted avg       0.53      0.73      0.61   1889127\n",
      "\n"
     ]
    },
    {
     "name": "stderr",
     "output_type": "stream",
     "text": [
      "C:\\Users\\divya\\Anaconda3\\envs\\pythonData\\lib\\site-packages\\sklearn\\metrics\\classification.py:1143: UndefinedMetricWarning: Precision and F-score are ill-defined and being set to 0.0 in labels with no predicted samples.\n",
      "  'precision', 'predicted', average, warn_for)\n"
     ]
    }
   ],
   "source": [
    "from sklearn.linear_model import LogisticRegression\n",
    "\n",
    "lr_model =LogisticRegression(C=0.7, random_state=42, solver='liblinear', max_iter=10000)\n",
    "lr_model.fit(X_train, y_train.ravel())\n",
    "lr_predict_test = lr_model.predict(X_test)\n",
    "\n",
    "# training metrics\n",
    "print(\"Accuracy: {0:.4f}\".format(metrics.accuracy_score(y_test, lr_predict_test)))\n",
    "print(metrics.confusion_matrix(y_test, lr_predict_test) )\n",
    "print(\"\")\n",
    "print(\"Classification Report\")\n",
    "print(metrics.classification_report(y_test, lr_predict_test))"
   ]
  },
  {
   "cell_type": "code",
   "execution_count": 114,
   "metadata": {},
   "outputs": [
    {
     "name": "stdout",
     "output_type": "stream",
     "text": [
      "1st max value of 0.000 occured at C=0.100\n"
     ]
    },
    {
     "data": {
      "text/plain": [
       "Text(0, 0.5, 'recall score')"
      ]
     },
     "execution_count": 114,
     "metadata": {},
     "output_type": "execute_result"
    },
    {
     "data": {
      "image/png": "[encoded data removed]",
      "text/plain": [
       "<Figure size 432x288 with 1 Axes>"
      ]
     },
     "metadata": {
      "needs_background": "light"
     },
     "output_type": "display_data"
    }
   ],
   "source": [
    "C_start = 0.1\n",
    "C_end = 5\n",
    "C_inc = 0.1\n",
    "\n",
    "C_values, recall_scores = [], []\n",
    "\n",
    "C_val = C_start\n",
    "best_recall_score = 0\n",
    "while (C_val < C_end):\n",
    "    C_values.append(C_val)\n",
    "    lr_model_loop = LogisticRegression(C=C_val, random_state=42, solver='liblinear')\n",
    "    lr_model_loop.fit(X_train, y_train.ravel())\n",
    "    lr_predict_loop_test = lr_model_loop.predict(X_test)\n",
    "    recall_score = metrics.recall_score(y_test, lr_predict_loop_test)\n",
    "    recall_scores.append(recall_score)\n",
    "    if (recall_score > best_recall_score):\n",
    "        best_recall_score = recall_score\n",
    "        best_lr_predict_test = lr_predict_loop_test\n",
    "        \n",
    "    C_val = C_val + C_inc\n",
    "\n",
    "best_score_C_val = C_values[recall_scores.index(best_recall_score)]\n",
    "print(\"1st max value of {0:.3f} occured at C={1:.3f}\".format(best_recall_score, best_score_C_val))\n",
    "\n",
    "%matplotlib inline \n",
    "plt.plot(C_values, recall_scores, \"-\")\n",
    "plt.xlabel(\"C value\")\n",
    "plt.ylabel(\"recall score\")"
   ]
  },
  {
   "cell_type": "markdown",
   "metadata": {},
   "source": [
    "### Logistic regression with class weight= balanced"
   ]
  },
  {
   "cell_type": "code",
   "execution_count": null,
   "metadata": {},
   "outputs": [],
   "source": [
    "C_start = 0.1\n",
    "C_end = 5\n",
    "C_inc = 0.1\n",
    "\n",
    "C_values, recall_scores = [], []\n",
    "\n",
    "C_val = C_start\n",
    "best_recall_score = 0\n",
    "while (C_val < C_end):\n",
    "    C_values.append(C_val)\n",
    "    lr_model_loop = LogisticRegression(C=C_val, class_weight=\"balanced\", random_state=42, solver='liblinear', max_iter=10000)\n",
    "    lr_model_loop.fit(X_train, y_train.ravel())\n",
    "    lr_predict_loop_test = lr_model_loop.predict(X_test)\n",
    "    recall_score = metrics.recall_score(y_test, lr_predict_loop_test)\n",
    "    recall_scores.append(recall_score)\n",
    "    if (recall_score > best_recall_score):\n",
    "        best_recall_score = recall_score\n",
    "        best_lr_predict_test = lr_predict_loop_test\n",
    "        \n",
    "    C_val = C_val + C_inc\n",
    "\n",
    "best_score_C_val = C_values[recall_scores.index(best_recall_score)]\n",
    "print(\"1st max value of {0:.3f} occured at C={1:.3f}\".format(best_recall_score, best_score_C_val))\n",
    "\n",
    "%matplotlib inline \n",
    "plt.plot(C_values, recall_scores, \"-\")\n",
    "plt.xlabel(\"C value\")\n",
    "plt.ylabel(\"recall score\")"
   ]
  },
  {
   "cell_type": "markdown",
   "metadata": {},
   "source": [
    "### Checking the confusion matrix or accuracy after adding class weight balanced."
   ]
  },
  {
   "cell_type": "code",
   "execution_count": null,
   "metadata": {},
   "outputs": [],
   "source": [
    "from sklearn.linear_model import LogisticRegression\n",
    "lr_model =LogisticRegression( class_weight=\"balanced\", C=best_score_C_val, random_state=42, solver='liblinear')\n",
    "lr_model.fit(X_train, y_train.ravel())\n",
    "lr_predict_test = lr_model.predict(X_test)\n",
    "\n",
    "# training metrics\n",
    "print(\"Accuracy: {0:.4f}\".format(metrics.accuracy_score(y_test, lr_predict_test)))\n",
    "print(metrics.confusion_matrix(y_test, lr_predict_test) )\n",
    "print(\"\")\n",
    "print(\"Classification Report\")\n",
    "print(metrics.classification_report(y_test, lr_predict_test))\n",
    "print(metrics.recall_score(y_test, lr_predict_test))"
   ]
  },
  {
   "cell_type": "markdown",
   "metadata": {},
   "source": [
    "### Logistic regreesion  + Cross Validation "
   ]
  },
  {
   "cell_type": "code",
   "execution_count": 115,
   "metadata": {},
   "outputs": [
    {
     "data": {
      "text/plain": [
       "LogisticRegressionCV(Cs=3, class_weight='balanced', cv=10, dual=False,\n",
       "           fit_intercept=True, intercept_scaling=1.0, max_iter=500,\n",
       "           multi_class='warn', n_jobs=-1, penalty='l2', random_state=42,\n",
       "           refit=False, scoring=None, solver='lbfgs', tol=0.0001,\n",
       "           verbose=0)"
      ]
     },
     "execution_count": 115,
     "metadata": {},
     "output_type": "execute_result"
    }
   ],
   "source": [
    "from sklearn.linear_model import LogisticRegressionCV\n",
    "lr_cv_model = LogisticRegressionCV(n_jobs=-1, random_state=42, Cs=3, cv=10, refit=False, class_weight=\"balanced\", max_iter=500)  # set number of jobs to -1 which uses all cores to parallelize\n",
    "lr_cv_model.fit(X_train, y_train.ravel())"
   ]
  },
  {
   "cell_type": "code",
   "execution_count": 116,
   "metadata": {},
   "outputs": [
    {
     "name": "stdout",
     "output_type": "stream",
     "text": [
      "Accuracy: 0.5441\n",
      "[[777568 593701]\n",
      " [267547 250311]]\n",
      "\n",
      "Classification Report\n",
      "              precision    recall  f1-score   support\n",
      "\n",
      "           0       0.74      0.57      0.64   1371269\n",
      "           1       0.30      0.48      0.37    517858\n",
      "\n",
      "   micro avg       0.54      0.54      0.54   1889127\n",
      "   macro avg       0.52      0.53      0.51   1889127\n",
      "weighted avg       0.62      0.54      0.57   1889127\n",
      "\n"
     ]
    }
   ],
   "source": [
    "lr_cv_predict_test = lr_cv_model.predict(X_test)\n",
    "\n",
    "# training metrics\n",
    "print(\"Accuracy: {0:.4f}\".format(metrics.accuracy_score(y_test, lr_cv_predict_test)))\n",
    "print(metrics.confusion_matrix(y_test, lr_cv_predict_test) )\n",
    "print(\"\")\n",
    "print(\"Classification Report\")\n",
    "print(metrics.classification_report(y_test, lr_cv_predict_test))"
   ]
  },
  {
   "cell_type": "markdown",
   "metadata": {},
   "source": [
    "### Save the trained model into a file"
   ]
  },
  {
   "cell_type": "code",
   "execution_count": 118,
   "metadata": {},
   "outputs": [
    {
     "data": {
      "text/plain": [
       "['./chicago-crime-trained-model.pkl']"
      ]
     },
     "execution_count": 118,
     "metadata": {},
     "output_type": "execute_result"
    }
   ],
   "source": [
    "from sklearn.externals import joblib  \n",
    "joblib.dump(lr_cv_model, \"./chicago-crime-trained-model.pkl\")"
   ]
  },
  {
   "cell_type": "code",
   "execution_count": null,
   "metadata": {},
   "outputs": [],
   "source": []
  },
  {
   "cell_type": "code",
   "execution_count": 7,
   "metadata": {},
   "outputs": [],
   "source": [
    " ######################################################################\n",
    "    ### Dropping non criminal incidents - think i will not drop these for now\n",
    "#####################################################################\n",
    "df = df[df['Primary Type'] != 'NON - CRIMINAL' ]\n",
    "df = df[df['Primary Type'] != 'NON-CRIMINAL' ] \n",
    "df = df[df['Primary Type'] != 'NON-CRIMINAL (SUBJECT SPECIFIED)' ]"
   ]
  },
  {
   "cell_type": "code",
   "execution_count": 38,
   "metadata": {},
   "outputs": [],
   "source": [
    "### Filter dataframe for the crimtypes you need and write it ##############\n",
    "\n",
    "#crimetypes=['BURGLARY','ROBBERY', 'THEFT','NARCOTICS','HOMICIDE', 'BATTERY']\n",
    "\n",
    "crime_df=df.rename(columns={\"Primary Type\": \"CrimeType\"})\n",
    "crime_df_filtered= crime_df[(crime_df['CrimeType']  == 'NARCOTICS') | (crime_df['CrimeType'] == 'HOMICIDE') \n",
    "                            | (crime_df['CrimeType'] == 'BATTERY') | (crime_df['CrimeType'] == 'THEFT')\n",
    "                           | (crime_df['CrimeType'] == 'BURGLARY') | (crime_df['CrimeType'] == 'ROBBERY' )\n",
    "                           |(crime_df['CrimeType'] == 'ASSAULT') | (crime_df['CrimeType'] == 'MOTOR VEHICLE THEFT')]\n",
    "\n",
    "#crime_df_filtered.head(5)\n",
    "crime_df_filtered.CrimeType.unique()\n",
    "\n",
    "export_csv = crime_df_filtered.to_csv (r'chicago_7_crimes_dataframe.csv', index = None, header=True)\n"
   ]
  },
  {
   "cell_type": "code",
   "execution_count": 33,
   "metadata": {},
   "outputs": [
    {
     "data": {
      "text/plain": [
       "(4131666, 30)"
      ]
     },
     "execution_count": 33,
     "metadata": {},
     "output_type": "execute_result"
    }
   ],
   "source": [
    "crime_df_filtered.shape"
   ]
  },
  {
   "cell_type": "code",
   "execution_count": 36,
   "metadata": {},
   "outputs": [],
   "source": [
    "import seaborn\n",
    "def get_sns(df,years, crime_types=[]):\n",
    "    \n",
    "    cols = list(df.columns.values)\n",
    "    df1 = pd.DataFrame(columns=cols)   # empty data frame\n",
    "    plt.figure(figsize = (15, 10))\n",
    "    for crimetype in crime_types:\n",
    "        df2=df.loc[(df['CrimeType']== crimetype) &  (df['Year' ] >= years[0]) & (df['Year' ] <= years[1]), : ]\n",
    "        df1 = df1.append(df2, ignore_index = True)\n",
    "    df1 = df1.dropna()\n",
    "                   \n",
    "    sns.countplot(y= 'Location Description', data = df1, order = \\\n",
    "              df1['Location Description'].value_counts().iloc[:18].index) \n",
    "    df.head()"
   ]
  },
  {
   "cell_type": "code",
   "execution_count": 37,
   "metadata": {},
   "outputs": [
    {
     "data": {
      "image/png": "[encoded data removed]",
      "text/plain": [
       "<Figure size 1080x720 with 1 Axes>"
      ]
     },
     "metadata": {
      "needs_background": "light"
     },
     "output_type": "display_data"
    }
   ],
   "source": [
    "years=[2001, 2005]\n",
    "get_sns(df = crime_df_filtered, years=years, \\\n",
    "                crime_types = ['ASSAULT', 'BURGLARY', 'NARCOTICS', 'HOMICIDE', 'THEFT', 'ROBBERY', 'MOTOR VEHICLE THEFT'])"
   ]
  },
  {
   "cell_type": "code",
   "execution_count": 47,
   "metadata": {},
   "outputs": [],
   "source": [
    "def read_crime_filtered_data():\n",
    "    \n",
    "    file = os.path.join('Resources','chicago_7_crimes_dataframe.csv')\n",
    "    crime_df_filtered = pd.read_csv(file)\n",
    "    return crime_df_filtered"
   ]
  },
  {
   "cell_type": "code",
   "execution_count": 46,
   "metadata": {},
   "outputs": [
    {
     "data": {
      "text/html": [
       "<div>\n",
       "<style scoped>\n",
       "    .dataframe tbody tr th:only-of-type {\n",
       "        vertical-align: middle;\n",
       "    }\n",
       "\n",
       "    .dataframe tbody tr th {\n",
       "        vertical-align: top;\n",
       "    }\n",
       "\n",
       "    .dataframe thead th {\n",
       "        text-align: right;\n",
       "    }\n",
       "</style>\n",
       "<table border=\"1\" class=\"dataframe\">\n",
       "  <thead>\n",
       "    <tr style=\"text-align: right;\">\n",
       "      <th></th>\n",
       "      <th>ID</th>\n",
       "      <th>Case Number</th>\n",
       "      <th>Date</th>\n",
       "      <th>Block</th>\n",
       "      <th>IUCR</th>\n",
       "      <th>CrimeType</th>\n",
       "      <th>Description</th>\n",
       "      <th>Location Description</th>\n",
       "      <th>Arrest</th>\n",
       "      <th>Domestic</th>\n",
       "      <th>...</th>\n",
       "      <th>Longitude</th>\n",
       "      <th>Location</th>\n",
       "      <th>Historical Wards 2003-2015</th>\n",
       "      <th>Zip Codes</th>\n",
       "      <th>Community Areas</th>\n",
       "      <th>Census Tracts</th>\n",
       "      <th>Wards</th>\n",
       "      <th>Boundaries - ZIP Codes</th>\n",
       "      <th>Police Districts</th>\n",
       "      <th>Police Beats</th>\n",
       "    </tr>\n",
       "  </thead>\n",
       "  <tbody>\n",
       "    <tr>\n",
       "      <th>0</th>\n",
       "      <td>11859039</td>\n",
       "      <td>JC470679</td>\n",
       "      <td>10/12/2019 11:57:00 PM</td>\n",
       "      <td>039XX W MADISON ST</td>\n",
       "      <td>2092</td>\n",
       "      <td>NARCOTICS</td>\n",
       "      <td>SOLICIT NARCOTICS ON PUBLICWAY</td>\n",
       "      <td>PARKING LOT/GARAGE(NON.RESID.)</td>\n",
       "      <td>True</td>\n",
       "      <td>False</td>\n",
       "      <td>...</td>\n",
       "      <td>-87.723882</td>\n",
       "      <td>(41.880748488, -87.723881711)</td>\n",
       "      <td>11.0</td>\n",
       "      <td>21572.0</td>\n",
       "      <td>27.0</td>\n",
       "      <td>736.0</td>\n",
       "      <td>23.0</td>\n",
       "      <td>30.0</td>\n",
       "      <td>16.0</td>\n",
       "      <td>82.0</td>\n",
       "    </tr>\n",
       "    <tr>\n",
       "      <th>1</th>\n",
       "      <td>11859098</td>\n",
       "      <td>JC470671</td>\n",
       "      <td>10/12/2019 11:55:00 PM</td>\n",
       "      <td>018XX S ST LOUIS AVE</td>\n",
       "      <td>0454</td>\n",
       "      <td>BATTERY</td>\n",
       "      <td>AGG PO HANDS NO/MIN INJURY</td>\n",
       "      <td>STREET</td>\n",
       "      <td>False</td>\n",
       "      <td>False</td>\n",
       "      <td>...</td>\n",
       "      <td>-87.712695</td>\n",
       "      <td>(41.856209835, -87.712695108)</td>\n",
       "      <td>36.0</td>\n",
       "      <td>21569.0</td>\n",
       "      <td>30.0</td>\n",
       "      <td>800.0</td>\n",
       "      <td>14.0</td>\n",
       "      <td>57.0</td>\n",
       "      <td>21.0</td>\n",
       "      <td>153.0</td>\n",
       "    </tr>\n",
       "    <tr>\n",
       "      <th>2</th>\n",
       "      <td>11859480</td>\n",
       "      <td>JC471106</td>\n",
       "      <td>10/12/2019 11:49:00 PM</td>\n",
       "      <td>021XX W HOMER ST</td>\n",
       "      <td>0820</td>\n",
       "      <td>THEFT</td>\n",
       "      <td>$500 AND UNDER</td>\n",
       "      <td>RESIDENTIAL YARD (FRONT/BACK)</td>\n",
       "      <td>False</td>\n",
       "      <td>False</td>\n",
       "      <td>...</td>\n",
       "      <td>-87.680928</td>\n",
       "      <td>(41.916925787, -87.680927881)</td>\n",
       "      <td>16.0</td>\n",
       "      <td>22535.0</td>\n",
       "      <td>23.0</td>\n",
       "      <td>373.0</td>\n",
       "      <td>40.0</td>\n",
       "      <td>1.0</td>\n",
       "      <td>7.0</td>\n",
       "      <td>192.0</td>\n",
       "    </tr>\n",
       "    <tr>\n",
       "      <th>3</th>\n",
       "      <td>11859053</td>\n",
       "      <td>JC470654</td>\n",
       "      <td>10/12/2019 11:45:00 PM</td>\n",
       "      <td>047XX S WESTERN AVE</td>\n",
       "      <td>0860</td>\n",
       "      <td>THEFT</td>\n",
       "      <td>RETAIL THEFT</td>\n",
       "      <td>SMALL RETAIL STORE</td>\n",
       "      <td>False</td>\n",
       "      <td>False</td>\n",
       "      <td>...</td>\n",
       "      <td>-87.684414</td>\n",
       "      <td>(41.808028819, -87.684414463)</td>\n",
       "      <td>29.0</td>\n",
       "      <td>14924.0</td>\n",
       "      <td>55.0</td>\n",
       "      <td>85.0</td>\n",
       "      <td>3.0</td>\n",
       "      <td>56.0</td>\n",
       "      <td>23.0</td>\n",
       "      <td>115.0</td>\n",
       "    </tr>\n",
       "  </tbody>\n",
       "</table>\n",
       "<p>4 rows × 30 columns</p>\n",
       "</div>"
      ],
      "text/plain": [
       "         ID Case Number                    Date                 Block  IUCR  \\\n",
       "0  11859039    JC470679  10/12/2019 11:57:00 PM    039XX W MADISON ST  2092   \n",
       "1  11859098    JC470671  10/12/2019 11:55:00 PM  018XX S ST LOUIS AVE  0454   \n",
       "2  11859480    JC471106  10/12/2019 11:49:00 PM      021XX W HOMER ST  0820   \n",
       "3  11859053    JC470654  10/12/2019 11:45:00 PM   047XX S WESTERN AVE  0860   \n",
       "\n",
       "   CrimeType                     Description            Location Description  \\\n",
       "0  NARCOTICS  SOLICIT NARCOTICS ON PUBLICWAY  PARKING LOT/GARAGE(NON.RESID.)   \n",
       "1    BATTERY      AGG PO HANDS NO/MIN INJURY                          STREET   \n",
       "2      THEFT                  $500 AND UNDER   RESIDENTIAL YARD (FRONT/BACK)   \n",
       "3      THEFT                    RETAIL THEFT              SMALL RETAIL STORE   \n",
       "\n",
       "   Arrest  Domestic  ...  Longitude                       Location  \\\n",
       "0    True     False  ... -87.723882  (41.880748488, -87.723881711)   \n",
       "1   False     False  ... -87.712695  (41.856209835, -87.712695108)   \n",
       "2   False     False  ... -87.680928  (41.916925787, -87.680927881)   \n",
       "3   False     False  ... -87.684414  (41.808028819, -87.684414463)   \n",
       "\n",
       "   Historical Wards 2003-2015  Zip Codes Community Areas  Census Tracts  \\\n",
       "0                        11.0    21572.0            27.0          736.0   \n",
       "1                        36.0    21569.0            30.0          800.0   \n",
       "2                        16.0    22535.0            23.0          373.0   \n",
       "3                        29.0    14924.0            55.0           85.0   \n",
       "\n",
       "   Wards  Boundaries - ZIP Codes Police Districts  Police Beats  \n",
       "0   23.0                    30.0             16.0          82.0  \n",
       "1   14.0                    57.0             21.0         153.0  \n",
       "2   40.0                     1.0              7.0         192.0  \n",
       "3    3.0                    56.0             23.0         115.0  \n",
       "\n",
       "[4 rows x 30 columns]"
      ]
     },
     "execution_count": 46,
     "metadata": {},
     "output_type": "execute_result"
    }
   ],
   "source": [
    "crime_df_filtered=read_crime_filtered_data()\n",
    "crime_df_filtered.head(4)\n"
   ]
  },
  {
   "cell_type": "code",
   "execution_count": 34,
   "metadata": {},
   "outputs": [
    {
     "ename": "error",
     "evalue": "missing ), unterminated subpattern at position 0",
     "output_type": "error",
     "traceback": [
      "\u001b[1;31m---------------------------------------------------------------------------\u001b[0m",
      "\u001b[1;31merror\u001b[0m                                     Traceback (most recent call last)",
      "\u001b[1;32m<ipython-input-34-a4d496e5176f>\u001b[0m in \u001b[0;36m<module>\u001b[1;34m\u001b[0m\n\u001b[0;32m      1\u001b[0m \u001b[1;33m\u001b[0m\u001b[0m\n\u001b[0;32m      2\u001b[0m \u001b[0mcrime_df_filtered\u001b[0m \u001b[1;33m=\u001b[0m \u001b[0mcrime_df_filtered\u001b[0m\u001b[1;33m.\u001b[0m\u001b[0mdropna\u001b[0m\u001b[1;33m(\u001b[0m\u001b[0maxis\u001b[0m \u001b[1;33m=\u001b[0m \u001b[1;36m0\u001b[0m\u001b[1;33m,\u001b[0m \u001b[0mhow\u001b[0m \u001b[1;33m=\u001b[0m\u001b[1;34m'any'\u001b[0m\u001b[1;33m)\u001b[0m\u001b[1;33m\u001b[0m\u001b[1;33m\u001b[0m\u001b[0m\n\u001b[1;32m----> 3\u001b[1;33m \u001b[0mcrime_df_filtered\u001b[0m\u001b[1;33m[\u001b[0m\u001b[1;34m'Location'\u001b[0m\u001b[1;33m]\u001b[0m\u001b[1;33m.\u001b[0m\u001b[0mstr\u001b[0m\u001b[1;33m.\u001b[0m\u001b[0mcontains\u001b[0m\u001b[1;33m(\u001b[0m\u001b[1;34m'('\u001b[0m\u001b[1;33m)\u001b[0m\u001b[1;33m\u001b[0m\u001b[1;33m\u001b[0m\u001b[0m\n\u001b[0m\u001b[0;32m      4\u001b[0m \u001b[1;33m\u001b[0m\u001b[0m\n",
      "\u001b[1;32m~\\Anaconda3\\envs\\pythonData\\lib\\site-packages\\pandas\\core\\strings.py\u001b[0m in \u001b[0;36mcontains\u001b[1;34m(self, pat, case, flags, na, regex)\u001b[0m\n\u001b[0;32m   2521\u001b[0m     \u001b[1;32mdef\u001b[0m \u001b[0mcontains\u001b[0m\u001b[1;33m(\u001b[0m\u001b[0mself\u001b[0m\u001b[1;33m,\u001b[0m \u001b[0mpat\u001b[0m\u001b[1;33m,\u001b[0m \u001b[0mcase\u001b[0m\u001b[1;33m=\u001b[0m\u001b[1;32mTrue\u001b[0m\u001b[1;33m,\u001b[0m \u001b[0mflags\u001b[0m\u001b[1;33m=\u001b[0m\u001b[1;36m0\u001b[0m\u001b[1;33m,\u001b[0m \u001b[0mna\u001b[0m\u001b[1;33m=\u001b[0m\u001b[0mnp\u001b[0m\u001b[1;33m.\u001b[0m\u001b[0mnan\u001b[0m\u001b[1;33m,\u001b[0m \u001b[0mregex\u001b[0m\u001b[1;33m=\u001b[0m\u001b[1;32mTrue\u001b[0m\u001b[1;33m)\u001b[0m\u001b[1;33m:\u001b[0m\u001b[1;33m\u001b[0m\u001b[1;33m\u001b[0m\u001b[0m\n\u001b[0;32m   2522\u001b[0m         result = str_contains(self._parent, pat, case=case, flags=flags, na=na,\n\u001b[1;32m-> 2523\u001b[1;33m                               regex=regex)\n\u001b[0m\u001b[0;32m   2524\u001b[0m         \u001b[1;32mreturn\u001b[0m \u001b[0mself\u001b[0m\u001b[1;33m.\u001b[0m\u001b[0m_wrap_result\u001b[0m\u001b[1;33m(\u001b[0m\u001b[0mresult\u001b[0m\u001b[1;33m,\u001b[0m \u001b[0mfill_value\u001b[0m\u001b[1;33m=\u001b[0m\u001b[0mna\u001b[0m\u001b[1;33m)\u001b[0m\u001b[1;33m\u001b[0m\u001b[1;33m\u001b[0m\u001b[0m\n\u001b[0;32m   2525\u001b[0m \u001b[1;33m\u001b[0m\u001b[0m\n",
      "\u001b[1;32m~\\Anaconda3\\envs\\pythonData\\lib\\site-packages\\pandas\\core\\strings.py\u001b[0m in \u001b[0;36mstr_contains\u001b[1;34m(arr, pat, case, flags, na, regex)\u001b[0m\n\u001b[0;32m    297\u001b[0m             \u001b[0mflags\u001b[0m \u001b[1;33m|=\u001b[0m \u001b[0mre\u001b[0m\u001b[1;33m.\u001b[0m\u001b[0mIGNORECASE\u001b[0m\u001b[1;33m\u001b[0m\u001b[1;33m\u001b[0m\u001b[0m\n\u001b[0;32m    298\u001b[0m \u001b[1;33m\u001b[0m\u001b[0m\n\u001b[1;32m--> 299\u001b[1;33m         \u001b[0mregex\u001b[0m \u001b[1;33m=\u001b[0m \u001b[0mre\u001b[0m\u001b[1;33m.\u001b[0m\u001b[0mcompile\u001b[0m\u001b[1;33m(\u001b[0m\u001b[0mpat\u001b[0m\u001b[1;33m,\u001b[0m \u001b[0mflags\u001b[0m\u001b[1;33m=\u001b[0m\u001b[0mflags\u001b[0m\u001b[1;33m)\u001b[0m\u001b[1;33m\u001b[0m\u001b[1;33m\u001b[0m\u001b[0m\n\u001b[0m\u001b[0;32m    300\u001b[0m \u001b[1;33m\u001b[0m\u001b[0m\n\u001b[0;32m    301\u001b[0m         \u001b[1;32mif\u001b[0m \u001b[0mregex\u001b[0m\u001b[1;33m.\u001b[0m\u001b[0mgroups\u001b[0m \u001b[1;33m>\u001b[0m \u001b[1;36m0\u001b[0m\u001b[1;33m:\u001b[0m\u001b[1;33m\u001b[0m\u001b[1;33m\u001b[0m\u001b[0m\n",
      "\u001b[1;32m~\\Anaconda3\\envs\\pythonData\\lib\\re.py\u001b[0m in \u001b[0;36mcompile\u001b[1;34m(pattern, flags)\u001b[0m\n\u001b[0;32m    232\u001b[0m \u001b[1;32mdef\u001b[0m \u001b[0mcompile\u001b[0m\u001b[1;33m(\u001b[0m\u001b[0mpattern\u001b[0m\u001b[1;33m,\u001b[0m \u001b[0mflags\u001b[0m\u001b[1;33m=\u001b[0m\u001b[1;36m0\u001b[0m\u001b[1;33m)\u001b[0m\u001b[1;33m:\u001b[0m\u001b[1;33m\u001b[0m\u001b[1;33m\u001b[0m\u001b[0m\n\u001b[0;32m    233\u001b[0m     \u001b[1;34m\"Compile a regular expression pattern, returning a Pattern object.\"\u001b[0m\u001b[1;33m\u001b[0m\u001b[1;33m\u001b[0m\u001b[0m\n\u001b[1;32m--> 234\u001b[1;33m     \u001b[1;32mreturn\u001b[0m \u001b[0m_compile\u001b[0m\u001b[1;33m(\u001b[0m\u001b[0mpattern\u001b[0m\u001b[1;33m,\u001b[0m \u001b[0mflags\u001b[0m\u001b[1;33m)\u001b[0m\u001b[1;33m\u001b[0m\u001b[1;33m\u001b[0m\u001b[0m\n\u001b[0m\u001b[0;32m    235\u001b[0m \u001b[1;33m\u001b[0m\u001b[0m\n\u001b[0;32m    236\u001b[0m \u001b[1;32mdef\u001b[0m \u001b[0mpurge\u001b[0m\u001b[1;33m(\u001b[0m\u001b[1;33m)\u001b[0m\u001b[1;33m:\u001b[0m\u001b[1;33m\u001b[0m\u001b[1;33m\u001b[0m\u001b[0m\n",
      "\u001b[1;32m~\\Anaconda3\\envs\\pythonData\\lib\\re.py\u001b[0m in \u001b[0;36m_compile\u001b[1;34m(pattern, flags)\u001b[0m\n\u001b[0;32m    284\u001b[0m     \u001b[1;32mif\u001b[0m \u001b[1;32mnot\u001b[0m \u001b[0msre_compile\u001b[0m\u001b[1;33m.\u001b[0m\u001b[0misstring\u001b[0m\u001b[1;33m(\u001b[0m\u001b[0mpattern\u001b[0m\u001b[1;33m)\u001b[0m\u001b[1;33m:\u001b[0m\u001b[1;33m\u001b[0m\u001b[1;33m\u001b[0m\u001b[0m\n\u001b[0;32m    285\u001b[0m         \u001b[1;32mraise\u001b[0m \u001b[0mTypeError\u001b[0m\u001b[1;33m(\u001b[0m\u001b[1;34m\"first argument must be string or compiled pattern\"\u001b[0m\u001b[1;33m)\u001b[0m\u001b[1;33m\u001b[0m\u001b[1;33m\u001b[0m\u001b[0m\n\u001b[1;32m--> 286\u001b[1;33m     \u001b[0mp\u001b[0m \u001b[1;33m=\u001b[0m \u001b[0msre_compile\u001b[0m\u001b[1;33m.\u001b[0m\u001b[0mcompile\u001b[0m\u001b[1;33m(\u001b[0m\u001b[0mpattern\u001b[0m\u001b[1;33m,\u001b[0m \u001b[0mflags\u001b[0m\u001b[1;33m)\u001b[0m\u001b[1;33m\u001b[0m\u001b[1;33m\u001b[0m\u001b[0m\n\u001b[0m\u001b[0;32m    287\u001b[0m     \u001b[1;32mif\u001b[0m \u001b[1;32mnot\u001b[0m \u001b[1;33m(\u001b[0m\u001b[0mflags\u001b[0m \u001b[1;33m&\u001b[0m \u001b[0mDEBUG\u001b[0m\u001b[1;33m)\u001b[0m\u001b[1;33m:\u001b[0m\u001b[1;33m\u001b[0m\u001b[1;33m\u001b[0m\u001b[0m\n\u001b[0;32m    288\u001b[0m         \u001b[1;32mif\u001b[0m \u001b[0mlen\u001b[0m\u001b[1;33m(\u001b[0m\u001b[0m_cache\u001b[0m\u001b[1;33m)\u001b[0m \u001b[1;33m>=\u001b[0m \u001b[0m_MAXCACHE\u001b[0m\u001b[1;33m:\u001b[0m\u001b[1;33m\u001b[0m\u001b[1;33m\u001b[0m\u001b[0m\n",
      "\u001b[1;32m~\\Anaconda3\\envs\\pythonData\\lib\\sre_compile.py\u001b[0m in \u001b[0;36mcompile\u001b[1;34m(p, flags)\u001b[0m\n\u001b[0;32m    762\u001b[0m     \u001b[1;32mif\u001b[0m \u001b[0misstring\u001b[0m\u001b[1;33m(\u001b[0m\u001b[0mp\u001b[0m\u001b[1;33m)\u001b[0m\u001b[1;33m:\u001b[0m\u001b[1;33m\u001b[0m\u001b[1;33m\u001b[0m\u001b[0m\n\u001b[0;32m    763\u001b[0m         \u001b[0mpattern\u001b[0m \u001b[1;33m=\u001b[0m \u001b[0mp\u001b[0m\u001b[1;33m\u001b[0m\u001b[1;33m\u001b[0m\u001b[0m\n\u001b[1;32m--> 764\u001b[1;33m         \u001b[0mp\u001b[0m \u001b[1;33m=\u001b[0m \u001b[0msre_parse\u001b[0m\u001b[1;33m.\u001b[0m\u001b[0mparse\u001b[0m\u001b[1;33m(\u001b[0m\u001b[0mp\u001b[0m\u001b[1;33m,\u001b[0m \u001b[0mflags\u001b[0m\u001b[1;33m)\u001b[0m\u001b[1;33m\u001b[0m\u001b[1;33m\u001b[0m\u001b[0m\n\u001b[0m\u001b[0;32m    765\u001b[0m     \u001b[1;32melse\u001b[0m\u001b[1;33m:\u001b[0m\u001b[1;33m\u001b[0m\u001b[1;33m\u001b[0m\u001b[0m\n\u001b[0;32m    766\u001b[0m         \u001b[0mpattern\u001b[0m \u001b[1;33m=\u001b[0m \u001b[1;32mNone\u001b[0m\u001b[1;33m\u001b[0m\u001b[1;33m\u001b[0m\u001b[0m\n",
      "\u001b[1;32m~\\Anaconda3\\envs\\pythonData\\lib\\sre_parse.py\u001b[0m in \u001b[0;36mparse\u001b[1;34m(str, flags, pattern)\u001b[0m\n\u001b[0;32m    928\u001b[0m \u001b[1;33m\u001b[0m\u001b[0m\n\u001b[0;32m    929\u001b[0m     \u001b[1;32mtry\u001b[0m\u001b[1;33m:\u001b[0m\u001b[1;33m\u001b[0m\u001b[1;33m\u001b[0m\u001b[0m\n\u001b[1;32m--> 930\u001b[1;33m         \u001b[0mp\u001b[0m \u001b[1;33m=\u001b[0m \u001b[0m_parse_sub\u001b[0m\u001b[1;33m(\u001b[0m\u001b[0msource\u001b[0m\u001b[1;33m,\u001b[0m \u001b[0mpattern\u001b[0m\u001b[1;33m,\u001b[0m \u001b[0mflags\u001b[0m \u001b[1;33m&\u001b[0m \u001b[0mSRE_FLAG_VERBOSE\u001b[0m\u001b[1;33m,\u001b[0m \u001b[1;36m0\u001b[0m\u001b[1;33m)\u001b[0m\u001b[1;33m\u001b[0m\u001b[1;33m\u001b[0m\u001b[0m\n\u001b[0m\u001b[0;32m    931\u001b[0m     \u001b[1;32mexcept\u001b[0m \u001b[0mVerbose\u001b[0m\u001b[1;33m:\u001b[0m\u001b[1;33m\u001b[0m\u001b[1;33m\u001b[0m\u001b[0m\n\u001b[0;32m    932\u001b[0m         \u001b[1;31m# the VERBOSE flag was switched on inside the pattern.  to be\u001b[0m\u001b[1;33m\u001b[0m\u001b[1;33m\u001b[0m\u001b[1;33m\u001b[0m\u001b[0m\n",
      "\u001b[1;32m~\\Anaconda3\\envs\\pythonData\\lib\\sre_parse.py\u001b[0m in \u001b[0;36m_parse_sub\u001b[1;34m(source, state, verbose, nested)\u001b[0m\n\u001b[0;32m    424\u001b[0m     \u001b[1;32mwhile\u001b[0m \u001b[1;32mTrue\u001b[0m\u001b[1;33m:\u001b[0m\u001b[1;33m\u001b[0m\u001b[1;33m\u001b[0m\u001b[0m\n\u001b[0;32m    425\u001b[0m         itemsappend(_parse(source, state, verbose, nested + 1,\n\u001b[1;32m--> 426\u001b[1;33m                            not nested and not items))\n\u001b[0m\u001b[0;32m    427\u001b[0m         \u001b[1;32mif\u001b[0m \u001b[1;32mnot\u001b[0m \u001b[0msourcematch\u001b[0m\u001b[1;33m(\u001b[0m\u001b[1;34m\"|\"\u001b[0m\u001b[1;33m)\u001b[0m\u001b[1;33m:\u001b[0m\u001b[1;33m\u001b[0m\u001b[1;33m\u001b[0m\u001b[0m\n\u001b[0;32m    428\u001b[0m             \u001b[1;32mbreak\u001b[0m\u001b[1;33m\u001b[0m\u001b[1;33m\u001b[0m\u001b[0m\n",
      "\u001b[1;32m~\\Anaconda3\\envs\\pythonData\\lib\\sre_parse.py\u001b[0m in \u001b[0;36m_parse\u001b[1;34m(source, state, verbose, nested, first)\u001b[0m\n\u001b[0;32m    817\u001b[0m             \u001b[1;32mif\u001b[0m \u001b[1;32mnot\u001b[0m \u001b[0msource\u001b[0m\u001b[1;33m.\u001b[0m\u001b[0mmatch\u001b[0m\u001b[1;33m(\u001b[0m\u001b[1;34m\")\"\u001b[0m\u001b[1;33m)\u001b[0m\u001b[1;33m:\u001b[0m\u001b[1;33m\u001b[0m\u001b[1;33m\u001b[0m\u001b[0m\n\u001b[0;32m    818\u001b[0m                 raise source.error(\"missing ), unterminated subpattern\",\n\u001b[1;32m--> 819\u001b[1;33m                                    source.tell() - start)\n\u001b[0m\u001b[0;32m    820\u001b[0m             \u001b[1;32mif\u001b[0m \u001b[0mgroup\u001b[0m \u001b[1;32mis\u001b[0m \u001b[1;32mnot\u001b[0m \u001b[1;32mNone\u001b[0m\u001b[1;33m:\u001b[0m\u001b[1;33m\u001b[0m\u001b[1;33m\u001b[0m\u001b[0m\n\u001b[0;32m    821\u001b[0m                 \u001b[0mstate\u001b[0m\u001b[1;33m.\u001b[0m\u001b[0mclosegroup\u001b[0m\u001b[1;33m(\u001b[0m\u001b[0mgroup\u001b[0m\u001b[1;33m,\u001b[0m \u001b[0mp\u001b[0m\u001b[1;33m)\u001b[0m\u001b[1;33m\u001b[0m\u001b[1;33m\u001b[0m\u001b[0m\n",
      "\u001b[1;31merror\u001b[0m: missing ), unterminated subpattern at position 0"
     ]
    }
   ],
   "source": [
    "\n",
    "crime_df_filtered = crime_df_filtered.dropna(axis = 0, how ='any') \n",
    "\n",
    "    "
   ]
  },
  {
   "cell_type": "code",
   "execution_count": 42,
   "metadata": {},
   "outputs": [],
   "source": [
    "import folium\n",
    "chicago_map_crime = folium.Map(location=[41.895140898, -87.624255632],\n",
    "                        zoom_start=13,\n",
    "                        tiles=\"CartoDB dark_matter\")\n",
    "\n",
    "for i in range(10):\n",
    "    lat = crime_df_filtered['Latitude'].iloc[i]\n",
    "    long = crime_df_filtered['Longitude'].iloc[i]\n",
    "    radius = 10\n",
    "\n",
    "    popup_text = \"\"\"Latitude : {}<br>\n",
    "                Longitude : {}<br>\n",
    "                Criminal Incidents : {}<br>\"\"\"\n",
    "    popup_text = popup_text.format(lat,\n",
    "                               long,\n",
    "                               crime_df_filtered['Location'].value_counts()\n",
    "                               )\n",
    "    folium.CircleMarker(location = [lat, long], popup= popup_text,radius = radius, color = '#3db7e4', fill = True).add_to(chicago_map_crime)\n",
    "\n",
    "chicago_map_crime.save('ChicagoMapPlotFoliums.html')    "
   ]
  },
  {
   "cell_type": "code",
   "execution_count": 39,
   "metadata": {},
   "outputs": [
    {
     "ename": "KeyboardInterrupt",
     "evalue": "",
     "output_type": "error",
     "traceback": [
      "\u001b[1;31m---------------------------------------------------------------------------\u001b[0m",
      "\u001b[1;31mKeyboardInterrupt\u001b[0m                         Traceback (most recent call last)",
      "\u001b[1;32m<ipython-input-39-58e618e4c88e>\u001b[0m in \u001b[0;36m<module>\u001b[1;34m\u001b[0m\n\u001b[0;32m      4\u001b[0m                         \u001b[0mradius\u001b[0m\u001b[1;33m=\u001b[0m\u001b[1;36m15\u001b[0m\u001b[1;33m,\u001b[0m\u001b[1;33m\u001b[0m\u001b[1;33m\u001b[0m\u001b[0m\n\u001b[0;32m      5\u001b[0m                         \u001b[0mpopup\u001b[0m\u001b[1;33m=\u001b[0m\u001b[0mrow\u001b[0m\u001b[1;33m[\u001b[0m\u001b[1;34m'CrimeType'\u001b[0m\u001b[1;33m]\u001b[0m\u001b[1;33m,\u001b[0m\u001b[1;33m\u001b[0m\u001b[1;33m\u001b[0m\u001b[0m\n\u001b[1;32m----> 6\u001b[1;33m                         \u001b[0mfill_color\u001b[0m\u001b[1;33m=\u001b[0m\u001b[1;34m\"#3db7e4\"\u001b[0m\u001b[1;33m,\u001b[0m \u001b[1;31m# divvy color\u001b[0m\u001b[1;33m\u001b[0m\u001b[1;33m\u001b[0m\u001b[0m\n\u001b[0m\u001b[0;32m      7\u001b[0m                        ).add_to(m)\n",
      "\u001b[1;32m~\\Anaconda3\\envs\\pythonData\\lib\\site-packages\\folium\\vector_layers.py\u001b[0m in \u001b[0;36m__init__\u001b[1;34m(self, location, radius, popup, tooltip, **kwargs)\u001b[0m\n\u001b[0;32m    303\u001b[0m     \u001b[1;32mdef\u001b[0m \u001b[0m__init__\u001b[0m\u001b[1;33m(\u001b[0m\u001b[0mself\u001b[0m\u001b[1;33m,\u001b[0m \u001b[0mlocation\u001b[0m\u001b[1;33m,\u001b[0m \u001b[0mradius\u001b[0m\u001b[1;33m=\u001b[0m\u001b[1;36m10\u001b[0m\u001b[1;33m,\u001b[0m \u001b[0mpopup\u001b[0m\u001b[1;33m=\u001b[0m\u001b[1;32mNone\u001b[0m\u001b[1;33m,\u001b[0m \u001b[0mtooltip\u001b[0m\u001b[1;33m=\u001b[0m\u001b[1;32mNone\u001b[0m\u001b[1;33m,\u001b[0m \u001b[1;33m**\u001b[0m\u001b[0mkwargs\u001b[0m\u001b[1;33m)\u001b[0m\u001b[1;33m:\u001b[0m\u001b[1;33m\u001b[0m\u001b[1;33m\u001b[0m\u001b[0m\n\u001b[0;32m    304\u001b[0m         super(CircleMarker, self).__init__(location, popup=popup,\n\u001b[1;32m--> 305\u001b[1;33m                                            tooltip=tooltip)\n\u001b[0m\u001b[0;32m    306\u001b[0m         \u001b[0mself\u001b[0m\u001b[1;33m.\u001b[0m\u001b[0m_name\u001b[0m \u001b[1;33m=\u001b[0m \u001b[1;34m'CircleMarker'\u001b[0m\u001b[1;33m\u001b[0m\u001b[1;33m\u001b[0m\u001b[0m\n\u001b[0;32m    307\u001b[0m         \u001b[0mself\u001b[0m\u001b[1;33m.\u001b[0m\u001b[0moptions\u001b[0m \u001b[1;33m=\u001b[0m \u001b[0mpath_options\u001b[0m\u001b[1;33m(\u001b[0m\u001b[0mline\u001b[0m\u001b[1;33m=\u001b[0m\u001b[1;32mFalse\u001b[0m\u001b[1;33m,\u001b[0m \u001b[0mradius\u001b[0m\u001b[1;33m=\u001b[0m\u001b[0mradius\u001b[0m\u001b[1;33m,\u001b[0m \u001b[1;33m**\u001b[0m\u001b[0mkwargs\u001b[0m\u001b[1;33m)\u001b[0m\u001b[1;33m\u001b[0m\u001b[1;33m\u001b[0m\u001b[0m\n",
      "\u001b[1;32m~\\Anaconda3\\envs\\pythonData\\lib\\site-packages\\folium\\map.py\u001b[0m in \u001b[0;36m__init__\u001b[1;34m(self, location, popup, tooltip, icon, draggable, **kwargs)\u001b[0m\n\u001b[0;32m    285\u001b[0m         \u001b[1;32mif\u001b[0m \u001b[0mpopup\u001b[0m \u001b[1;32mis\u001b[0m \u001b[1;32mnot\u001b[0m \u001b[1;32mNone\u001b[0m\u001b[1;33m:\u001b[0m\u001b[1;33m\u001b[0m\u001b[1;33m\u001b[0m\u001b[0m\n\u001b[0;32m    286\u001b[0m             self.add_child(popup if isinstance(popup, Popup)\n\u001b[1;32m--> 287\u001b[1;33m                            else Popup(str(popup)))\n\u001b[0m\u001b[0;32m    288\u001b[0m         \u001b[1;32mif\u001b[0m \u001b[0mtooltip\u001b[0m \u001b[1;32mis\u001b[0m \u001b[1;32mnot\u001b[0m \u001b[1;32mNone\u001b[0m\u001b[1;33m:\u001b[0m\u001b[1;33m\u001b[0m\u001b[1;33m\u001b[0m\u001b[0m\n\u001b[0;32m    289\u001b[0m             self.add_child(tooltip if isinstance(tooltip, Tooltip)\n",
      "\u001b[1;32m~\\Anaconda3\\envs\\pythonData\\lib\\site-packages\\folium\\map.py\u001b[0m in \u001b[0;36m__init__\u001b[1;34m(self, html, parse_html, max_width, show, sticky, **kwargs)\u001b[0m\n\u001b[0;32m    334\u001b[0m         \u001b[0msuper\u001b[0m\u001b[1;33m(\u001b[0m\u001b[0mPopup\u001b[0m\u001b[1;33m,\u001b[0m \u001b[0mself\u001b[0m\u001b[1;33m)\u001b[0m\u001b[1;33m.\u001b[0m\u001b[0m__init__\u001b[0m\u001b[1;33m(\u001b[0m\u001b[1;33m)\u001b[0m\u001b[1;33m\u001b[0m\u001b[1;33m\u001b[0m\u001b[0m\n\u001b[0;32m    335\u001b[0m         \u001b[0mself\u001b[0m\u001b[1;33m.\u001b[0m\u001b[0m_name\u001b[0m \u001b[1;33m=\u001b[0m \u001b[1;34m'Popup'\u001b[0m\u001b[1;33m\u001b[0m\u001b[1;33m\u001b[0m\u001b[0m\n\u001b[1;32m--> 336\u001b[1;33m         \u001b[0mself\u001b[0m\u001b[1;33m.\u001b[0m\u001b[0mheader\u001b[0m \u001b[1;33m=\u001b[0m \u001b[0mElement\u001b[0m\u001b[1;33m(\u001b[0m\u001b[1;33m)\u001b[0m\u001b[1;33m\u001b[0m\u001b[1;33m\u001b[0m\u001b[0m\n\u001b[0m\u001b[0;32m    337\u001b[0m         \u001b[0mself\u001b[0m\u001b[1;33m.\u001b[0m\u001b[0mhtml\u001b[0m \u001b[1;33m=\u001b[0m \u001b[0mElement\u001b[0m\u001b[1;33m(\u001b[0m\u001b[1;33m)\u001b[0m\u001b[1;33m\u001b[0m\u001b[1;33m\u001b[0m\u001b[0m\n\u001b[0;32m    338\u001b[0m         \u001b[0mself\u001b[0m\u001b[1;33m.\u001b[0m\u001b[0mscript\u001b[0m \u001b[1;33m=\u001b[0m \u001b[0mElement\u001b[0m\u001b[1;33m(\u001b[0m\u001b[1;33m)\u001b[0m\u001b[1;33m\u001b[0m\u001b[1;33m\u001b[0m\u001b[0m\n",
      "\u001b[1;32m~\\Anaconda3\\envs\\pythonData\\lib\\site-packages\\branca\\element.py\u001b[0m in \u001b[0;36m__init__\u001b[1;34m(self, template, template_name)\u001b[0m\n\u001b[0;32m     53\u001b[0m     \u001b[1;32mdef\u001b[0m \u001b[0m__init__\u001b[0m\u001b[1;33m(\u001b[0m\u001b[0mself\u001b[0m\u001b[1;33m,\u001b[0m \u001b[0mtemplate\u001b[0m\u001b[1;33m=\u001b[0m\u001b[1;32mNone\u001b[0m\u001b[1;33m,\u001b[0m \u001b[0mtemplate_name\u001b[0m\u001b[1;33m=\u001b[0m\u001b[1;32mNone\u001b[0m\u001b[1;33m)\u001b[0m\u001b[1;33m:\u001b[0m\u001b[1;33m\u001b[0m\u001b[1;33m\u001b[0m\u001b[0m\n\u001b[0;32m     54\u001b[0m         \u001b[0mself\u001b[0m\u001b[1;33m.\u001b[0m\u001b[0m_name\u001b[0m \u001b[1;33m=\u001b[0m \u001b[1;34m'Element'\u001b[0m\u001b[1;33m\u001b[0m\u001b[1;33m\u001b[0m\u001b[0m\n\u001b[1;32m---> 55\u001b[1;33m         \u001b[0mself\u001b[0m\u001b[1;33m.\u001b[0m\u001b[0m_id\u001b[0m \u001b[1;33m=\u001b[0m \u001b[0muuid4\u001b[0m\u001b[1;33m(\u001b[0m\u001b[1;33m)\u001b[0m\u001b[1;33m.\u001b[0m\u001b[0mhex\u001b[0m\u001b[1;33m\u001b[0m\u001b[1;33m\u001b[0m\u001b[0m\n\u001b[0m\u001b[0;32m     56\u001b[0m         \u001b[0mself\u001b[0m\u001b[1;33m.\u001b[0m\u001b[0m_env\u001b[0m \u001b[1;33m=\u001b[0m \u001b[0mENV\u001b[0m\u001b[1;33m\u001b[0m\u001b[1;33m\u001b[0m\u001b[0m\n\u001b[0;32m     57\u001b[0m         \u001b[0mself\u001b[0m\u001b[1;33m.\u001b[0m\u001b[0m_children\u001b[0m \u001b[1;33m=\u001b[0m \u001b[0mOrderedDict\u001b[0m\u001b[1;33m(\u001b[0m\u001b[1;33m)\u001b[0m\u001b[1;33m\u001b[0m\u001b[1;33m\u001b[0m\u001b[0m\n",
      "\u001b[1;32m~\\Anaconda3\\envs\\pythonData\\lib\\uuid.py\u001b[0m in \u001b[0;36muuid4\u001b[1;34m()\u001b[0m\n\u001b[0;32m    757\u001b[0m \u001b[1;32mdef\u001b[0m \u001b[0muuid4\u001b[0m\u001b[1;33m(\u001b[0m\u001b[1;33m)\u001b[0m\u001b[1;33m:\u001b[0m\u001b[1;33m\u001b[0m\u001b[1;33m\u001b[0m\u001b[0m\n\u001b[0;32m    758\u001b[0m     \u001b[1;34m\"\"\"Generate a random UUID.\"\"\"\u001b[0m\u001b[1;33m\u001b[0m\u001b[1;33m\u001b[0m\u001b[0m\n\u001b[1;32m--> 759\u001b[1;33m     \u001b[1;32mreturn\u001b[0m \u001b[0mUUID\u001b[0m\u001b[1;33m(\u001b[0m\u001b[0mbytes\u001b[0m\u001b[1;33m=\u001b[0m\u001b[0mos\u001b[0m\u001b[1;33m.\u001b[0m\u001b[0murandom\u001b[0m\u001b[1;33m(\u001b[0m\u001b[1;36m16\u001b[0m\u001b[1;33m)\u001b[0m\u001b[1;33m,\u001b[0m \u001b[0mversion\u001b[0m\u001b[1;33m=\u001b[0m\u001b[1;36m4\u001b[0m\u001b[1;33m)\u001b[0m\u001b[1;33m\u001b[0m\u001b[1;33m\u001b[0m\u001b[0m\n\u001b[0m\u001b[0;32m    760\u001b[0m \u001b[1;33m\u001b[0m\u001b[0m\n\u001b[0;32m    761\u001b[0m \u001b[1;32mdef\u001b[0m \u001b[0muuid5\u001b[0m\u001b[1;33m(\u001b[0m\u001b[0mnamespace\u001b[0m\u001b[1;33m,\u001b[0m \u001b[0mname\u001b[0m\u001b[1;33m)\u001b[0m\u001b[1;33m:\u001b[0m\u001b[1;33m\u001b[0m\u001b[1;33m\u001b[0m\u001b[0m\n",
      "\u001b[1;32m~\\Anaconda3\\envs\\pythonData\\lib\\uuid.py\u001b[0m in \u001b[0;36m__init__\u001b[1;34m(self, hex, bytes, bytes_le, fields, int, version, is_safe)\u001b[0m\n\u001b[0;32m    119\u001b[0m     \"\"\"\n\u001b[0;32m    120\u001b[0m \u001b[1;33m\u001b[0m\u001b[0m\n\u001b[1;32m--> 121\u001b[1;33m     def __init__(self, hex=None, bytes=None, bytes_le=None, fields=None,\n\u001b[0m\u001b[0;32m    122\u001b[0m                        \u001b[0mint\u001b[0m\u001b[1;33m=\u001b[0m\u001b[1;32mNone\u001b[0m\u001b[1;33m,\u001b[0m \u001b[0mversion\u001b[0m\u001b[1;33m=\u001b[0m\u001b[1;32mNone\u001b[0m\u001b[1;33m,\u001b[0m\u001b[1;33m\u001b[0m\u001b[1;33m\u001b[0m\u001b[0m\n\u001b[0;32m    123\u001b[0m                        *, is_safe=SafeUUID.unknown):\n",
      "\u001b[1;31mKeyboardInterrupt\u001b[0m: "
     ]
    }
   ],
   "source": [
    "from folium import plugins\n",
    "import pandas as pd\n",
    "import matplotlib.pyplot as plt\n",
    "import seaborn as sns\n",
    "\n",
    "%matplotlib inline\n",
    "\n",
    "m = folium.Map([41.8781, -87.6298], zoom_start=11)\n",
    "for index, row in crime_df_filtered.iterrows():\n",
    "    folium.CircleMarker([row['Latitude'], row['Longitude']],\n",
    "                        radius=15,\n",
    "                        popup=row['CrimeType'],\n",
    "                        fill_color=\"#3db7e4\", #  color\n",
    "                       ).add_to(m)"
   ]
  },
  {
   "cell_type": "code",
   "execution_count": 43,
   "metadata": {},
   "outputs": [
    {
     "name": "stderr",
     "output_type": "stream",
     "text": [
      "C:\\Users\\divya\\Anaconda3\\envs\\pythonData\\lib\\site-packages\\ipykernel_launcher.py:1: FutureWarning: Method .as_matrix will be removed in a future version. Use .values instead.\n",
      "  \"\"\"Entry point for launching an IPython kernel.\n"
     ]
    },
    {
     "ename": "NameError",
     "evalue": "name 'plugins' is not defined",
     "output_type": "error",
     "traceback": [
      "\u001b[1;31m---------------------------------------------------------------------------\u001b[0m",
      "\u001b[1;31mNameError\u001b[0m                                 Traceback (most recent call last)",
      "\u001b[1;32m<ipython-input-43-50508d8cd649>\u001b[0m in \u001b[0;36m<module>\u001b[1;34m\u001b[0m\n\u001b[0;32m      2\u001b[0m \u001b[1;33m\u001b[0m\u001b[0m\n\u001b[0;32m      3\u001b[0m \u001b[1;31m# plot heatmap\u001b[0m\u001b[1;33m\u001b[0m\u001b[1;33m\u001b[0m\u001b[1;33m\u001b[0m\u001b[0m\n\u001b[1;32m----> 4\u001b[1;33m \u001b[0mchicago_map_crime\u001b[0m\u001b[1;33m.\u001b[0m\u001b[0madd_children\u001b[0m\u001b[1;33m(\u001b[0m\u001b[0mplugins\u001b[0m\u001b[1;33m.\u001b[0m\u001b[0mHeatMap\u001b[0m\u001b[1;33m(\u001b[0m\u001b[0mstationArr\u001b[0m\u001b[1;33m,\u001b[0m \u001b[0mradius\u001b[0m\u001b[1;33m=\u001b[0m\u001b[1;36m15\u001b[0m\u001b[1;33m)\u001b[0m\u001b[1;33m)\u001b[0m\u001b[1;33m\u001b[0m\u001b[1;33m\u001b[0m\u001b[0m\n\u001b[0m\u001b[0;32m      5\u001b[0m \u001b[1;33m\u001b[0m\u001b[0m\n\u001b[0;32m      6\u001b[0m \u001b[1;31m#m.save('ChicagoMapPlotFoliums.html')\u001b[0m\u001b[1;33m\u001b[0m\u001b[1;33m\u001b[0m\u001b[1;33m\u001b[0m\u001b[0m\n",
      "\u001b[1;31mNameError\u001b[0m: name 'plugins' is not defined"
     ]
    }
   ],
   "source": [
    "stationArr = crime_df_filtered[['Latitude', 'Longitude']].as_matrix()\n",
    "\n",
    "# plot heatmap\n",
    "chicago_map_crime.add_children(plugins.HeatMap(stationArr, radius=15))\n",
    "\n",
    "#m.save('ChicagoMapPlotFoliums.html')"
   ]
  }
 ],
 "metadata": {
  "kernelspec": {
   "display_name": "Python [conda env:pythonData] *",
   "language": "python",
   "name": "conda-env-pythonData-py"
  },
  "language_info": {
   "codemirror_mode": {
    "name": "ipython",
    "version": 3
   },
   "file_extension": ".py",
   "mimetype": "text/x-python",
   "name": "python",
   "nbconvert_exporter": "python",
   "pygments_lexer": "ipython3",
   "version": "3.7.3"
  }
 },
 "nbformat": 4,
 "nbformat_minor": 2
}
