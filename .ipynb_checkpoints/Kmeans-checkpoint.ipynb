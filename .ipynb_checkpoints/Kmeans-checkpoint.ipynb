{
 "cells": [
  {
   "cell_type": "code",
   "execution_count": 1,
   "metadata": {},
   "outputs": [],
   "source": [
    "%matplotlib inline\n",
    "\n",
    "import matplotlib.pyplot as plt\n",
    "import pandas as pd\n",
    "import numpy as np\n",
    "\n",
    "from IPython.display import IFrame\n",
    "from IPython.core.display import display\n",
    "import os\n",
    "import time\n",
    "import seaborn as sns"
   ]
  },
  {
   "cell_type": "code",
   "execution_count": 2,
   "metadata": {},
   "outputs": [],
   "source": [
    "### Load the data that is time ready for machine learning code.\n",
    "def read_crime_data():\n",
    "    \n",
    "    file = os.path.join('../Resources','prepared_data_MLXY_500.csv')\n",
    "    crime_df = pd.read_csv(file)\n",
    "    return crime_df"
   ]
  },
  {
   "cell_type": "code",
   "execution_count": 3,
   "metadata": {},
   "outputs": [],
   "source": [
    "df_cleaned=read_crime_data()"
   ]
  },
  {
   "cell_type": "code",
   "execution_count": 4,
   "metadata": {},
   "outputs": [
    {
     "data": {
      "text/html": [
       "<div>\n",
       "<style scoped>\n",
       "    .dataframe tbody tr th:only-of-type {\n",
       "        vertical-align: middle;\n",
       "    }\n",
       "\n",
       "    .dataframe tbody tr th {\n",
       "        vertical-align: top;\n",
       "    }\n",
       "\n",
       "    .dataframe thead th {\n",
       "        text-align: right;\n",
       "    }\n",
       "</style>\n",
       "<table border=\"1\" class=\"dataframe\">\n",
       "  <thead>\n",
       "    <tr style=\"text-align: right;\">\n",
       "      <th></th>\n",
       "      <th>ID</th>\n",
       "      <th>Date</th>\n",
       "      <th>IUCR</th>\n",
       "      <th>CrimeType</th>\n",
       "      <th>Location Description</th>\n",
       "      <th>Arrest</th>\n",
       "      <th>Domestic</th>\n",
       "      <th>Ward</th>\n",
       "      <th>Community Area</th>\n",
       "      <th>FBI Code</th>\n",
       "      <th>...</th>\n",
       "      <th>Police Districts</th>\n",
       "      <th>Police Beats</th>\n",
       "      <th>OnlyDate</th>\n",
       "      <th>Time</th>\n",
       "      <th>time_hour</th>\n",
       "      <th>hourofday</th>\n",
       "      <th>sin_time</th>\n",
       "      <th>cos_time</th>\n",
       "      <th>XAxis</th>\n",
       "      <th>YAxis</th>\n",
       "    </tr>\n",
       "  </thead>\n",
       "  <tbody>\n",
       "    <tr>\n",
       "      <th>0</th>\n",
       "      <td>11858344</td>\n",
       "      <td>10/12/2019 08:00:00 AM</td>\n",
       "      <td>820</td>\n",
       "      <td>THEFT</td>\n",
       "      <td>STREET</td>\n",
       "      <td>0</td>\n",
       "      <td>0</td>\n",
       "      <td>35.0</td>\n",
       "      <td>16.0</td>\n",
       "      <td>06</td>\n",
       "      <td>...</td>\n",
       "      <td>1.0</td>\n",
       "      <td>20.0</td>\n",
       "      <td>2019-10-12</td>\n",
       "      <td>08:00:00 AM</td>\n",
       "      <td>08:00:00</td>\n",
       "      <td>8</td>\n",
       "      <td>0.81697</td>\n",
       "      <td>-0.57668</td>\n",
       "      <td>1152059.0</td>\n",
       "      <td>1924617.0</td>\n",
       "    </tr>\n",
       "    <tr>\n",
       "      <th>1</th>\n",
       "      <td>11859895</td>\n",
       "      <td>10/12/2019 08:00:00 AM</td>\n",
       "      <td>1310</td>\n",
       "      <td>CRIMINAL DAMAGE</td>\n",
       "      <td>RESIDENCE</td>\n",
       "      <td>0</td>\n",
       "      <td>0</td>\n",
       "      <td>6.0</td>\n",
       "      <td>68.0</td>\n",
       "      <td>14</td>\n",
       "      <td>...</td>\n",
       "      <td>17.0</td>\n",
       "      <td>214.0</td>\n",
       "      <td>2019-10-12</td>\n",
       "      <td>08:00:00 AM</td>\n",
       "      <td>08:00:00</td>\n",
       "      <td>8</td>\n",
       "      <td>0.81697</td>\n",
       "      <td>-0.57668</td>\n",
       "      <td>1174167.0</td>\n",
       "      <td>1858167.0</td>\n",
       "    </tr>\n",
       "    <tr>\n",
       "      <th>2</th>\n",
       "      <td>11862656</td>\n",
       "      <td>10/12/2019 08:00:00 AM</td>\n",
       "      <td>1310</td>\n",
       "      <td>CRIMINAL DAMAGE</td>\n",
       "      <td>SCHOOL, PUBLIC, GROUNDS</td>\n",
       "      <td>0</td>\n",
       "      <td>0</td>\n",
       "      <td>45.0</td>\n",
       "      <td>11.0</td>\n",
       "      <td>14</td>\n",
       "      <td>...</td>\n",
       "      <td>12.0</td>\n",
       "      <td>58.0</td>\n",
       "      <td>2019-10-12</td>\n",
       "      <td>08:00:00 AM</td>\n",
       "      <td>08:00:00</td>\n",
       "      <td>8</td>\n",
       "      <td>0.81697</td>\n",
       "      <td>-0.57668</td>\n",
       "      <td>1140791.0</td>\n",
       "      <td>1932993.0</td>\n",
       "    </tr>\n",
       "  </tbody>\n",
       "</table>\n",
       "<p>3 rows × 29 columns</p>\n",
       "</div>"
      ],
      "text/plain": [
       "         ID                    Date  IUCR        CrimeType  \\\n",
       "0  11858344  10/12/2019 08:00:00 AM   820            THEFT   \n",
       "1  11859895  10/12/2019 08:00:00 AM  1310  CRIMINAL DAMAGE   \n",
       "2  11862656  10/12/2019 08:00:00 AM  1310  CRIMINAL DAMAGE   \n",
       "\n",
       "      Location Description  Arrest  Domestic  Ward  Community Area FBI Code  \\\n",
       "0                   STREET       0         0  35.0            16.0       06   \n",
       "1                RESIDENCE       0         0   6.0            68.0       14   \n",
       "2  SCHOOL, PUBLIC, GROUNDS       0         0  45.0            11.0       14   \n",
       "\n",
       "   ...  Police Districts Police Beats    OnlyDate         Time  time_hour  \\\n",
       "0  ...               1.0         20.0  2019-10-12  08:00:00 AM   08:00:00   \n",
       "1  ...              17.0        214.0  2019-10-12  08:00:00 AM   08:00:00   \n",
       "2  ...              12.0         58.0  2019-10-12  08:00:00 AM   08:00:00   \n",
       "\n",
       "   hourofday  sin_time  cos_time      XAxis      YAxis  \n",
       "0          8   0.81697  -0.57668  1152059.0  1924617.0  \n",
       "1          8   0.81697  -0.57668  1174167.0  1858167.0  \n",
       "2          8   0.81697  -0.57668  1140791.0  1932993.0  \n",
       "\n",
       "[3 rows x 29 columns]"
      ]
     },
     "execution_count": 4,
     "metadata": {},
     "output_type": "execute_result"
    }
   ],
   "source": [
    "df_cleaned.head(3)"
   ]
  },
  {
   "cell_type": "code",
   "execution_count": 5,
   "metadata": {},
   "outputs": [
    {
     "data": {
      "text/plain": [
       "(6285967, 29)"
      ]
     },
     "execution_count": 5,
     "metadata": {},
     "output_type": "execute_result"
    }
   ],
   "source": [
    "df_cleaned.shape"
   ]
  },
  {
   "cell_type": "markdown",
   "metadata": {},
   "source": [
    "### Checking my data to make sure we have time value converted corectly"
   ]
  },
  {
   "cell_type": "code",
   "execution_count": 6,
   "metadata": {},
   "outputs": [
    {
     "data": {
      "image/png": "[encoded data removed]",
      "text/plain": [
       "<Figure size 432x288 with 1 Axes>"
      ]
     },
     "metadata": {
      "needs_background": "light"
     },
     "output_type": "display_data"
    }
   ],
   "source": [
    "df_cleaned.sample(500).plot.scatter('sin_time','cos_time').set_aspect('equal')"
   ]
  },
  {
   "cell_type": "markdown",
   "metadata": {},
   "source": [
    "## How many rows and columns have we got?"
   ]
  },
  {
   "cell_type": "code",
   "execution_count": 6,
   "metadata": {},
   "outputs": [
    {
     "data": {
      "text/plain": [
       "(6286967, 27)"
      ]
     },
     "execution_count": 6,
     "metadata": {},
     "output_type": "execute_result"
    }
   ],
   "source": [
    "df_cleaned.shape"
   ]
  },
  {
   "cell_type": "code",
   "execution_count": 7,
   "metadata": {
    "scrolled": true
   },
   "outputs": [
    {
     "name": "stderr",
     "output_type": "stream",
     "text": [
      "C:\\Users\\divya\\Anaconda3\\envs\\pythonData\\lib\\site-packages\\ipykernel_launcher.py:6: FutureWarning: Method .as_matrix will be removed in a future version. Use .values instead.\n",
      "  \n"
     ]
    }
   ],
   "source": [
    "import pandas as pd, numpy as np, matplotlib.pyplot as plt\n",
    "from sklearn.cluster import DBSCAN\n",
    "from geopy.distance import great_circle\n",
    "#from shapely.geometry import MultiPoint\n",
    "\n",
    "coords = df_cleaned.as_matrix(columns=['Latitude', 'Longitude'])"
   ]
  },
  {
   "cell_type": "code",
   "execution_count": 9,
   "metadata": {},
   "outputs": [
    {
     "name": "stdout",
     "output_type": "stream",
     "text": [
      "[[ 41.76779521 -87.65782603]\n",
      " [ 41.88074849 -87.72388171]\n",
      " [ 41.85620984 -87.71269511]\n",
      " ...\n",
      " [ 41.98623    -87.66456273]\n",
      " [ 41.78905274 -87.65367933]\n",
      " [ 41.87703581 -87.73859365]]\n"
     ]
    }
   ],
   "source": [
    "print(coords)"
   ]
  },
  {
   "cell_type": "markdown",
   "metadata": {},
   "source": [
    "### Running DBSCAN for all rows leads to memory error. So we divide the dataset into two."
   ]
  },
  {
   "cell_type": "code",
   "execution_count": 28,
   "metadata": {},
   "outputs": [],
   "source": [
    "df_part1 = df_cleaned[0:500]"
   ]
  },
  {
   "cell_type": "code",
   "execution_count": 29,
   "metadata": {},
   "outputs": [
    {
     "data": {
      "text/plain": [
       "(500, 27)"
      ]
     },
     "execution_count": 29,
     "metadata": {},
     "output_type": "execute_result"
    }
   ],
   "source": [
    "df_part1.shape"
   ]
  },
  {
   "cell_type": "code",
   "execution_count": 30,
   "metadata": {},
   "outputs": [
    {
     "name": "stderr",
     "output_type": "stream",
     "text": [
      "C:\\Users\\divya\\Anaconda3\\envs\\pythonData\\lib\\site-packages\\ipykernel_launcher.py:6: FutureWarning: Method .as_matrix will be removed in a future version. Use .values instead.\n",
      "  \n"
     ]
    }
   ],
   "source": [
    "import pandas as pd, numpy as np, matplotlib.pyplot as plt\n",
    "from sklearn.cluster import DBSCAN\n",
    "from geopy.distance import great_circle\n",
    "#from shapely.geometry import MultiPoint\n",
    "\n",
    "coords = df_cleaned.as_matrix(columns=['Latitude', 'Longitude'])"
   ]
  },
  {
   "cell_type": "code",
   "execution_count": 8,
   "metadata": {},
   "outputs": [],
   "source": [
    "# kms_per_radian = 6371.0088\n",
    "# epsilon = 1.5 / kms_per_radian\n",
    "# db = DBSCAN(eps=epsilon, min_samples=1, algorithm='ball_tree', metric='haversine').fit(np.radians(coords))\n",
    "# cluster_labels = db.labels_\n",
    "# num_clusters = len(set(cluster_labels))\n",
    "# clusters = pd.Series([coords[cluster_labels == n] for n in range(num_clusters)])\n",
    "# print('Number of clusters: {}'.format(num_clusters))\n"
   ]
  },
  {
   "cell_type": "markdown",
   "metadata": {},
   "source": [
    "## I’ve got no clusters. Unlike k-means, DBSCAN doesn’t require you to specify the number of clusters in advance – it determines them automatically based on the epsilon and min_samples parameters.\n",
    "\n",
    "##All I have memory error. "
   ]
  },
  {
   "cell_type": "code",
   "execution_count": 9,
   "metadata": {},
   "outputs": [],
   "source": [
    "categorical_features = ['XAxis', 'YAxis','sin_time', 'cos_time']\n",
    "continuous_features = ['IUCR']"
   ]
  },
  {
   "cell_type": "code",
   "execution_count": 10,
   "metadata": {},
   "outputs": [
    {
     "data": {
      "text/html": [
       "<div>\n",
       "<style scoped>\n",
       "    .dataframe tbody tr th:only-of-type {\n",
       "        vertical-align: middle;\n",
       "    }\n",
       "\n",
       "    .dataframe tbody tr th {\n",
       "        vertical-align: top;\n",
       "    }\n",
       "\n",
       "    .dataframe thead th {\n",
       "        text-align: right;\n",
       "    }\n",
       "</style>\n",
       "<table border=\"1\" class=\"dataframe\">\n",
       "  <thead>\n",
       "    <tr style=\"text-align: right;\">\n",
       "      <th></th>\n",
       "      <th>IUCR</th>\n",
       "    </tr>\n",
       "  </thead>\n",
       "  <tbody>\n",
       "    <tr>\n",
       "      <th>count</th>\n",
       "      <td>6.285967e+06</td>\n",
       "    </tr>\n",
       "    <tr>\n",
       "      <th>mean</th>\n",
       "      <td>1.080669e+03</td>\n",
       "    </tr>\n",
       "    <tr>\n",
       "      <th>std</th>\n",
       "      <td>8.162662e+02</td>\n",
       "    </tr>\n",
       "    <tr>\n",
       "      <th>min</th>\n",
       "      <td>3.100000e+01</td>\n",
       "    </tr>\n",
       "    <tr>\n",
       "      <th>25%</th>\n",
       "      <td>5.020000e+02</td>\n",
       "    </tr>\n",
       "    <tr>\n",
       "      <th>50%</th>\n",
       "      <td>8.400000e+02</td>\n",
       "    </tr>\n",
       "    <tr>\n",
       "      <th>75%</th>\n",
       "      <td>1.320000e+03</td>\n",
       "    </tr>\n",
       "    <tr>\n",
       "      <th>max</th>\n",
       "      <td>5.132000e+03</td>\n",
       "    </tr>\n",
       "  </tbody>\n",
       "</table>\n",
       "</div>"
      ],
      "text/plain": [
       "               IUCR\n",
       "count  6.285967e+06\n",
       "mean   1.080669e+03\n",
       "std    8.162662e+02\n",
       "min    3.100000e+01\n",
       "25%    5.020000e+02\n",
       "50%    8.400000e+02\n",
       "75%    1.320000e+03\n",
       "max    5.132000e+03"
      ]
     },
     "execution_count": 10,
     "metadata": {},
     "output_type": "execute_result"
    }
   ],
   "source": [
    "df_cleaned[continuous_features].describe()"
   ]
  },
  {
   "cell_type": "code",
   "execution_count": null,
   "metadata": {},
   "outputs": [],
   "source": []
  },
  {
   "cell_type": "markdown",
   "metadata": {},
   "source": [
    "## To use the categorical features, we need to convert the categorical features to binary using pandas get dummies."
   ]
  },
  {
   "cell_type": "code",
   "execution_count": null,
   "metadata": {},
   "outputs": [],
   "source": [
    "for col in categorical_features:\n",
    "    dummies = pd.get_dummies(df_cleaned[col], prefix=col)\n",
    "    df_cleaned = pd.concat([df_cleaned, dummies], axis=1)\n",
    "    df_cleaned.drop(col, axis=1, inplace=True)\n",
    "df_cleaned.head()"
   ]
  },
  {
   "cell_type": "code",
   "execution_count": null,
   "metadata": {},
   "outputs": [],
   "source": []
  },
  {
   "cell_type": "code",
   "execution_count": null,
   "metadata": {},
   "outputs": [],
   "source": []
  }
 ],
 "metadata": {
  "kernelspec": {
   "display_name": "Python 3",
   "language": "python",
   "name": "python3"
  },
  "language_info": {
   "codemirror_mode": {
    "name": "ipython",
    "version": 3
   },
   "file_extension": ".py",
   "mimetype": "text/x-python",
   "name": "python",
   "nbconvert_exporter": "python",
   "pygments_lexer": "ipython3",
   "version": "3.7.3"
  }
 },
 "nbformat": 4,
 "nbformat_minor": 2
}
